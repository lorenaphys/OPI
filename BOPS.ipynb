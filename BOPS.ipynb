{
 "cells": [
  {
   "cell_type": "markdown",
   "id": "7b1d0be6",
   "metadata": {},
   "source": [
    "# Caso BOPS"
   ]
  },
  {
   "cell_type": "code",
   "execution_count": 39,
   "id": "9b2bbb8d",
   "metadata": {},
   "outputs": [],
   "source": [
    "import pandas as pd\n",
    "import numpy as np"
   ]
  },
  {
   "cell_type": "markdown",
   "id": "9dd8613c",
   "metadata": {},
   "source": [
    "Primero comparamos las ventas totales que se generaron antes y después del lanzamiento de la iniciativa para ver si hubo ganancias o pérdidas."
   ]
  },
  {
   "cell_type": "code",
   "execution_count": 156,
   "id": "9011b04d",
   "metadata": {},
   "outputs": [],
   "source": [
    "bops = pd.read_csv('/home/lorena/Escritorio/OPI/BOPS_case/BOPS_case/bops_bm.csv', encoding='utf-8')"
   ]
  },
  {
   "cell_type": "markdown",
   "id": "f2ae7ea9",
   "metadata": {},
   "source": [
    "El archivo tiene varios huecos, así que hay que removerlos:"
   ]
  },
  {
   "cell_type": "code",
   "execution_count": 157,
   "id": "d924ffe3",
   "metadata": {},
   "outputs": [],
   "source": [
    "for i in range(7,11):\n",
    "    del(bops['Unnamed: '+str(i)])"
   ]
  },
  {
   "cell_type": "code",
   "execution_count": 158,
   "id": "6d738fc8",
   "metadata": {},
   "outputs": [],
   "source": [
    "bops.dropna(inplace=True)"
   ]
  },
  {
   "cell_type": "markdown",
   "id": "6057afb5",
   "metadata": {},
   "source": [
    "En la columna **sales** python a sus elementos como cadenas, además, tienen un coma que es necesario quitar si se quieren convertir a enter, así que a continuación se eliminará ese caracter y se convertirán los elementos a enteros:"
   ]
  },
  {
   "cell_type": "code",
   "execution_count": 186,
   "id": "9bd0f94d",
   "metadata": {},
   "outputs": [],
   "source": [
    "bops[' sales '] = [int(x.replace(',','')) for x in bops[' sales ']]"
   ]
  },
  {
   "cell_type": "code",
   "execution_count": 159,
   "id": "e839894f",
   "metadata": {},
   "outputs": [
    {
     "data": {
      "text/plain": [
       "Index(['id (store)', 'year', 'month', 'week', 'usa', 'after', ' sales '], dtype='object')"
      ]
     },
     "execution_count": 159,
     "metadata": {},
     "output_type": "execute_result"
    }
   ],
   "source": [
    "bops.columns"
   ]
  },
  {
   "cell_type": "markdown",
   "id": "3808c912",
   "metadata": {},
   "source": [
    "Para analizar fácilmente las ventas en el tiempo, voy a asignar como índice del DataFrame **bops** a la fecha:"
   ]
  },
  {
   "cell_type": "markdown",
   "id": "bd85ab6f",
   "metadata": {},
   "source": [
    "Contaré las semanas por mes en vez de por año, así cada mes tendrá las semanas del 1 al 4."
   ]
  },
  {
   "cell_type": "code",
   "execution_count": 160,
   "id": "38da4121",
   "metadata": {},
   "outputs": [],
   "source": [
    "bops['week'] = bops['week'].astype(int)%4 + 1"
   ]
  },
  {
   "cell_type": "markdown",
   "id": "e8ca4c0a",
   "metadata": {},
   "source": [
    "Habiendo cambiado el número de las semanas, definiré a la fecha como índice:"
   ]
  },
  {
   "cell_type": "code",
   "execution_count": null,
   "id": "c56bd999",
   "metadata": {},
   "outputs": [],
   "source": [
    "#bops.set_index(pd.to_datetime(bops['year']+'/'+bops['month']+'/'+bops['week'].astype(str), format = '%Y/%m/%d'), inplace = True)"
   ]
  },
  {
   "cell_type": "markdown",
   "id": "649cd7c8",
   "metadata": {},
   "source": [
    "Hay que usar la columna **after** para separar las ventas antes y después del lanzamiento:"
   ]
  },
  {
   "cell_type": "code",
   "execution_count": 191,
   "id": "a793b401",
   "metadata": {},
   "outputs": [],
   "source": [
    "before_bops = bops[bops['after']==0]"
   ]
  },
  {
   "cell_type": "code",
   "execution_count": 192,
   "id": "3097374b",
   "metadata": {},
   "outputs": [],
   "source": [
    "after_bops = bops[bops['after']==1]"
   ]
  },
  {
   "cell_type": "markdown",
   "id": "832fb9e0",
   "metadata": {},
   "source": [
    "Ahora sólo hay que sacer la diferencia del total de ventas de ambos casos:"
   ]
  },
  {
   "cell_type": "code",
   "execution_count": 196,
   "id": "f6beec3a",
   "metadata": {},
   "outputs": [
    {
     "data": {
      "text/plain": [
       "-17111578"
      ]
     },
     "execution_count": 196,
     "metadata": {},
     "output_type": "execute_result"
    }
   ],
   "source": [
    "after_bops[' sales '].sum()-before_bops[' sales '].sum()"
   ]
  },
  {
   "cell_type": "markdown",
   "id": "a924c40c",
   "metadata": {},
   "source": [
    "Se observa que las ventas totales después de BOPS son menores que las ventas de antes de la iniciativa, por lo que hay pérdidas."
   ]
  },
  {
   "cell_type": "markdown",
   "id": "554b476c",
   "metadata": {},
   "source": [
    "Para saber qué es lo que está pasando con las ventas en EUA y canadá, también separaré de acuerdo al país."
   ]
  },
  {
   "cell_type": "code",
   "execution_count": 197,
   "id": "ae94b0ac",
   "metadata": {},
   "outputs": [],
   "source": [
    "before_bops_usa = before_bops[before_bops['usa']==1]"
   ]
  },
  {
   "cell_type": "code",
   "execution_count": 198,
   "id": "ac415642",
   "metadata": {},
   "outputs": [],
   "source": [
    "before_bops_canada = before_bops[before_bops['usa']==0]"
   ]
  },
  {
   "cell_type": "code",
   "execution_count": 199,
   "id": "ff59ab29",
   "metadata": {},
   "outputs": [],
   "source": [
    "after_bops_usa = after_bops[after_bops['usa']==1]"
   ]
  },
  {
   "cell_type": "code",
   "execution_count": 200,
   "id": "6c414d0d",
   "metadata": {},
   "outputs": [],
   "source": [
    "after_bops_canada = after_bops[after_bops['usa']==0]"
   ]
  },
  {
   "cell_type": "code",
   "execution_count": 203,
   "id": "f8fe8c63",
   "metadata": {},
   "outputs": [],
   "source": [
    "loss_usa = after_bops_usa[' sales '].sum()-before_bops_usa[' sales '].sum()"
   ]
  },
  {
   "cell_type": "code",
   "execution_count": 204,
   "id": "278a32b4",
   "metadata": {},
   "outputs": [],
   "source": [
    "loss_canada = after_bops_canada[' sales '].sum()-before_bops_canada[' sales '].sum()"
   ]
  },
  {
   "cell_type": "code",
   "execution_count": 205,
   "id": "b4677426",
   "metadata": {},
   "outputs": [
    {
     "data": {
      "text/plain": [
       "-12275086"
      ]
     },
     "execution_count": 205,
     "metadata": {},
     "output_type": "execute_result"
    }
   ],
   "source": [
    "loss_usa"
   ]
  },
  {
   "cell_type": "code",
   "execution_count": 206,
   "id": "f82e1a0a",
   "metadata": {},
   "outputs": [
    {
     "data": {
      "text/plain": [
       "-4836492"
      ]
     },
     "execution_count": 206,
     "metadata": {},
     "output_type": "execute_result"
    }
   ],
   "source": [
    "loss_canada"
   ]
  },
  {
   "cell_type": "code",
   "execution_count": 208,
   "id": "aa579f29",
   "metadata": {},
   "outputs": [
    {
     "data": {
      "text/plain": [
       "253.80143293941146"
      ]
     },
     "execution_count": 208,
     "metadata": {},
     "output_type": "execute_result"
    }
   ],
   "source": [
    "loss_usa/loss_canada*100"
   ]
  },
  {
   "cell_type": "markdown",
   "id": "f7bd35de",
   "metadata": {},
   "source": [
    "Las pérdidas de EUA son de más de 12 millones, mientras que las de Canadá son de las de 4 millones, de hecho, las pérdidas de EUA son casi 254% mayores a las de Canadá. Así que me parece factible una expansión a Canadá, ya que no se vislumbran tantas pérdidas como en el otro país; en el momento que se hizo el análisis, BOPS tenía muy pocos meses en marcha, y se sabe que el sistema es complejo, sólo es necesario capacitar a los trabajadores al nuevo sistema y en poco tiempo comenzarán a recuperarse."
   ]
  },
  {
   "cell_type": "code",
   "execution_count": null,
   "id": "680a2aa1",
   "metadata": {},
   "outputs": [],
   "source": []
  }
 ],
 "metadata": {
  "kernelspec": {
   "display_name": "Python 3 (ipykernel)",
   "language": "python",
   "name": "python3"
  },
  "language_info": {
   "codemirror_mode": {
    "name": "ipython",
    "version": 3
   },
   "file_extension": ".py",
   "mimetype": "text/x-python",
   "name": "python",
   "nbconvert_exporter": "python",
   "pygments_lexer": "ipython3",
   "version": "3.8.12"
  }
 },
 "nbformat": 4,
 "nbformat_minor": 5
}
