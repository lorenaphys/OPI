{
 "cells": [
  {
   "cell_type": "markdown",
   "id": "3d2bce96",
   "metadata": {},
   "source": [
    "# Caso BOPS"
   ]
  },
  {
   "cell_type": "code",
   "execution_count": 1,
   "id": "1a9f9fe5",
   "metadata": {},
   "outputs": [],
   "source": [
    "import pandas as pd\n",
    "import numpy as np"
   ]
  },
  {
   "cell_type": "markdown",
   "id": "ee20ec2e",
   "metadata": {},
   "source": [
    "Primero comparamos las ventas totales que se generaron antes y después del lanzamiento de la iniciativa para ver si hubo ganancias o pérdidas."
   ]
  },
  {
   "cell_type": "code",
   "execution_count": 2,
   "id": "d1e73663",
   "metadata": {},
   "outputs": [],
   "source": [
    "bops = pd.read_csv('/home/lorena/Escritorio/OPI/BOPS_case/BOPS_case/bops_bm.csv', encoding='utf-8')"
   ]
  },
  {
   "cell_type": "markdown",
   "id": "f0cb3705",
   "metadata": {},
   "source": [
    "El archivo tiene varios huecos, así que hay que removerlos:"
   ]
  },
  {
   "cell_type": "code",
   "execution_count": 3,
   "id": "7c79baa9",
   "metadata": {},
   "outputs": [],
   "source": [
    "for i in range(7,11):\n",
    "    del(bops['Unnamed: '+str(i)])"
   ]
  },
  {
   "cell_type": "code",
   "execution_count": 4,
   "id": "63d843f4",
   "metadata": {},
   "outputs": [],
   "source": [
    "bops.dropna(inplace=True)"
   ]
  },
  {
   "cell_type": "markdown",
   "id": "c7357ef6",
   "metadata": {},
   "source": [
    "En la columna **sales** python a sus elementos como cadenas, además, tienen un coma que es necesario quitar si se quieren convertir a enter, así que a continuación se eliminará ese caracter y se convertirán los elementos a enteros:"
   ]
  },
  {
   "cell_type": "code",
   "execution_count": 5,
   "id": "a465289d",
   "metadata": {},
   "outputs": [],
   "source": [
    "bops[' sales '] = [int(x.replace(',','')) for x in bops[' sales ']]"
   ]
  },
  {
   "cell_type": "markdown",
   "id": "6752a2c0",
   "metadata": {},
   "source": [
    "Hay que usar la columna **after** para separar las ventas antes y después del lanzamiento:"
   ]
  },
  {
   "cell_type": "code",
   "execution_count": 6,
   "id": "fe341f10",
   "metadata": {},
   "outputs": [],
   "source": [
    "before_bops = bops[bops['after']==0]"
   ]
  },
  {
   "cell_type": "code",
   "execution_count": 7,
   "id": "eb8c8be7",
   "metadata": {},
   "outputs": [],
   "source": [
    "after_bops = bops[bops['after']==1]"
   ]
  },
  {
   "cell_type": "markdown",
   "id": "8dd96a1c",
   "metadata": {},
   "source": [
    "Ahora sólo hay que sacer la diferencia del total de ventas de ambos casos:"
   ]
  },
  {
   "cell_type": "code",
   "execution_count": 8,
   "id": "7320de30",
   "metadata": {},
   "outputs": [
    {
     "data": {
      "text/plain": [
       "-17111578"
      ]
     },
     "execution_count": 8,
     "metadata": {},
     "output_type": "execute_result"
    }
   ],
   "source": [
    "after_bops[' sales '].sum()-before_bops[' sales '].sum()"
   ]
  },
  {
   "cell_type": "markdown",
   "id": "ce0e74c0",
   "metadata": {},
   "source": [
    "Se observa que las ventas totales después de BOPS son menores que las ventas de antes de la iniciativa, por lo que hay pérdidas."
   ]
  },
  {
   "cell_type": "markdown",
   "id": "69cba751",
   "metadata": {},
   "source": [
    "Para saber qué es lo que está pasando con las ventas en EUA y canadá, también separaré de acuerdo al país."
   ]
  },
  {
   "cell_type": "code",
   "execution_count": 9,
   "id": "1a0ed386",
   "metadata": {},
   "outputs": [],
   "source": [
    "before_bops_usa = before_bops[before_bops['usa']==1]"
   ]
  },
  {
   "cell_type": "code",
   "execution_count": 10,
   "id": "b146c1ea",
   "metadata": {},
   "outputs": [],
   "source": [
    "before_bops_canada = before_bops[before_bops['usa']==0]"
   ]
  },
  {
   "cell_type": "code",
   "execution_count": 11,
   "id": "650789cc",
   "metadata": {},
   "outputs": [],
   "source": [
    "after_bops_usa = after_bops[after_bops['usa']==1]"
   ]
  },
  {
   "cell_type": "code",
   "execution_count": 12,
   "id": "9f938db4",
   "metadata": {},
   "outputs": [],
   "source": [
    "after_bops_canada = after_bops[after_bops['usa']==0]"
   ]
  },
  {
   "cell_type": "code",
   "execution_count": 13,
   "id": "6efda622",
   "metadata": {},
   "outputs": [],
   "source": [
    "loss_usa = after_bops_usa[' sales '].sum()-before_bops_usa[' sales '].sum()"
   ]
  },
  {
   "cell_type": "code",
   "execution_count": 14,
   "id": "b6f34c2e",
   "metadata": {},
   "outputs": [],
   "source": [
    "loss_canada = after_bops_canada[' sales '].sum()-before_bops_canada[' sales '].sum()"
   ]
  },
  {
   "cell_type": "code",
   "execution_count": 15,
   "id": "b379b6fc",
   "metadata": {},
   "outputs": [
    {
     "data": {
      "text/plain": [
       "-12275086"
      ]
     },
     "execution_count": 15,
     "metadata": {},
     "output_type": "execute_result"
    }
   ],
   "source": [
    "loss_usa"
   ]
  },
  {
   "cell_type": "code",
   "execution_count": 16,
   "id": "bbe82441",
   "metadata": {},
   "outputs": [
    {
     "data": {
      "text/plain": [
       "-4836492"
      ]
     },
     "execution_count": 16,
     "metadata": {},
     "output_type": "execute_result"
    }
   ],
   "source": [
    "loss_canada"
   ]
  },
  {
   "cell_type": "code",
   "execution_count": 17,
   "id": "488dd36a",
   "metadata": {},
   "outputs": [
    {
     "data": {
      "text/plain": [
       "253.80143293941146"
      ]
     },
     "execution_count": 17,
     "metadata": {},
     "output_type": "execute_result"
    }
   ],
   "source": [
    "loss_usa/loss_canada*100"
   ]
  },
  {
   "cell_type": "markdown",
   "id": "84d681d8",
   "metadata": {},
   "source": [
    "Las pérdidas de EUA son de más de 12 millones, mientras que las de Canadá son de las de 4 millones, de hecho, las pérdidas de EUA son casi 254% mayores a las de Canadá. Así que me parece factible una expansión a Canadá, ya que no se vislumbran tantas pérdidas como en el otro país; en el momento que se hizo el análisis, BOPS tenía muy pocos meses en marcha, y se sabe que el sistema es complejo, sólo es necesario capacitar a los trabajadores al nuevo sistema y en poco tiempo comenzarán a recuperarse."
   ]
  },
  {
   "cell_type": "code",
   "execution_count": null,
   "id": "14f95979",
   "metadata": {},
   "outputs": [],
   "source": []
  }
 ],
 "metadata": {
  "kernelspec": {
   "display_name": "Python 3 (ipykernel)",
   "language": "python",
   "name": "python3"
  },
  "language_info": {
   "codemirror_mode": {
    "name": "ipython",
    "version": 3
   },
   "file_extension": ".py",
   "mimetype": "text/x-python",
   "name": "python",
   "nbconvert_exporter": "python",
   "pygments_lexer": "ipython3",
   "version": "3.8.12"
  }
 },
 "nbformat": 4,
 "nbformat_minor": 5
}
