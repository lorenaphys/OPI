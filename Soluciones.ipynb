{
 "cells": [
  {
   "cell_type": "markdown",
   "id": "d8d01675",
   "metadata": {},
   "source": [
    "# Soluciones al examen de OPI "
   ]
  },
  {
   "cell_type": "markdown",
   "id": "62cd127d",
   "metadata": {},
   "source": [
    "1. Los datos son de calidad cuando sirven para una finalidad prevista, basados en las siguientes características:\n",
    "* No debe haber huecos, ni variables repetidas.\n",
    "* La información debe ser relevante para cumplir los objetivos, por ejemplo, si estoy haciendo un análisis sobre los delitos en la ciudad de México, no me sirve tener información sobre el peso de los habitantes de la ciudad.\n",
    "* Confiabilidad: hay que asegurarse que los datos no sean ambiguos, vagos o que contengan información contradictoria, por ejemplo, si tengo información sobre los delitos de una alcaldía en dos columnas y cada una con información diferente.\n",
    "* Los datos tienen que ser colectados en el tiempo correcto, hay que asegurarse que no sean obsoletos, tomando de nuevo el análisis de los delitos de la CDMX, no tendría sentido que sólo tenga información de hace 30 años."
   ]
  },
  {
   "cell_type": "markdown",
   "id": "6786c415",
   "metadata": {},
   "source": [
    "2. Datos a la alza y a la baja."
   ]
  },
  {
   "cell_type": "code",
   "execution_count": 25,
   "id": "cedfce51",
   "metadata": {},
   "outputs": [],
   "source": [
    "# importamos la base de datos\n",
    "# encoding='utf-8' es para que al importarse la base de datos, reconozca caracteres \n",
    "# como la ñ.\n",
    "# dtype='unicode' es para evitar un warning por low_memory ya que python estaba \n",
    "# adivinando el tipo de objeto (dtype) de cada columna\n",
    "import pandas as pd\n",
    "from datetime import datetime # para que Python reconozca las fechas\n",
    "datos = pd.read_csv('/home/lorena/Escritorio/OPI/carpetas_completa_febrero_2022.csv', encoding='utf-8', dtype='unicode')"
   ]
  },
  {
   "cell_type": "markdown",
   "id": "631d37a5",
   "metadata": {},
   "source": [
    "Para que las columnas fecha_hechos y fecha_inicia tal cual sean reconocidas como fechas, se utiliza la función de pandas **to_datetime**."
   ]
  },
  {
   "cell_type": "code",
   "execution_count": 30,
   "id": "4ff827eb",
   "metadata": {},
   "outputs": [],
   "source": [
    "datos['fecha_hechos'] = pd.to_datetime(datos['fecha_hechos'], format = \"%Y %m %d %H:%M:%S\")\n",
    "datos['fecha_inicio'] = pd.to_datetime(datos['fecha_inicio'], format = \"%Y %m %d %H:%M:%S\")"
   ]
  },
  {
   "cell_type": "code",
   "execution_count": 29,
   "id": "9363e13d",
   "metadata": {},
   "outputs": [
    {
     "data": {
      "text/plain": [
       "0         2016-01-31 22:16:00\n",
       "1         2016-01-31 20:50:00\n",
       "2         2016-02-01 00:30:00\n",
       "3         2016-01-31 22:00:00\n",
       "4         2015-12-25 12:00:00\n",
       "                  ...        \n",
       "1401326   2022-02-28 06:26:00\n",
       "1401327   2022-02-28 12:00:00\n",
       "1401328   2021-05-05 09:00:00\n",
       "1401329   2022-02-20 15:50:00\n",
       "1401330   2022-02-02 12:40:00\n",
       "Name: fecha_hechos, Length: 1401331, dtype: datetime64[ns]"
      ]
     },
     "execution_count": 29,
     "metadata": {},
     "output_type": "execute_result"
    }
   ],
   "source": [
    "datos['fecha_hechos']"
   ]
  },
  {
   "cell_type": "code",
   "execution_count": 28,
   "id": "10ae6144",
   "metadata": {},
   "outputs": [
    {
     "data": {
      "text/plain": [
       "Index(['ao_hechos', 'mes_hechos', 'fecha_hechos', 'ao_inicio', 'mes_inicio',\n",
       "       'fecha_inicio', 'delito', 'fiscalia', 'agencia', 'unidad_investigacion',\n",
       "       'categoria_delito', 'calle_hechos', 'calle_hechos2', 'colonia_hechos',\n",
       "       'alcaldia_hechos', 'competencia', 'longitud', 'latitud', 'tempo'],\n",
       "      dtype='object')"
      ]
     },
     "execution_count": 28,
     "metadata": {},
     "output_type": "execute_result"
    }
   ],
   "source": [
    "datos.columns"
   ]
  },
  {
   "cell_type": "code",
   "execution_count": 31,
   "id": "c496ddaf",
   "metadata": {},
   "outputs": [
    {
     "data": {
      "text/plain": [
       "ao_hechos                       object\n",
       "mes_hechos                      object\n",
       "fecha_hechos            datetime64[ns]\n",
       "ao_inicio                       object\n",
       "mes_inicio                      object\n",
       "fecha_inicio            datetime64[ns]\n",
       "delito                          object\n",
       "fiscalia                        object\n",
       "agencia                         object\n",
       "unidad_investigacion            object\n",
       "categoria_delito                object\n",
       "calle_hechos                    object\n",
       "calle_hechos2                   object\n",
       "colonia_hechos                  object\n",
       "alcaldia_hechos                 object\n",
       "competencia                     object\n",
       "longitud                        object\n",
       "latitud                         object\n",
       "tempo                           object\n",
       "dtype: object"
      ]
     },
     "execution_count": 31,
     "metadata": {},
     "output_type": "execute_result"
    }
   ],
   "source": [
    "datos.dtypes"
   ]
  },
  {
   "cell_type": "code",
   "execution_count": null,
   "id": "ecd98c6e",
   "metadata": {},
   "outputs": [],
   "source": []
  }
 ],
 "metadata": {
  "kernelspec": {
   "display_name": "Python 3 (ipykernel)",
   "language": "python",
   "name": "python3"
  },
  "language_info": {
   "codemirror_mode": {
    "name": "ipython",
    "version": 3
   },
   "file_extension": ".py",
   "mimetype": "text/x-python",
   "name": "python",
   "nbconvert_exporter": "python",
   "pygments_lexer": "ipython3",
   "version": "3.8.12"
  }
 },
 "nbformat": 4,
 "nbformat_minor": 5
}
