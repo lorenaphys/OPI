{
 "cells": [
  {
   "cell_type": "markdown",
   "id": "62cf3822",
   "metadata": {},
   "source": [
    "# Soluciones al examen de OPI "
   ]
  },
  {
   "cell_type": "code",
   "execution_count": 86,
   "id": "26f30963",
   "metadata": {},
   "outputs": [],
   "source": [
    "# paquetes necesarios para este examen\n",
    "import pandas as pd\n",
    "from datetime import datetime # para que Python reconozca las fechas\n",
    "import numpy as np\n",
    "import math\n",
    "import matplotlib.pyplot as plt\n",
    "from scipy.stats import linregress"
   ]
  },
  {
   "cell_type": "code",
   "execution_count": 346,
   "id": "6e394613",
   "metadata": {},
   "outputs": [],
   "source": [
    "# Función que se necesitará más adelante para agregar formato a la fecha\n",
    "def cambio_mes(mes):\n",
    "    reemplazo = (\n",
    "            ('Enero', '01'),\n",
    "            ('Febrero', '02'),\n",
    "            ('Marzo', '03'),\n",
    "            ('Abril', '04'),\n",
    "            ('Mayo', '05'),\n",
    "            ('Junio','06'),\n",
    "            ('Julio','07'),\n",
    "            ('Agosto','08'),\n",
    "            ('Septiembre','09'),\n",
    "            ('Octubre', '10'),\n",
    "            ('Noviembre','11'),\n",
    "            ('Diciembre', '12')\n",
    "        )\n",
    "    for a, b in reemplazo:\n",
    "        mes = mes.replace(a, b)\n",
    "    return mes\n",
    "cambio_mes.__doc__ = \"Cambia el mes a su correspondiente valor numerico\""
   ]
  },
  {
   "cell_type": "code",
   "execution_count": 757,
   "id": "548bfee6",
   "metadata": {},
   "outputs": [],
   "source": [
    "def seleccion_por_alcaldia(datos):\n",
    "    \n",
    "    alcaldias_cdmx = ['AZCAPOTZALCO', 'ALVARO OBREGON', 'BENITO JUAREZ', 'COYOACAN', 'CUAJIMALPA DE MORELOS','CUAUHTEMOC','GUSTAVO A MADERO', 'IZTACALCO', 'IZTAPALAPA', 'LA MAGDALENA CONTRERAS','MIGUEL HIDALGO','MILPA ALTA', 'TLALPAN','TLAHUAC','VENUSTIANO CARRANZA','XOCHIMILCO']\n",
    "    \n",
    "    lista = [locacion in alcaldias_cdmx for locacion in datos['alcaldia_hechos']]\n",
    "        \n",
    "    return datos[lista]\n",
    "seleccion_por_alcaldia.__doc__ = 'Filtra la base de datos y descarta a aquellos que no se registraron en la ciudad de Mexico'"
   ]
  },
  {
   "cell_type": "code",
   "execution_count": 774,
   "id": "cfd3c1cc",
   "metadata": {},
   "outputs": [],
   "source": [
    "# Conjunto de funciones necesarias para encontrar la incidencia de delitos\n",
    "# por alcaldia\n",
    "def seleccion_tiempo(datos, rango = 0):\n",
    "    # comparacion de datos dentro del rango de años elegido\n",
    "    comp = datos['ao_hechos'] >= str(int(datos['ao_hechos'][-1]) - rango)\n",
    "    # aplicando la comparacion anterior a la base de datos\n",
    "    datos_aux = datos[comp]\n",
    "    return datos_aux\n",
    "seleccion_tiempo.__doc__ = \"Se seleccionan los datos de los últimos años, de acuerdo al rango dado.\"\n",
    "\n",
    "def regresion_lineal(datos, rango = 0):\n",
    "    # Aplicando primero la funcion seleccion_tiempo, para tener la base de datos\n",
    "    # en el rango de de tiempo adecuado\n",
    "    datos = seleccion_tiempo(datos, rango)\n",
    "    # Definiendo los parametros necesarios para la regresion lineal\n",
    "    # lo que se va a revisar es el ajuste lineal del comportamientos de la cantidad\n",
    "    # de delitos a lo largo del tiempo\n",
    "    X = np.arange(len(datos.index))  \n",
    "    y = datos['size']\n",
    "    # Ajuste del modelo lineal y seleccion de la pendiente de este resultado\n",
    "    pendiente = linregress(X, y).slope\n",
    "    return pendiente\n",
    "regresion_lineal.__doc__ = \"Regresa la pendiente de los datos seleccionados de acuerdo al rango de años dado.\"\n",
    "\n",
    "def seleccion_delito(datos, lista):\n",
    "    # Seleccionando a los datos para un delito en especifico\n",
    "    datos_aux = datos[datos['delito'] == lista]\n",
    "    return datos_aux\n",
    "seleccion_delito.__doc__ = \"Se crea un subgrupo de los datos de acuerdo al delito elegido.\"\n",
    "\n",
    "def alza_baja(datos, lista, rango = 0):\n",
    "    lista_aux = []\n",
    "    lista_total = []\n",
    "    for delito in lista:\n",
    "        # Seleccion de la base de datos de acuerdo al delito en turno\n",
    "        datos_aux = seleccion_delito(datos, delito)\n",
    "        # Una vez seleccionada la base por delito, se escogen aquellos que \n",
    "        # cumplan con el rango de años dado\n",
    "        tiempo = seleccion_tiempo(datos_aux, rango)\n",
    "        # Cálculo de la pendiente del modelo lineal para la base filtrada\n",
    "        pendiente = regresion_lineal(datos_aux, rango)\n",
    "        # Clasificacion de la tendencia de acuerdo a la pendiente\n",
    "        if pendiente > 0:\n",
    "            lista_aux.append('Alza')\n",
    "        else:\n",
    "            lista_aux.append('Baja')\n",
    "    lista_total = lista_total + lista_aux\n",
    "    return lista_total\n",
    "alza_baja.__doc__ = \"De acuerdo al rango de años dado, se muestra en un Data Frame la tendencia para cada uno de los delitos registrados.\""
   ]
  },
  {
   "cell_type": "code",
   "execution_count": 1035,
   "id": "22bf6a92",
   "metadata": {},
   "outputs": [],
   "source": [
    "def delitos_por_mes(mes):\n",
    "    aux_df = pd.DataFrame()\n",
    "    for año in range(2008,2022):\n",
    "        # Comparando la base de datos que cumpla con el año en turno\n",
    "        comp_año = datos_filtrados['ao_hechos'] == str(año)\n",
    "        # Usando la comparacion para seleccionar en la base de datos de acuerdo\n",
    "        # al año\n",
    "        datos_año = datos_filtrados[comp_año]\n",
    "        # Con la base filtrada, se agrupa la base de acuerdo al mes y al delito\n",
    "        # despues se hacen cuentas, asi se tendra el numero de delitos por mes\n",
    "        delitos_agrupados_mes = datos_año.groupby(['mes_hechos','delito'], as_index = False, group_keys = True).size()\n",
    "        # Con la agrupacion y conteo anterior, se seleccionan los datos de acuerdo \n",
    "        # al mes dado\n",
    "        delitos_mes = delitos_agrupados_mes[delitos_agrupados_mes['mes_hechos'] == mes]\n",
    "        # Se ordema el subgrupo anterior de acuerdo al conteo, de mayor a menor\n",
    "        delitos_frec_mes = delitos_mes.sort_values('size', ascending = False)\n",
    "        # En un DataFrame auxiliar se almacena en una columna los delitos organizados\n",
    "        # de acuerdo a la mayor incidencia\n",
    "        aux_df[str(año)] = delitos_frec_mes['delito']\n",
    "    aux_df.reset_index(inplace = True)\n",
    "    return aux_df\n",
    "delitos_por_mes.__doc__ = \"Muestra los delitos registrados durante los últimos 15 años para el mes dado, los delitos aparecen en orden de mayor ocurrencia en cada año.\""
   ]
  },
  {
   "cell_type": "code",
   "execution_count": 1094,
   "id": "19d7209a",
   "metadata": {},
   "outputs": [],
   "source": [
    "def frec_total_mes(mes):\n",
    "    # Primero se clasifican los delitos de los ultimos 15 años de acuerdo al mes\n",
    "    # dado, y a la incidencia mayor\n",
    "    df_mes = delitos_por_mes(mes)\n",
    "    lista_aux = []\n",
    "    for año in range(2008,2021):\n",
    "        for delito in df_mes[str(año)]:\n",
    "            if not pd.isna(delito): \n",
    "                # Descartamos los huecos que puedan aparecer\n",
    "                lista_aux.append(delito)\n",
    "    # En un diccionario auxiliar se almacena el delito y cuantas veces se registro\n",
    "    # en los ultimos 15 años\n",
    "    dic_aux = {i:lista_aux.count(i) for i in lista_aux}\n",
    "    # En un DataFrame se coloca a manera de columnas el delito y su respectiva\n",
    "    # ocurrencia\n",
    "    df_aux = pd.DataFrame(dic_aux.values(), index = dic_aux.keys(), columns = ['ocurrencia'])\n",
    "    # Seleccion de los 5 delitos con mayor incidencia\n",
    "    #df_aux.sort_values('ocurrencia', ascending = False, inplace = True)\n",
    "    df_aux = df_aux.nlargest(5,'ocurrencia')\n",
    "    return df_aux\n",
    "frec_total_mes.__doc__ = \"Regresa un DataFrame con los 5 delitos de mayor incidencia en los últimos 15 años, de acuerdo al mes dado.\""
   ]
  },
  {
   "cell_type": "code",
   "execution_count": null,
   "id": "8c02de13",
   "metadata": {},
   "outputs": [],
   "source": []
  },
  {
   "cell_type": "markdown",
   "id": "1f31a93d",
   "metadata": {},
   "source": [
    "1. Los datos son de calidad cuando sirven para una finalidad prevista, basados en las siguientes características:\n",
    "* No debe haber huecos, ni variables repetidas.\n",
    "* La información debe ser relevante para cumplir los objetivos, por ejemplo, si estoy haciendo un análisis sobre los delitos en la ciudad de México, no me sirve tener información sobre el peso de los habitantes de la ciudad.\n",
    "* Confiabilidad: hay que asegurarse que los datos no sean ambiguos, vagos o que contengan información contradictoria, por ejemplo, si tengo información sobre los delitos de una alcaldía en dos columnas y cada una con información diferente.\n",
    "* Los datos tienen que ser colectados en el tiempo correcto, hay que asegurarse que no sean obsoletos, tomando de nuevo el análisis de los delitos de la CDMX, no tendría sentido que sólo tenga información de hace 30 años."
   ]
  },
  {
   "cell_type": "markdown",
   "id": "67e30bfc",
   "metadata": {},
   "source": [
    "2. Datos a la alza y a la baja."
   ]
  },
  {
   "cell_type": "code",
   "execution_count": 25,
   "id": "397707cf",
   "metadata": {},
   "outputs": [],
   "source": [
    "# importamos la base de datos\n",
    "# encoding='utf-8' es para que al importarse la base de datos, reconozca caracteres \n",
    "# como la ñ.\n",
    "# dtype='unicode' es para evitar un warning por low_memory ya que python estaba \n",
    "# adivinando el tipo de objeto (dtype) de cada columna\n",
    "\n",
    "datos = pd.read_csv('/home/lorena/Escritorio/OPI/carpetas_completa_febrero_2022.csv', encoding='utf-8', dtype='unicode')"
   ]
  },
  {
   "cell_type": "markdown",
   "id": "484e50f9",
   "metadata": {},
   "source": [
    "Para que las columnas fecha_hechos y fecha_inicia tal cual sean reconocidas como fechas, se utiliza la función de pandas **to_datetime**."
   ]
  },
  {
   "cell_type": "code",
   "execution_count": 30,
   "id": "32331f16",
   "metadata": {},
   "outputs": [],
   "source": [
    "datos['fecha_hechos'] = pd.to_datetime(datos['fecha_hechos'], format = \"%Y %m %d %H:%M:%S\")\n",
    "datos['fecha_inicio'] = pd.to_datetime(datos['fecha_inicio'], format = \"%Y %m %d %H:%M:%S\")"
   ]
  },
  {
   "cell_type": "code",
   "execution_count": 241,
   "id": "aa7bb55c",
   "metadata": {},
   "outputs": [],
   "source": [
    "datos.set_index(datos['mes_hechos']+'/'+datos['ao_hechos'], inplace = True)"
   ]
  },
  {
   "cell_type": "markdown",
   "id": "a0366465",
   "metadata": {},
   "source": [
    "A continuación, descarto a aquellas filas en las que el año o la alcaldia de los hechos sea igual a **nan**:"
   ]
  },
  {
   "cell_type": "code",
   "execution_count": 725,
   "id": "8a7ae57e",
   "metadata": {},
   "outputs": [],
   "source": [
    "es_nan_fecha = pd.isnull(datos['ao_hechos'])\n",
    "es_nan_lugar = pd.isnull(datos['alcaldia_hechos'])\n",
    "datos = datos[np.logical_not(np.logical_or(es_nan_fecha,es_nan_lugar))]"
   ]
  },
  {
   "cell_type": "markdown",
   "id": "d5ac4065",
   "metadata": {},
   "source": [
    "En el ejercicio se pide que se analice sólo los delitos ocurridos en la ciudad de México, así que el siguiente paso es descartar a aquellas locaciones que no pertenezcan a la ciudad."
   ]
  },
  {
   "cell_type": "markdown",
   "id": "f5ef5e48",
   "metadata": {},
   "source": [
    "Así que defino una función que seleccionará sólo a aquellos datos que hayan sido tomados en alguna alcaldía de la CDMX."
   ]
  },
  {
   "cell_type": "code",
   "execution_count": 817,
   "id": "45ebc263",
   "metadata": {},
   "outputs": [],
   "source": [
    "datos_filtrados = seleccion_por_alcaldia(datos)"
   ]
  },
  {
   "cell_type": "markdown",
   "id": "8b81a091",
   "metadata": {},
   "source": [
    "Con la base agrupada, y con las observaciones nulas para la fecha y la alcaldia; agruparé a la base por fecha, para así calcular cuantas veces ocurren los delitos de acuerdo al año y mes."
   ]
  },
  {
   "cell_type": "code",
   "execution_count": 818,
   "id": "2cb91745",
   "metadata": {},
   "outputs": [],
   "source": [
    "delitos_fr = datos_filtrados.groupby(['delito','ao_hechos','mes_hechos'], as_index=False, group_keys=True).size()"
   ]
  },
  {
   "cell_type": "markdown",
   "id": "9aa0dc8f",
   "metadata": {},
   "source": [
    "En **delitos_fr** aplicamos la función **cambio_mes** para que fila a fila se cambie el formato del mes a numérico:"
   ]
  },
  {
   "cell_type": "code",
   "execution_count": 819,
   "id": "27da033b",
   "metadata": {},
   "outputs": [],
   "source": [
    "delitos_fr['mes_hechos'] = delitos_fr['mes_hechos'].apply(cambio_mes)"
   ]
  },
  {
   "cell_type": "markdown",
   "id": "ea7f9c46",
   "metadata": {},
   "source": [
    "Para que sea más sencillos seleccionar la frecuencia de acuerdo al delito, hice una lista con el nombre de estos:"
   ]
  },
  {
   "cell_type": "code",
   "execution_count": 820,
   "id": "30841536",
   "metadata": {},
   "outputs": [],
   "source": [
    "delitos = delitos_fr['delito'].unique()"
   ]
  },
  {
   "cell_type": "markdown",
   "id": "8ee190ed",
   "metadata": {},
   "source": [
    "Como índice para este nuevo DataFrame asignaré a la fecha, sólo año y mes, con esos dos datos temporales es suficiente en caso de que se requieran hacer gráficas."
   ]
  },
  {
   "cell_type": "code",
   "execution_count": 821,
   "id": "e25fe53c",
   "metadata": {},
   "outputs": [],
   "source": [
    "delitos_fr.set_index(pd.to_datetime(delitos_fr['mes_hechos']+'/'+delitos_fr['ao_hechos'], format = '%m/%Y'), inplace = True)"
   ]
  },
  {
   "cell_type": "markdown",
   "id": "327c5b90",
   "metadata": {},
   "source": [
    "## Prueba con un sólo delito"
   ]
  },
  {
   "cell_type": "markdown",
   "id": "0d3e32a1",
   "metadata": {},
   "source": [
    "Antes de manipular los datos delito a delito, comencé con el primero del arreglo **delitos**. Así que primero seleccioné de **delitos_fr** el subgrupo del primer delito. "
   ]
  },
  {
   "cell_type": "code",
   "execution_count": 769,
   "id": "3ded352f",
   "metadata": {},
   "outputs": [],
   "source": [
    "primer_delito = delitos_fr[delitos_fr['delito'] == delitos[0]]"
   ]
  },
  {
   "cell_type": "markdown",
   "id": "a82335ae",
   "metadata": {},
   "source": [
    "Para tener una idea de cómo se distribuyen los delitos a los largo del tiempo, se muestra la siguiente gráfica:"
   ]
  },
  {
   "cell_type": "markdown",
   "id": "c0678ed5",
   "metadata": {},
   "source": [
    "Hice una gráfica de la frecuencia para el primer delito, para confirmar que todo, está bien. **Nota**: más adelante si es necesario, quitaré esta gráfica."
   ]
  },
  {
   "cell_type": "code",
   "execution_count": 771,
   "id": "cec8e475",
   "metadata": {},
   "outputs": [
    {
     "data": {
      "image/png": "[encoded data removed]",
      "text/plain": [
       "<Figure size 720x432 with 1 Axes>"
      ]
     },
     "metadata": {
      "needs_background": "light"
     },
     "output_type": "display_data"
    }
   ],
   "source": [
    "import matplotlib.dates as mdates # Intervalos de fecha\n",
    "from matplotlib.dates import DateFormatter # para indicar el formato de fecha\n",
    "fig, ax = plt.subplots(figsize=(10, 6))\n",
    "ax.scatter(primer_delito.index,\n",
    "        primer_delito['size'],\n",
    "        color='purple')\n",
    "ax.set(xlabel=\"Fecha\", ylabel=\"Frecuencia\",\n",
    "       title=delitos[0])\n",
    "\n",
    "# Formato para el eje x\n",
    "#ax.xaxis.set_major_locator(mdates.MonthLocator(interval=12))\n",
    "ax.xaxis.set_major_formatter(DateFormatter(\"%m-%Y\"))\n",
    "fig.autofmt_xdate(rotation=45)\n",
    "\n",
    "plt.show()"
   ]
  },
  {
   "cell_type": "markdown",
   "id": "50a34f66",
   "metadata": {},
   "source": [
    "### Regresion lineal "
   ]
  },
  {
   "cell_type": "markdown",
   "id": "1f621dc4",
   "metadata": {},
   "source": [
    "Lo que queremos averiguar es si la ocurrencia de un delito ha ido a la alza o a la baja a lo largo del tiempo, esto se puede averiguar ajustando la ecuación de una recta a cada subgrupo de datos por delito, y una vez hecho, tomar el valor de la pendiente obtenida de esta ecuación; si la pendiente es positiva, quiere decir que hay una tendencia a la alta, en caso de ser negativa, la tendencia será a la baja."
   ]
  },
  {
   "cell_type": "markdown",
   "id": "f2ff1d04",
   "metadata": {},
   "source": [
    "A continuación se muestra el ajuste lineal para uno de los delitos, para tener una referencia gráfica."
   ]
  },
  {
   "cell_type": "code",
   "execution_count": null,
   "id": "8e5e1937",
   "metadata": {},
   "outputs": [],
   "source": [
    "from sklearn.linear_model import LinearRegression"
   ]
  },
  {
   "cell_type": "code",
   "execution_count": null,
   "id": "86d97796",
   "metadata": {},
   "outputs": [],
   "source": [
    "X = np.arange(len(primer_delito.index)).reshape((-1,1))  # features\n",
    "y = primer_delito['size']  # target\n",
    "\n",
    "# Train the model\n",
    "model = LinearRegression()\n",
    "model.fit(X, y)\n",
    "\n",
    "# Store the fitted values as a time series with the same time index as\n",
    "# the training data\n",
    "y_pred = pd.Series(model.predict(X), index=primer_delito.index)"
   ]
  },
  {
   "cell_type": "code",
   "execution_count": 559,
   "id": "8fb68473",
   "metadata": {},
   "outputs": [
    {
     "data": {
      "image/png": "[encoded data removed]",
      "text/plain": [
       "<Figure size 432x288 with 1 Axes>"
      ]
     },
     "metadata": {
      "needs_background": "light"
     },
     "output_type": "display_data"
    }
   ],
   "source": [
    "plt.plot(y_pred)\n",
    "plt.scatter(primer_delito.index,primer_delito['size'], color = 'red', s = 3)\n",
    "plt.show()"
   ]
  },
  {
   "cell_type": "markdown",
   "id": "59ad40da",
   "metadata": {},
   "source": [
    "### Rangos de tiempo "
   ]
  },
  {
   "cell_type": "markdown",
   "id": "98859b83",
   "metadata": {},
   "source": [
    "En la gráfica de las ocurrencias del delito por abandono de persona, se observa que en los datos más viejos se tienen menos ocurrencias, así que si queremos analizar la tendencia con toda la base de datos, estas mediciones más viejas podrían darnos una idea errónea de lo que está ocurriendo. Para evitar eso, podemos revisar la tendencia en diferentes rangos de tiempo, por ejemplo, ver qué ha ocurrido en los últimos 15 años. "
   ]
  },
  {
   "cell_type": "code",
   "execution_count": null,
   "id": "2212c127",
   "metadata": {},
   "outputs": [],
   "source": [
    "tendencia_completa = alza_baja(delitos_fr, delitos)\n",
    "tendencia_15 = alza_baja(delitos_fr, delitos, 15)\n",
    "tendencia_10 = alza_baja(delitos_fr, delitos, 10)\n",
    "tendencia_5 = alza_baja(delitos_fr, delitos, 5)"
   ]
  },
  {
   "cell_type": "markdown",
   "id": "e935c09e",
   "metadata": {},
   "source": [
    "A continuación muestro un DataFrame donde se encuentran las tendencias para todos los delitos, de acuerdo a los siguientes rangos de años: mediciones completas, últimos 15 años, últimos 10 años y últimos 5 años."
   ]
  },
  {
   "cell_type": "code",
   "execution_count": 823,
   "id": "3a34a174",
   "metadata": {},
   "outputs": [],
   "source": [
    "tendencias = pd.DataFrame()\n",
    "tendencias['Todas_las_mediciones'] = tendencia_completa\n",
    "tendencias['Ultimos_15_años'] = tendencia_15\n",
    "tendencias['Ultimos_10_años'] = tendencia_10\n",
    "tendencias['Ultimos_5_años'] = tendencia_5\n",
    "tendencias.set_index(delitos, inplace = True)"
   ]
  },
  {
   "cell_type": "code",
   "execution_count": 824,
   "id": "7c687f59",
   "metadata": {},
   "outputs": [
    {
     "data": {
      "text/html": [
       "<div>\n",
       "<style scoped>\n",
       "    .dataframe tbody tr th:only-of-type {\n",
       "        vertical-align: middle;\n",
       "    }\n",
       "\n",
       "    .dataframe tbody tr th {\n",
       "        vertical-align: top;\n",
       "    }\n",
       "\n",
       "    .dataframe thead th {\n",
       "        text-align: right;\n",
       "    }\n",
       "</style>\n",
       "<table border=\"1\" class=\"dataframe\">\n",
       "  <thead>\n",
       "    <tr style=\"text-align: right;\">\n",
       "      <th></th>\n",
       "      <th>Todas_las_mediciones</th>\n",
       "      <th>Ultimos_15_años</th>\n",
       "      <th>Ultimos_10_años</th>\n",
       "      <th>Ultimos_5_años</th>\n",
       "    </tr>\n",
       "  </thead>\n",
       "  <tbody>\n",
       "    <tr>\n",
       "      <th>ABANDONO DE PERSONA</th>\n",
       "      <td>Alza</td>\n",
       "      <td>Alza</td>\n",
       "      <td>Alza</td>\n",
       "      <td>Alza</td>\n",
       "    </tr>\n",
       "    <tr>\n",
       "      <th>ABORTO</th>\n",
       "      <td>Baja</td>\n",
       "      <td>Alza</td>\n",
       "      <td>Alza</td>\n",
       "      <td>Baja</td>\n",
       "    </tr>\n",
       "    <tr>\n",
       "      <th>ABUSO DE AUTORIDAD</th>\n",
       "      <td>Alza</td>\n",
       "      <td>Alza</td>\n",
       "      <td>Alza</td>\n",
       "      <td>Alza</td>\n",
       "    </tr>\n",
       "    <tr>\n",
       "      <th>ABUSO DE AUTORIDAD Y USO ILEGAL DE LA FUERZA PUBLICA</th>\n",
       "      <td>Baja</td>\n",
       "      <td>Alza</td>\n",
       "      <td>Alza</td>\n",
       "      <td>Alza</td>\n",
       "    </tr>\n",
       "    <tr>\n",
       "      <th>ABUSO DE CONFIANZA</th>\n",
       "      <td>Alza</td>\n",
       "      <td>Alza</td>\n",
       "      <td>Alza</td>\n",
       "      <td>Alza</td>\n",
       "    </tr>\n",
       "    <tr>\n",
       "      <th>...</th>\n",
       "      <td>...</td>\n",
       "      <td>...</td>\n",
       "      <td>...</td>\n",
       "      <td>...</td>\n",
       "    </tr>\n",
       "    <tr>\n",
       "      <th>VIOLACION TUMULTUARIA</th>\n",
       "      <td>Alza</td>\n",
       "      <td>Alza</td>\n",
       "      <td>Alza</td>\n",
       "      <td>Alza</td>\n",
       "    </tr>\n",
       "    <tr>\n",
       "      <th>VIOLACION TUMULTUARIA EQUIPARADA</th>\n",
       "      <td>Baja</td>\n",
       "      <td>Alza</td>\n",
       "      <td>Alza</td>\n",
       "      <td>Alza</td>\n",
       "    </tr>\n",
       "    <tr>\n",
       "      <th>VIOLACION TUMULTUARIA EQUIPARADA POR CONOCIDO</th>\n",
       "      <td>Baja</td>\n",
       "      <td>Baja</td>\n",
       "      <td>Baja</td>\n",
       "      <td>Baja</td>\n",
       "    </tr>\n",
       "    <tr>\n",
       "      <th>VIOLACION Y ROBO DE VEHICULO</th>\n",
       "      <td>Baja</td>\n",
       "      <td>Baja</td>\n",
       "      <td>Baja</td>\n",
       "      <td>Baja</td>\n",
       "    </tr>\n",
       "    <tr>\n",
       "      <th>VIOLENCIA FAMILIAR</th>\n",
       "      <td>Baja</td>\n",
       "      <td>Alza</td>\n",
       "      <td>Alza</td>\n",
       "      <td>Alza</td>\n",
       "    </tr>\n",
       "  </tbody>\n",
       "</table>\n",
       "<p>346 rows × 4 columns</p>\n",
       "</div>"
      ],
      "text/plain": [
       "                                                   Todas_las_mediciones  \\\n",
       "ABANDONO DE PERSONA                                                Alza   \n",
       "ABORTO                                                             Baja   \n",
       "ABUSO DE AUTORIDAD                                                 Alza   \n",
       "ABUSO DE AUTORIDAD Y USO ILEGAL DE LA FUERZA PU...                 Baja   \n",
       "ABUSO DE CONFIANZA                                                 Alza   \n",
       "...                                                                 ...   \n",
       "VIOLACION TUMULTUARIA                                              Alza   \n",
       "VIOLACION TUMULTUARIA EQUIPARADA                                   Baja   \n",
       "VIOLACION TUMULTUARIA EQUIPARADA POR CONOCIDO                      Baja   \n",
       "VIOLACION Y ROBO DE VEHICULO                                       Baja   \n",
       "VIOLENCIA FAMILIAR                                                 Baja   \n",
       "\n",
       "                                                   Ultimos_15_años  \\\n",
       "ABANDONO DE PERSONA                                           Alza   \n",
       "ABORTO                                                        Alza   \n",
       "ABUSO DE AUTORIDAD                                            Alza   \n",
       "ABUSO DE AUTORIDAD Y USO ILEGAL DE LA FUERZA PU...            Alza   \n",
       "ABUSO DE CONFIANZA                                            Alza   \n",
       "...                                                            ...   \n",
       "VIOLACION TUMULTUARIA                                         Alza   \n",
       "VIOLACION TUMULTUARIA EQUIPARADA                              Alza   \n",
       "VIOLACION TUMULTUARIA EQUIPARADA POR CONOCIDO                 Baja   \n",
       "VIOLACION Y ROBO DE VEHICULO                                  Baja   \n",
       "VIOLENCIA FAMILIAR                                            Alza   \n",
       "\n",
       "                                                   Ultimos_10_años  \\\n",
       "ABANDONO DE PERSONA                                           Alza   \n",
       "ABORTO                                                        Alza   \n",
       "ABUSO DE AUTORIDAD                                            Alza   \n",
       "ABUSO DE AUTORIDAD Y USO ILEGAL DE LA FUERZA PU...            Alza   \n",
       "ABUSO DE CONFIANZA                                            Alza   \n",
       "...                                                            ...   \n",
       "VIOLACION TUMULTUARIA                                         Alza   \n",
       "VIOLACION TUMULTUARIA EQUIPARADA                              Alza   \n",
       "VIOLACION TUMULTUARIA EQUIPARADA POR CONOCIDO                 Baja   \n",
       "VIOLACION Y ROBO DE VEHICULO                                  Baja   \n",
       "VIOLENCIA FAMILIAR                                            Alza   \n",
       "\n",
       "                                                   Ultimos_5_años  \n",
       "ABANDONO DE PERSONA                                          Alza  \n",
       "ABORTO                                                       Baja  \n",
       "ABUSO DE AUTORIDAD                                           Alza  \n",
       "ABUSO DE AUTORIDAD Y USO ILEGAL DE LA FUERZA PU...           Alza  \n",
       "ABUSO DE CONFIANZA                                           Alza  \n",
       "...                                                           ...  \n",
       "VIOLACION TUMULTUARIA                                        Alza  \n",
       "VIOLACION TUMULTUARIA EQUIPARADA                             Alza  \n",
       "VIOLACION TUMULTUARIA EQUIPARADA POR CONOCIDO                Baja  \n",
       "VIOLACION Y ROBO DE VEHICULO                                 Baja  \n",
       "VIOLENCIA FAMILIAR                                           Alza  \n",
       "\n",
       "[346 rows x 4 columns]"
      ]
     },
     "execution_count": 824,
     "metadata": {},
     "output_type": "execute_result"
    }
   ],
   "source": [
    "tendencias"
   ]
  },
  {
   "cell_type": "markdown",
   "id": "c26b86a1",
   "metadata": {},
   "source": [
    "Podemos ver por ejemplo que en el caso de aborto:"
   ]
  },
  {
   "cell_type": "code",
   "execution_count": 784,
   "id": "22005dd7",
   "metadata": {},
   "outputs": [
    {
     "data": {
      "text/plain": [
       "Todas_las_mediciones    Baja\n",
       "Ultimos_15_años         Alza\n",
       "Ultimos_10_años         Alza\n",
       "Ultimos_5_años          Baja\n",
       "Name: ABORTO, dtype: object"
      ]
     },
     "execution_count": 784,
     "metadata": {},
     "output_type": "execute_result"
    }
   ],
   "source": [
    "tendencias.loc['ABORTO']"
   ]
  },
  {
   "cell_type": "markdown",
   "id": "e8c8dc5b",
   "metadata": {},
   "source": [
    "Si tomamos todas las mediciones, la tendencia es a la baja, al igual que en los últimos 5 años, sin embargo al analizar los últimos 15 y 10 años, este delito se fue a la alza. Así que para llegar a una mejor conclusión hay que analizar otros factores, como en qué alcaldías ocurrieron los delitos, el estatus socio económico de quien lo cometió, etc."
   ]
  },
  {
   "cell_type": "markdown",
   "id": "7ff44759",
   "metadata": {},
   "source": [
    "Abajo dejé algunos datos extras por si los necesito a futuro:"
   ]
  },
  {
   "cell_type": "markdown",
   "id": "60749526",
   "metadata": {},
   "source": [
    "3. Para averiguar el número de delitos por alcaldía, se puede agrupar la base de datos de acuerdo a esta variable, después, contar el número de delitos. "
   ]
  },
  {
   "cell_type": "code",
   "execution_count": 825,
   "id": "07131484",
   "metadata": {},
   "outputs": [],
   "source": [
    "datos_agrupados_alcaldia = datos_filtrados.groupby('alcaldia_hechos')"
   ]
  },
  {
   "cell_type": "code",
   "execution_count": 826,
   "id": "1f391e85",
   "metadata": {},
   "outputs": [],
   "source": [
    "delitos_por_alcaldia = datos_agrupados_alcaldia.size()"
   ]
  },
  {
   "cell_type": "code",
   "execution_count": 827,
   "id": "d46e983a",
   "metadata": {},
   "outputs": [
    {
     "data": {
      "text/plain": [
       "217938"
      ]
     },
     "execution_count": 827,
     "metadata": {},
     "output_type": "execute_result"
    }
   ],
   "source": [
    "max(delitos_por_alcaldia)"
   ]
  },
  {
   "cell_type": "code",
   "execution_count": 828,
   "id": "06e728e5",
   "metadata": {},
   "outputs": [],
   "source": [
    "comp_max = delitos_por_alcaldia == max(delitos_por_alcaldia)"
   ]
  },
  {
   "cell_type": "code",
   "execution_count": 829,
   "id": "e7750bfe",
   "metadata": {},
   "outputs": [
    {
     "data": {
      "text/plain": [
       "alcaldia_hechos\n",
       "CUAUHTEMOC    217938\n",
       "dtype: int64"
      ]
     },
     "execution_count": 829,
     "metadata": {},
     "output_type": "execute_result"
    }
   ],
   "source": [
    "delitos_por_alcaldia[comp_max]"
   ]
  },
  {
   "cell_type": "code",
   "execution_count": 830,
   "id": "eef6ad52",
   "metadata": {},
   "outputs": [],
   "source": [
    "comp_min = delitos_por_alcaldia == min(delitos_por_alcaldia)"
   ]
  },
  {
   "cell_type": "code",
   "execution_count": 831,
   "id": "6599cfbc",
   "metadata": {},
   "outputs": [
    {
     "data": {
      "text/plain": [
       "alcaldia_hechos\n",
       "MILPA ALTA    10542\n",
       "dtype: int64"
      ]
     },
     "execution_count": 831,
     "metadata": {},
     "output_type": "execute_result"
    }
   ],
   "source": [
    "delitos_por_alcaldia[comp_min]"
   ]
  },
  {
   "cell_type": "markdown",
   "id": "0cb74483",
   "metadata": {},
   "source": [
    "La alcaldía Cuauhtémoc tiene una población de $545884$ habitantes, con una densidad de población de $16848$ habitantes por $km^2$ (fuente: [Wikipedia](http://es.wikipedia.org/wiki/Demarcaciones_territoriales_de_la_Ciudad_de_M%C3%A9xico \"Wikipedia\")), de hecho es la alcaldía con la mayor densidad poblacional. Por su parte, Milpa Alta tiene una población de $152 685$ habitantes, con una densidad población de $668$ habitantes por $km^2$, siendo la alcaldía con la menor densidad poblacional. Así que tan sólo el número de habitantes que hay en cada zona, y el cómo están distribuidas son factores importantes para esta incidencia de delitos."
   ]
  },
  {
   "cell_type": "markdown",
   "id": "82163ef5",
   "metadata": {},
   "source": [
    "Para entender un poco más sobre lo que pasa en la alcaldía Cuauhtémoc, podemos revisar cuáles son los delitos de mayor incidencia, y ver si existe alguna relación entre ellos."
   ]
  },
  {
   "cell_type": "markdown",
   "id": "001092cb",
   "metadata": {},
   "source": [
    "Primero seleccionamos los datos de la alcaldía, después lo agrupamos por delitos."
   ]
  },
  {
   "cell_type": "code",
   "execution_count": 807,
   "id": "bca39838",
   "metadata": {},
   "outputs": [],
   "source": [
    "delitos_cuauhtemoc = datos_agrupados_alcaldia.get_group('CUAUHTEMOC').groupby('delito')"
   ]
  },
  {
   "cell_type": "markdown",
   "id": "54106489",
   "metadata": {},
   "source": [
    "Ahora, calculamos la ocurrencia de los delitos. A continuación se muestran los cinco delitos con mayor incidencia:"
   ]
  },
  {
   "cell_type": "code",
   "execution_count": 815,
   "id": "cc872839",
   "metadata": {},
   "outputs": [
    {
     "data": {
      "text/plain": [
       "delito\n",
       "FRAUDE                                            22498\n",
       "ROBO DE OBJETOS                                   15542\n",
       "VIOLENCIA FAMILIAR                                12129\n",
       "ROBO A NEGOCIO SIN VIOLENCIA                      11098\n",
       "ROBO A TRANSEUNTE EN VIA PUBLICA CON VIOLENCIA    10229\n",
       "dtype: int64"
      ]
     },
     "execution_count": 815,
     "metadata": {},
     "output_type": "execute_result"
    }
   ],
   "source": [
    "delitos_cuauhtemoc.size().nlargest()"
   ]
  },
  {
   "cell_type": "markdown",
   "id": "343ba44a",
   "metadata": {},
   "source": [
    "Se observa que en estos delitos está implicado el robo."
   ]
  },
  {
   "cell_type": "markdown",
   "id": "804bf919",
   "metadata": {},
   "source": [
    "4. Ya que hay registros muy viejos en la base de datos, tomaré un rango de años razonable, de forma que los factores sociales, geográficos, etc que son claves para estos delitos, aún sean vigentes. El rango que tomaré son los últimos 15 años."
   ]
  },
  {
   "cell_type": "markdown",
   "id": "fb07e653",
   "metadata": {},
   "source": [
    "## Análisis por mes"
   ]
  },
  {
   "cell_type": "markdown",
   "id": "a5139efa",
   "metadata": {},
   "source": [
    "Vamos a revisar los delitos con mayor incidencia de los últimos 15 años para cada mes."
   ]
  },
  {
   "cell_type": "code",
   "execution_count": null,
   "id": "52a299c5",
   "metadata": {},
   "outputs": [],
   "source": [
    "def frec_total_año():\n",
    "    meses_año = ['Enero','Febrero','Marzo','Abril','Mayo','Junio','Julio','Agosto','Septiembre','Octubre','Noviembre','Diciembre']\n",
    "    df_aux = pd.DataFrame()\n",
    "    \n",
    "    for mes in meses_año:\n",
    "        delitos_mes = frec_total_mes(mes)\n",
    "        df_aux[mes] = delitos_mes.index\n",
    "    return df_aux"
   ]
  },
  {
   "cell_type": "code",
   "execution_count": 1095,
   "id": "da9b5488",
   "metadata": {},
   "outputs": [],
   "source": [
    "frec_total_ene  = frec_total_mes('Enero')"
   ]
  },
  {
   "cell_type": "code",
   "execution_count": 1096,
   "id": "0d162a2d",
   "metadata": {},
   "outputs": [
    {
     "data": {
      "text/html": [
       "<div>\n",
       "<style scoped>\n",
       "    .dataframe tbody tr th:only-of-type {\n",
       "        vertical-align: middle;\n",
       "    }\n",
       "\n",
       "    .dataframe tbody tr th {\n",
       "        vertical-align: top;\n",
       "    }\n",
       "\n",
       "    .dataframe thead th {\n",
       "        text-align: right;\n",
       "    }\n",
       "</style>\n",
       "<table border=\"1\" class=\"dataframe\">\n",
       "  <thead>\n",
       "    <tr style=\"text-align: right;\">\n",
       "      <th></th>\n",
       "      <th>ocurrencia</th>\n",
       "    </tr>\n",
       "  </thead>\n",
       "  <tbody>\n",
       "    <tr>\n",
       "      <th>FRAUDE</th>\n",
       "      <td>2</td>\n",
       "    </tr>\n",
       "    <tr>\n",
       "      <th>DENUNCIA DE HECHOS</th>\n",
       "      <td>2</td>\n",
       "    </tr>\n",
       "    <tr>\n",
       "      <th>TORTURA</th>\n",
       "      <td>2</td>\n",
       "    </tr>\n",
       "    <tr>\n",
       "      <th>VIOLENCIA FAMILIAR</th>\n",
       "      <td>2</td>\n",
       "    </tr>\n",
       "    <tr>\n",
       "      <th>VIOLACION</th>\n",
       "      <td>2</td>\n",
       "    </tr>\n",
       "  </tbody>\n",
       "</table>\n",
       "</div>"
      ],
      "text/plain": [
       "                    ocurrencia\n",
       "FRAUDE                       2\n",
       "DENUNCIA DE HECHOS           2\n",
       "TORTURA                      2\n",
       "VIOLENCIA FAMILIAR           2\n",
       "VIOLACION                    2"
      ]
     },
     "execution_count": 1096,
     "metadata": {},
     "output_type": "execute_result"
    }
   ],
   "source": [
    "frec_total_ene.nlargest(5,'ocurrencia')"
   ]
  },
  {
   "cell_type": "code",
   "execution_count": 1097,
   "id": "d64bf431",
   "metadata": {},
   "outputs": [],
   "source": [
    "frec_total_15 = frec_total_año()"
   ]
  },
  {
   "cell_type": "code",
   "execution_count": 1099,
   "id": "38db21e4",
   "metadata": {},
   "outputs": [
    {
     "data": {
      "text/html": [
       "<div>\n",
       "<style scoped>\n",
       "    .dataframe tbody tr th:only-of-type {\n",
       "        vertical-align: middle;\n",
       "    }\n",
       "\n",
       "    .dataframe tbody tr th {\n",
       "        vertical-align: top;\n",
       "    }\n",
       "\n",
       "    .dataframe thead th {\n",
       "        text-align: right;\n",
       "    }\n",
       "</style>\n",
       "<table border=\"1\" class=\"dataframe\">\n",
       "  <thead>\n",
       "    <tr style=\"text-align: right;\">\n",
       "      <th></th>\n",
       "      <th>Enero</th>\n",
       "      <th>Febrero</th>\n",
       "      <th>Marzo</th>\n",
       "      <th>Abril</th>\n",
       "      <th>Mayo</th>\n",
       "      <th>Junio</th>\n",
       "      <th>Julio</th>\n",
       "      <th>Agosto</th>\n",
       "      <th>Septiembre</th>\n",
       "      <th>Octubre</th>\n",
       "      <th>Noviembre</th>\n",
       "      <th>Diciembre</th>\n",
       "    </tr>\n",
       "  </thead>\n",
       "  <tbody>\n",
       "    <tr>\n",
       "      <th>0</th>\n",
       "      <td>FRAUDE</td>\n",
       "      <td>TORTURA</td>\n",
       "      <td>FRAUDE</td>\n",
       "      <td>ABUSO DE CONFIANZA</td>\n",
       "      <td>TORTURA</td>\n",
       "      <td>TORTURA</td>\n",
       "      <td>TORTURA</td>\n",
       "      <td>DENUNCIA DE HECHOS</td>\n",
       "      <td>TORTURA</td>\n",
       "      <td>TORTURA</td>\n",
       "      <td>FRAUDE</td>\n",
       "      <td>FRAUDE</td>\n",
       "    </tr>\n",
       "    <tr>\n",
       "      <th>1</th>\n",
       "      <td>DENUNCIA DE HECHOS</td>\n",
       "      <td>OMISION DE AUXILIO O DE CUIDADO</td>\n",
       "      <td>DENUNCIA DE HECHOS</td>\n",
       "      <td>AMENAZAS</td>\n",
       "      <td>FRAUDE</td>\n",
       "      <td>VIOLACION</td>\n",
       "      <td>FRAUDE</td>\n",
       "      <td>ABUSO SEXUAL</td>\n",
       "      <td>VIOLENCIA FAMILIAR</td>\n",
       "      <td>DENUNCIA DE HECHOS</td>\n",
       "      <td>TORTURA</td>\n",
       "      <td>DENUNCIA DE HECHOS</td>\n",
       "    </tr>\n",
       "    <tr>\n",
       "      <th>2</th>\n",
       "      <td>TORTURA</td>\n",
       "      <td>RESPONSABILIDAD PROFESIONAL Y TECNICA</td>\n",
       "      <td>LA ADMINISTRACION DE JUSTICIA</td>\n",
       "      <td>ABANDONO DE PERSONA</td>\n",
       "      <td>ABUSO SEXUAL</td>\n",
       "      <td>FRAUDE</td>\n",
       "      <td>INSOLVENCIA ALIMENTARIA</td>\n",
       "      <td>ABUSO DE CONFIANZA</td>\n",
       "      <td>FRAUDE</td>\n",
       "      <td>FRAUDE</td>\n",
       "      <td>DENUNCIA DE HECHOS</td>\n",
       "      <td>TORTURA</td>\n",
       "    </tr>\n",
       "    <tr>\n",
       "      <th>3</th>\n",
       "      <td>VIOLENCIA FAMILIAR</td>\n",
       "      <td>FRAUDE</td>\n",
       "      <td>AMENAZAS</td>\n",
       "      <td>ABUSO SEXUAL</td>\n",
       "      <td>DESPOJO</td>\n",
       "      <td>EJERCICIO INDEBIDO DEL SERVIDOR PUBLICO</td>\n",
       "      <td>ABUSO DE CONFIANZA</td>\n",
       "      <td>DESPOJO</td>\n",
       "      <td>ABUSO SEXUAL</td>\n",
       "      <td>INSOLVENCIA ALIMENTARIA</td>\n",
       "      <td>DESPOJO</td>\n",
       "      <td>INSOLVENCIA ALIMENTARIA</td>\n",
       "    </tr>\n",
       "    <tr>\n",
       "      <th>4</th>\n",
       "      <td>VIOLACION</td>\n",
       "      <td>DENUNCIA DE HECHOS</td>\n",
       "      <td>CONTRA EL CUMPLIMIENTO DE LA OBLIGACION ALIMEN...</td>\n",
       "      <td>CONTRA EL CUMPLIMIENTO DE LA OBLIGACION ALIMEN...</td>\n",
       "      <td>ABUSO DE CONFIANZA</td>\n",
       "      <td>INSOLVENCIA ALIMENTARIA</td>\n",
       "      <td>DENUNCIA DE HECHOS</td>\n",
       "      <td>CONTRA EL CUMPLIMIENTO DE LA OBLIGACION ALIMEN...</td>\n",
       "      <td>INSOLVENCIA ALIMENTARIA</td>\n",
       "      <td>ABANDONO DE PERSONA</td>\n",
       "      <td>INSOLVENCIA ALIMENTARIA</td>\n",
       "      <td>FALSIFICACION DE DOCUMENTOS</td>\n",
       "    </tr>\n",
       "  </tbody>\n",
       "</table>\n",
       "</div>"
      ],
      "text/plain": [
       "                Enero                                Febrero  \\\n",
       "0              FRAUDE                                TORTURA   \n",
       "1  DENUNCIA DE HECHOS        OMISION DE AUXILIO O DE CUIDADO   \n",
       "2             TORTURA  RESPONSABILIDAD PROFESIONAL Y TECNICA   \n",
       "3  VIOLENCIA FAMILIAR                                 FRAUDE   \n",
       "4           VIOLACION                     DENUNCIA DE HECHOS   \n",
       "\n",
       "                                               Marzo  \\\n",
       "0                                             FRAUDE   \n",
       "1                                 DENUNCIA DE HECHOS   \n",
       "2                      LA ADMINISTRACION DE JUSTICIA   \n",
       "3                                           AMENAZAS   \n",
       "4  CONTRA EL CUMPLIMIENTO DE LA OBLIGACION ALIMEN...   \n",
       "\n",
       "                                               Abril                Mayo  \\\n",
       "0                                 ABUSO DE CONFIANZA             TORTURA   \n",
       "1                                           AMENAZAS              FRAUDE   \n",
       "2                                ABANDONO DE PERSONA        ABUSO SEXUAL   \n",
       "3                                       ABUSO SEXUAL             DESPOJO   \n",
       "4  CONTRA EL CUMPLIMIENTO DE LA OBLIGACION ALIMEN...  ABUSO DE CONFIANZA   \n",
       "\n",
       "                                     Junio                    Julio  \\\n",
       "0                                  TORTURA                  TORTURA   \n",
       "1                                VIOLACION                   FRAUDE   \n",
       "2                                   FRAUDE  INSOLVENCIA ALIMENTARIA   \n",
       "3  EJERCICIO INDEBIDO DEL SERVIDOR PUBLICO       ABUSO DE CONFIANZA   \n",
       "4                  INSOLVENCIA ALIMENTARIA       DENUNCIA DE HECHOS   \n",
       "\n",
       "                                              Agosto               Septiembre  \\\n",
       "0                                 DENUNCIA DE HECHOS                  TORTURA   \n",
       "1                                       ABUSO SEXUAL       VIOLENCIA FAMILIAR   \n",
       "2                                 ABUSO DE CONFIANZA                   FRAUDE   \n",
       "3                                            DESPOJO             ABUSO SEXUAL   \n",
       "4  CONTRA EL CUMPLIMIENTO DE LA OBLIGACION ALIMEN...  INSOLVENCIA ALIMENTARIA   \n",
       "\n",
       "                   Octubre                Noviembre  \\\n",
       "0                  TORTURA                   FRAUDE   \n",
       "1       DENUNCIA DE HECHOS                  TORTURA   \n",
       "2                   FRAUDE       DENUNCIA DE HECHOS   \n",
       "3  INSOLVENCIA ALIMENTARIA                  DESPOJO   \n",
       "4      ABANDONO DE PERSONA  INSOLVENCIA ALIMENTARIA   \n",
       "\n",
       "                     Diciembre  \n",
       "0                       FRAUDE  \n",
       "1           DENUNCIA DE HECHOS  \n",
       "2                      TORTURA  \n",
       "3      INSOLVENCIA ALIMENTARIA  \n",
       "4  FALSIFICACION DE DOCUMENTOS  "
      ]
     },
     "execution_count": 1099,
     "metadata": {},
     "output_type": "execute_result"
    }
   ],
   "source": [
    "frec_tota_15"
   ]
  },
  {
   "cell_type": "markdown",
   "id": "854f0304",
   "metadata": {},
   "source": [
    "Tomemos de ejemplo al fraude, se observa que a partir de la segunda mitad del año este delito comienza a aumentar, esto quizá se debe a que las personas comienzan a tener deudas y recurren a estafar a otros."
   ]
  },
  {
   "cell_type": "markdown",
   "id": "96960041",
   "metadata": {},
   "source": [
    "5. "
   ]
  },
  {
   "cell_type": "code",
   "execution_count": 1108,
   "id": "e92d5b59",
   "metadata": {},
   "outputs": [],
   "source": [
    "datos_agrupados_alcaldia = datos_filtrados.groupby('alcaldia_hechos').first()"
   ]
  },
  {
   "cell_type": "code",
   "execution_count": 1109,
   "id": "1cfada37",
   "metadata": {},
   "outputs": [],
   "source": [
    "alcaldias_cdmx = ['AZCAPOTZALCO', 'ALVARO OBREGON', 'BENITO JUAREZ', 'COYOACAN', 'CUAJIMALPA DE MORELOS','CUAUHTEMOC','GUSTAVO A MADERO', 'IZTACALCO', 'IZTAPALAPA', 'LA MAGDALENA CONTRERAS','MIGUEL HIDALGO','MILPA ALTA', 'TLALPAN','TLAHUAC','VENUSTIANO CARRANZA','XOCHIMILCO']"
   ]
  },
  {
   "cell_type": "code",
   "execution_count": 1136,
   "id": "c0313908",
   "metadata": {},
   "outputs": [],
   "source": [
    "azcapotzalco = datos_filtrados[datos_filtrados['alcaldia_hechos'] == alcaldias_cdmx[0]]"
   ]
  },
  {
   "cell_type": "code",
   "execution_count": 1148,
   "id": "9e54d24e",
   "metadata": {},
   "outputs": [],
   "source": [
    "def agrupacion_alcaldia():\n",
    "    df_aux = pd.DataFrame()\n",
    "    for alcaldia in alcaldias_cdmx:\n",
    "        datos_por_alcaldia = datos_filtrados[datos_filtrados['alcaldia_hechos'] == alcaldia]\n",
    "        agrupado = datos_por_alcaldia.groupby('delito', as_index = False, group_keys = True).size()\n",
    "        df_aux[alcaldia] = agrupado['delito']\n",
    "    return df_aux"
   ]
  },
  {
   "cell_type": "code",
   "execution_count": 1149,
   "id": "10251a42",
   "metadata": {},
   "outputs": [],
   "source": [
    "frec_delitos_alcaldia = agrupacion_alcaldia()"
   ]
  },
  {
   "cell_type": "markdown",
   "id": "4fb36103",
   "metadata": {},
   "source": [
    "Vamos a mostrar a los 5 delitos más frecuentes por alcaldía:"
   ]
  },
  {
   "cell_type": "code",
   "execution_count": 1155,
   "id": "b25fc545",
   "metadata": {},
   "outputs": [
    {
     "data": {
      "text/html": [
       "<div>\n",
       "<style scoped>\n",
       "    .dataframe tbody tr th:only-of-type {\n",
       "        vertical-align: middle;\n",
       "    }\n",
       "\n",
       "    .dataframe tbody tr th {\n",
       "        vertical-align: top;\n",
       "    }\n",
       "\n",
       "    .dataframe thead th {\n",
       "        text-align: right;\n",
       "    }\n",
       "</style>\n",
       "<table border=\"1\" class=\"dataframe\">\n",
       "  <thead>\n",
       "    <tr style=\"text-align: right;\">\n",
       "      <th></th>\n",
       "      <th>AZCAPOTZALCO</th>\n",
       "      <th>ALVARO OBREGON</th>\n",
       "      <th>BENITO JUAREZ</th>\n",
       "      <th>COYOACAN</th>\n",
       "      <th>CUAJIMALPA DE MORELOS</th>\n",
       "      <th>CUAUHTEMOC</th>\n",
       "      <th>GUSTAVO A MADERO</th>\n",
       "      <th>IZTACALCO</th>\n",
       "      <th>IZTAPALAPA</th>\n",
       "      <th>LA MAGDALENA CONTRERAS</th>\n",
       "      <th>MIGUEL HIDALGO</th>\n",
       "      <th>MILPA ALTA</th>\n",
       "      <th>TLALPAN</th>\n",
       "      <th>TLAHUAC</th>\n",
       "      <th>VENUSTIANO CARRANZA</th>\n",
       "      <th>XOCHIMILCO</th>\n",
       "    </tr>\n",
       "  </thead>\n",
       "  <tbody>\n",
       "    <tr>\n",
       "      <th>0</th>\n",
       "      <td>ABANDONO DE PERSONA</td>\n",
       "      <td>ABANDONO DE PERSONA</td>\n",
       "      <td>ABANDONO DE PERSONA</td>\n",
       "      <td>ABANDONO DE PERSONA</td>\n",
       "      <td>ABANDONO DE PERSONA</td>\n",
       "      <td>ABANDONO DE PERSONA</td>\n",
       "      <td>ABANDONO DE PERSONA</td>\n",
       "      <td>ABANDONO DE PERSONA</td>\n",
       "      <td>ABANDONO DE PERSONA</td>\n",
       "      <td>ABANDONO DE PERSONA</td>\n",
       "      <td>ABANDONO DE PERSONA</td>\n",
       "      <td>ABANDONO DE PERSONA</td>\n",
       "      <td>ABANDONO DE PERSONA</td>\n",
       "      <td>ABANDONO DE PERSONA</td>\n",
       "      <td>ABANDONO DE PERSONA</td>\n",
       "      <td>ABANDONO DE PERSONA</td>\n",
       "    </tr>\n",
       "    <tr>\n",
       "      <th>1</th>\n",
       "      <td>ABORTO</td>\n",
       "      <td>ABORTO</td>\n",
       "      <td>ABORTO</td>\n",
       "      <td>ABORTO</td>\n",
       "      <td>ABORTO</td>\n",
       "      <td>ABORTO</td>\n",
       "      <td>ABORTO</td>\n",
       "      <td>ABORTO</td>\n",
       "      <td>ABORTO</td>\n",
       "      <td>ABORTO</td>\n",
       "      <td>ABORTO</td>\n",
       "      <td>ABORTO</td>\n",
       "      <td>ABORTO</td>\n",
       "      <td>ABORTO</td>\n",
       "      <td>ABORTO</td>\n",
       "      <td>ABORTO</td>\n",
       "    </tr>\n",
       "    <tr>\n",
       "      <th>2</th>\n",
       "      <td>ABUSO DE AUTORIDAD</td>\n",
       "      <td>ABUSO DE AUTORIDAD</td>\n",
       "      <td>ABUSO DE AUTORIDAD</td>\n",
       "      <td>ABUSO DE AUTORIDAD</td>\n",
       "      <td>ABUSO DE AUTORIDAD</td>\n",
       "      <td>ABUSO DE AUTORIDAD</td>\n",
       "      <td>ABUSO DE AUTORIDAD</td>\n",
       "      <td>ABUSO DE AUTORIDAD</td>\n",
       "      <td>ABUSO DE AUTORIDAD</td>\n",
       "      <td>ABUSO DE AUTORIDAD</td>\n",
       "      <td>ABUSO DE AUTORIDAD</td>\n",
       "      <td>ABUSO DE AUTORIDAD</td>\n",
       "      <td>ABUSO DE AUTORIDAD</td>\n",
       "      <td>ABUSO DE AUTORIDAD</td>\n",
       "      <td>ABUSO DE AUTORIDAD</td>\n",
       "      <td>ABUSO DE AUTORIDAD</td>\n",
       "    </tr>\n",
       "    <tr>\n",
       "      <th>3</th>\n",
       "      <td>ABUSO DE AUTORIDAD Y USO ILEGAL DE LA FUERZA P...</td>\n",
       "      <td>ABUSO DE AUTORIDAD Y USO ILEGAL DE LA FUERZA P...</td>\n",
       "      <td>ABUSO DE AUTORIDAD Y USO ILEGAL DE LA FUERZA P...</td>\n",
       "      <td>ABUSO DE AUTORIDAD Y USO ILEGAL DE LA FUERZA P...</td>\n",
       "      <td>ABUSO DE AUTORIDAD Y USO ILEGAL DE LA FUERZA P...</td>\n",
       "      <td>ABUSO DE AUTORIDAD Y USO ILEGAL DE LA FUERZA P...</td>\n",
       "      <td>ABUSO DE AUTORIDAD Y USO ILEGAL DE LA FUERZA P...</td>\n",
       "      <td>ABUSO DE AUTORIDAD Y USO ILEGAL DE LA FUERZA P...</td>\n",
       "      <td>ABUSO DE AUTORIDAD Y USO ILEGAL DE LA FUERZA P...</td>\n",
       "      <td>ABUSO DE AUTORIDAD Y USO ILEGAL DE LA FUERZA P...</td>\n",
       "      <td>ABUSO DE AUTORIDAD Y USO ILEGAL DE LA FUERZA P...</td>\n",
       "      <td>ABUSO DE AUTORIDAD Y USO ILEGAL DE LA FUERZA P...</td>\n",
       "      <td>ABUSO DE AUTORIDAD Y USO ILEGAL DE LA FUERZA P...</td>\n",
       "      <td>ABUSO DE AUTORIDAD Y USO ILEGAL DE LA FUERZA P...</td>\n",
       "      <td>ABUSO DE AUTORIDAD Y USO ILEGAL DE LA FUERZA P...</td>\n",
       "      <td>ABUSO DE AUTORIDAD Y USO ILEGAL DE LA FUERZA P...</td>\n",
       "    </tr>\n",
       "    <tr>\n",
       "      <th>4</th>\n",
       "      <td>ABUSO DE CONFIANZA</td>\n",
       "      <td>ABUSO DE CONFIANZA</td>\n",
       "      <td>ABUSO DE CONFIANZA</td>\n",
       "      <td>ABUSO DE CONFIANZA</td>\n",
       "      <td>ABUSO DE CONFIANZA</td>\n",
       "      <td>ABUSO DE CONFIANZA</td>\n",
       "      <td>ABUSO DE CONFIANZA</td>\n",
       "      <td>ABUSO DE CONFIANZA</td>\n",
       "      <td>ABUSO DE CONFIANZA</td>\n",
       "      <td>ABUSO DE CONFIANZA</td>\n",
       "      <td>ABUSO DE CONFIANZA</td>\n",
       "      <td>ABUSO DE CONFIANZA</td>\n",
       "      <td>ABUSO DE CONFIANZA</td>\n",
       "      <td>ABUSO DE CONFIANZA</td>\n",
       "      <td>ABUSO DE CONFIANZA</td>\n",
       "      <td>ABUSO DE CONFIANZA</td>\n",
       "    </tr>\n",
       "  </tbody>\n",
       "</table>\n",
       "</div>"
      ],
      "text/plain": [
       "                                        AZCAPOTZALCO  \\\n",
       "0                                ABANDONO DE PERSONA   \n",
       "1                                             ABORTO   \n",
       "2                                 ABUSO DE AUTORIDAD   \n",
       "3  ABUSO DE AUTORIDAD Y USO ILEGAL DE LA FUERZA P...   \n",
       "4                                 ABUSO DE CONFIANZA   \n",
       "\n",
       "                                      ALVARO OBREGON  \\\n",
       "0                                ABANDONO DE PERSONA   \n",
       "1                                             ABORTO   \n",
       "2                                 ABUSO DE AUTORIDAD   \n",
       "3  ABUSO DE AUTORIDAD Y USO ILEGAL DE LA FUERZA P...   \n",
       "4                                 ABUSO DE CONFIANZA   \n",
       "\n",
       "                                       BENITO JUAREZ  \\\n",
       "0                                ABANDONO DE PERSONA   \n",
       "1                                             ABORTO   \n",
       "2                                 ABUSO DE AUTORIDAD   \n",
       "3  ABUSO DE AUTORIDAD Y USO ILEGAL DE LA FUERZA P...   \n",
       "4                                 ABUSO DE CONFIANZA   \n",
       "\n",
       "                                            COYOACAN  \\\n",
       "0                                ABANDONO DE PERSONA   \n",
       "1                                             ABORTO   \n",
       "2                                 ABUSO DE AUTORIDAD   \n",
       "3  ABUSO DE AUTORIDAD Y USO ILEGAL DE LA FUERZA P...   \n",
       "4                                 ABUSO DE CONFIANZA   \n",
       "\n",
       "                               CUAJIMALPA DE MORELOS  \\\n",
       "0                                ABANDONO DE PERSONA   \n",
       "1                                             ABORTO   \n",
       "2                                 ABUSO DE AUTORIDAD   \n",
       "3  ABUSO DE AUTORIDAD Y USO ILEGAL DE LA FUERZA P...   \n",
       "4                                 ABUSO DE CONFIANZA   \n",
       "\n",
       "                                          CUAUHTEMOC  \\\n",
       "0                                ABANDONO DE PERSONA   \n",
       "1                                             ABORTO   \n",
       "2                                 ABUSO DE AUTORIDAD   \n",
       "3  ABUSO DE AUTORIDAD Y USO ILEGAL DE LA FUERZA P...   \n",
       "4                                 ABUSO DE CONFIANZA   \n",
       "\n",
       "                                    GUSTAVO A MADERO  \\\n",
       "0                                ABANDONO DE PERSONA   \n",
       "1                                             ABORTO   \n",
       "2                                 ABUSO DE AUTORIDAD   \n",
       "3  ABUSO DE AUTORIDAD Y USO ILEGAL DE LA FUERZA P...   \n",
       "4                                 ABUSO DE CONFIANZA   \n",
       "\n",
       "                                           IZTACALCO  \\\n",
       "0                                ABANDONO DE PERSONA   \n",
       "1                                             ABORTO   \n",
       "2                                 ABUSO DE AUTORIDAD   \n",
       "3  ABUSO DE AUTORIDAD Y USO ILEGAL DE LA FUERZA P...   \n",
       "4                                 ABUSO DE CONFIANZA   \n",
       "\n",
       "                                          IZTAPALAPA  \\\n",
       "0                                ABANDONO DE PERSONA   \n",
       "1                                             ABORTO   \n",
       "2                                 ABUSO DE AUTORIDAD   \n",
       "3  ABUSO DE AUTORIDAD Y USO ILEGAL DE LA FUERZA P...   \n",
       "4                                 ABUSO DE CONFIANZA   \n",
       "\n",
       "                              LA MAGDALENA CONTRERAS  \\\n",
       "0                                ABANDONO DE PERSONA   \n",
       "1                                             ABORTO   \n",
       "2                                 ABUSO DE AUTORIDAD   \n",
       "3  ABUSO DE AUTORIDAD Y USO ILEGAL DE LA FUERZA P...   \n",
       "4                                 ABUSO DE CONFIANZA   \n",
       "\n",
       "                                      MIGUEL HIDALGO  \\\n",
       "0                                ABANDONO DE PERSONA   \n",
       "1                                             ABORTO   \n",
       "2                                 ABUSO DE AUTORIDAD   \n",
       "3  ABUSO DE AUTORIDAD Y USO ILEGAL DE LA FUERZA P...   \n",
       "4                                 ABUSO DE CONFIANZA   \n",
       "\n",
       "                                          MILPA ALTA  \\\n",
       "0                                ABANDONO DE PERSONA   \n",
       "1                                             ABORTO   \n",
       "2                                 ABUSO DE AUTORIDAD   \n",
       "3  ABUSO DE AUTORIDAD Y USO ILEGAL DE LA FUERZA P...   \n",
       "4                                 ABUSO DE CONFIANZA   \n",
       "\n",
       "                                             TLALPAN  \\\n",
       "0                                ABANDONO DE PERSONA   \n",
       "1                                             ABORTO   \n",
       "2                                 ABUSO DE AUTORIDAD   \n",
       "3  ABUSO DE AUTORIDAD Y USO ILEGAL DE LA FUERZA P...   \n",
       "4                                 ABUSO DE CONFIANZA   \n",
       "\n",
       "                                             TLAHUAC  \\\n",
       "0                                ABANDONO DE PERSONA   \n",
       "1                                             ABORTO   \n",
       "2                                 ABUSO DE AUTORIDAD   \n",
       "3  ABUSO DE AUTORIDAD Y USO ILEGAL DE LA FUERZA P...   \n",
       "4                                 ABUSO DE CONFIANZA   \n",
       "\n",
       "                                 VENUSTIANO CARRANZA  \\\n",
       "0                                ABANDONO DE PERSONA   \n",
       "1                                             ABORTO   \n",
       "2                                 ABUSO DE AUTORIDAD   \n",
       "3  ABUSO DE AUTORIDAD Y USO ILEGAL DE LA FUERZA P...   \n",
       "4                                 ABUSO DE CONFIANZA   \n",
       "\n",
       "                                          XOCHIMILCO  \n",
       "0                                ABANDONO DE PERSONA  \n",
       "1                                             ABORTO  \n",
       "2                                 ABUSO DE AUTORIDAD  \n",
       "3  ABUSO DE AUTORIDAD Y USO ILEGAL DE LA FUERZA P...  \n",
       "4                                 ABUSO DE CONFIANZA  "
      ]
     },
     "execution_count": 1155,
     "metadata": {},
     "output_type": "execute_result"
    }
   ],
   "source": [
    "frec_delitos_alcaldia.head()"
   ]
  },
  {
   "cell_type": "markdown",
   "id": "2831fe58",
   "metadata": {},
   "source": [
    "Se observa que son los mismos para todos los casos, así que para analizar la incidencia en cada alcaldia, a continuación se muestran histogramas para cada uno de los 5 delitos más recurrentes."
   ]
  },
  {
   "cell_type": "markdown",
   "id": "cf1054e8",
   "metadata": {},
   "source": [
    "Tomé de una de las columnas los nombres de estos delitos para seleccionarlos de la base de datos:"
   ]
  },
  {
   "cell_type": "code",
   "execution_count": 1178,
   "id": "1f4f1a98",
   "metadata": {},
   "outputs": [],
   "source": [
    "delitos_mas_frec = ['ABANDONO DE PERSONA', 'ABORTO', 'ABUSO DE AUTORIDAD', 'ABUSO DE AUTORIDAD Y USO ILEGAL DE LA FUERZA PUBLICA', 'ABUSO DE CONFIANZA', 'ABUSO SEXUAL']"
   ]
  },
  {
   "cell_type": "code",
   "execution_count": 1184,
   "id": "9e0b78ad",
   "metadata": {},
   "outputs": [],
   "source": [
    "def delitos_frec_alcaldia(delito):\n",
    "    frec_delito = datos_filtrados.groupby('delito').get_group(delito)\n",
    "    agrupado_alcaldia = frec_delito.groupby('alcaldia_hechos', as_index = False, group_keys = True).size()\n",
    "    plt.bar(agrupado_alcaldia['alcaldia_hechos'],agrupado_alcaldia['size'])\n",
    "    plt.xticks(rotation = 90)\n",
    "    plt.ylabel('Incidencia del delito')\n",
    "    plt.title(delito)\n",
    "    plt.show()"
   ]
  },
  {
   "cell_type": "markdown",
   "id": "5f5d373f",
   "metadata": {},
   "source": [
    "### Abandono de persona"
   ]
  },
  {
   "cell_type": "code",
   "execution_count": 1185,
   "id": "d7f71e89",
   "metadata": {},
   "outputs": [
    {
     "data": {
      "image/png": "[encoded data removed]",
      "text/plain": [
       "<Figure size 432x288 with 1 Axes>"
      ]
     },
     "metadata": {
      "needs_background": "light"
     },
     "output_type": "display_data"
    }
   ],
   "source": [
    "delitos_frec_alcaldia(delitos_mas_frec[0])"
   ]
  },
  {
   "cell_type": "markdown",
   "id": "222363c2",
   "metadata": {},
   "source": [
    "En este caso, la alcaldía con mayor incidencia en este delito es Cuauhtémoc, seguido de Iztapalapa, mientras que alcadías como Milpa Alta y Cuajimalpa de Morelos están entre las de menor incidencia."
   ]
  },
  {
   "cell_type": "markdown",
   "id": "63416d6b",
   "metadata": {},
   "source": [
    "### Aborto"
   ]
  },
  {
   "cell_type": "code",
   "execution_count": 1186,
   "id": "ab6dba76",
   "metadata": {},
   "outputs": [
    {
     "data": {
      "image/png": "[encoded data removed]",
      "text/plain": [
       "<Figure size 432x288 with 1 Axes>"
      ]
     },
     "metadata": {
      "needs_background": "light"
     },
     "output_type": "display_data"
    }
   ],
   "source": [
    "delitos_frec_alcaldia(delitos_mas_frec[1])"
   ]
  },
  {
   "cell_type": "markdown",
   "id": "57ea55fa",
   "metadata": {},
   "source": [
    "Iztapalapa, Gustavo A. Madero y Álvaro Obregón son las alcaldías que registran más casos de aborto. Cuajimalpa de Morelos, Azcatzalco y Milpa Alta son las de menor incidencia."
   ]
  },
  {
   "cell_type": "markdown",
   "id": "23937100",
   "metadata": {},
   "source": [
    "### Abuso de autoridad "
   ]
  },
  {
   "cell_type": "code",
   "execution_count": 1187,
   "id": "5f062233",
   "metadata": {},
   "outputs": [
    {
     "data": {
      "image/png": "[encoded data removed]",
      "text/plain": [
       "<Figure size 432x288 with 1 Axes>"
      ]
     },
     "metadata": {
      "needs_background": "light"
     },
     "output_type": "display_data"
    }
   ],
   "source": [
    "delitos_frec_alcaldia(delitos_mas_frec[2])"
   ]
  },
  {
   "cell_type": "markdown",
   "id": "519d82ac",
   "metadata": {},
   "source": [
    "De nuevo Cuauhtémoc e Iztapalapa muestran mayor incidencia para este delito. Milpa Alta y Cuajimalpa de Morelos son las de menor incidencia."
   ]
  },
  {
   "cell_type": "markdown",
   "id": "39d380d1",
   "metadata": {},
   "source": [
    "### Abuso de autoridad y uso ilegal de la fuerza pública "
   ]
  },
  {
   "cell_type": "code",
   "execution_count": 1188,
   "id": "f5301e6b",
   "metadata": {},
   "outputs": [
    {
     "data": {
      "image/png": "[encoded data removed]",
      "text/plain": [
       "<Figure size 432x288 with 1 Axes>"
      ]
     },
     "metadata": {
      "needs_background": "light"
     },
     "output_type": "display_data"
    }
   ],
   "source": [
    "delitos_frec_alcaldia(delitos_mas_frec[3])"
   ]
  },
  {
   "cell_type": "markdown",
   "id": "280aad81",
   "metadata": {},
   "source": [
    "Alcaldías de mayor ocurrencia: Cuauhtémoc e Iztapalapa. Alcaldías de menor incidencia: Milpa Alta y Cuajimalpa de Morelos."
   ]
  },
  {
   "cell_type": "markdown",
   "id": "d54452ae",
   "metadata": {},
   "source": [
    "### Abuso de confianza"
   ]
  },
  {
   "cell_type": "code",
   "execution_count": 1189,
   "id": "343e4c3d",
   "metadata": {},
   "outputs": [
    {
     "data": {
      "image/png": "[encoded data removed]",
      "text/plain": [
       "<Figure size 432x288 with 1 Axes>"
      ]
     },
     "metadata": {
      "needs_background": "light"
     },
     "output_type": "display_data"
    }
   ],
   "source": [
    "delitos_frec_alcaldia(delitos_mas_frec[4])"
   ]
  },
  {
   "cell_type": "markdown",
   "id": "5705ade9",
   "metadata": {},
   "source": [
    "Cuauhtémoc, Benito Juárez e Iztapalapa son las alcaldías con mayor frecuencia en este delito; mientras que Milpa Alta, La Magdalena Contreras y Cuajimalpa de Morelos, son las alcaldías con menor frecuencia."
   ]
  },
  {
   "cell_type": "markdown",
   "id": "fde88070",
   "metadata": {},
   "source": [
    "**Conclusión**: Como habíamos visto en ejercicios anteriores, Cuauhtémoc es una de las alcaldías donde se registran más delitos, y ahora al comparar con el resto de las alcaldías,se observa que en este lugar hay una gran incidencia para distintos tipos de delitos, Iztapalapa tiene la misma característica. Esto se puede deber a la densidad poblacional, el estado socio económico general, infraestructura de las alcaldías, etc."
   ]
  },
  {
   "cell_type": "markdown",
   "id": "09362188",
   "metadata": {},
   "source": [
    "Milpa Alta y Cuajimalpa de Morelos son las alcaldías que mostraron menor incidencia en los delitos, ya se había analizado que Milpa Alta tiene una población pequeña, Cuajimalpa tiene una población mayor, pero su densidad también es peq"
   ]
  }
 ],
 "metadata": {
  "kernelspec": {
   "display_name": "Python 3 (ipykernel)",
   "language": "python",
   "name": "python3"
  },
  "language_info": {
   "codemirror_mode": {
    "name": "ipython",
    "version": 3
   },
   "file_extension": ".py",
   "mimetype": "text/x-python",
   "name": "python",
   "nbconvert_exporter": "python",
   "pygments_lexer": "ipython3",
   "version": "3.8.12"
  }
 },
 "nbformat": 4,
 "nbformat_minor": 5
}
