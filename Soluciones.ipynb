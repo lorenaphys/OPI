{
 "cells": [
  {
   "cell_type": "markdown",
   "id": "e0bfed66",
   "metadata": {},
   "source": [
    "# Soluciones al examen de OPI "
   ]
  },
  {
   "cell_type": "code",
   "execution_count": 86,
   "id": "79851df4",
   "metadata": {},
   "outputs": [],
   "source": [
    "# paquetes necesarios para este examen\n",
    "import pandas as pd\n",
    "from datetime import datetime # para que Python reconozca las fechas\n",
    "import numpy as np\n",
    "import math\n",
    "import matplotlib.pyplot as plt\n",
    "from scipy.stats import linregress"
   ]
  },
  {
   "cell_type": "code",
   "execution_count": 346,
   "id": "6092a53e",
   "metadata": {},
   "outputs": [],
   "source": [
    "# Función que se necesitará más adelante para agregar formato a la fec\n",
    "def cambio_mes(mes):\n",
    "    reemplazo = (\n",
    "            ('Enero', '01'),\n",
    "            ('Febrero', '02'),\n",
    "            ('Marzo', '03'),\n",
    "            ('Abril', '04'),\n",
    "            ('Mayo', '05'),\n",
    "            ('Junio','06'),\n",
    "            ('Julio','07'),\n",
    "            ('Agosto','08'),\n",
    "            ('Septiembre','09'),\n",
    "            ('Octubre', '10'),\n",
    "            ('Noviembre','11'),\n",
    "            ('Diciembre', '12')\n",
    "        )\n",
    "    for a, b in reemplazo:\n",
    "        mes = mes.replace(a, b)\n",
    "    return mes\n",
    "cambio_mes.__doc__ = \"Cambia el mes a su correspondiente valor numerico\""
   ]
  },
  {
   "cell_type": "code",
   "execution_count": 697,
   "id": "b61c6183",
   "metadata": {},
   "outputs": [],
   "source": [
    "def seleccion_tiempo(rango, datos):\n",
    "    comp = datos['ao_hechos'] >= str(int(datos['ao_hechos'][-1]) - rango)\n",
    "    datos_aux = datos[comp]\n",
    "    return datos_aux\n",
    "seleccion_tiempo.__doc__ = \"Se seleccionan los datos de los últimos años, de acuerdo al rango dado.\"\n",
    "\n",
    "def regresion_lineal(rango,datos):\n",
    "    datos = seleccion_tiempo(rango, datos)\n",
    "    X = np.arange(len(datos.index))  # features\n",
    "    y = datos['size']\n",
    "    pendiente = linregress(X, y).slope\n",
    "    return pendiente\n",
    "regresion_lineal.__doc__ = \"Regresa la pendiente de los datos seleccionados de acuerdo al rango de años dado.\"\n",
    "\n",
    "def seleccion_delito(datos, lista):\n",
    "    #comp = datos['delito'] == delito\n",
    "    datos_aux = datos[datos['delito'] == lista]\n",
    "    return datos_aux\n",
    "seleccion_delito.__doc__ = \"Se crea un subgrupo de los datos de acuerdo al delito elegido.\"\n",
    "\n",
    "def alza_baja(rango, datos, lista):\n",
    "    lista_aux = []\n",
    "    lista_total = []\n",
    "    for delito in lista:\n",
    "        datos_aux = seleccion_delito(datos, delito)\n",
    "        tiempo = seleccion_tiempo(rango, datos_aux)\n",
    "        pendiente = regresion_lineal(rango, datos_aux)\n",
    "        if pendiente > 0:\n",
    "            lista_aux.append('Alza')\n",
    "        else:\n",
    "            lista_aux.append('Baja')\n",
    "    lista_total = lista_total + lista_aux\n",
    "    df = pd.DataFrame(lista_total)\n",
    "    df.set_index(lista, inplace = True)\n",
    "    df.columns = ['Tendencia durante los últimos '+ str(rango) + ' años']\n",
    "    return df\n",
    "alza_baja.__doc__ = \"De acuerdo al rango de años dado, se muestra en un Data Frame la tendencia para cada uno de los delitos registrados.\""
   ]
  },
  {
   "cell_type": "markdown",
   "id": "8bf9eebc",
   "metadata": {},
   "source": [
    "1. Los datos son de calidad cuando sirven para una finalidad prevista, basados en las siguientes características:\n",
    "* No debe haber huecos, ni variables repetidas.\n",
    "* La información debe ser relevante para cumplir los objetivos, por ejemplo, si estoy haciendo un análisis sobre los delitos en la ciudad de México, no me sirve tener información sobre el peso de los habitantes de la ciudad.\n",
    "* Confiabilidad: hay que asegurarse que los datos no sean ambiguos, vagos o que contengan información contradictoria, por ejemplo, si tengo información sobre los delitos de una alcaldía en dos columnas y cada una con información diferente.\n",
    "* Los datos tienen que ser colectados en el tiempo correcto, hay que asegurarse que no sean obsoletos, tomando de nuevo el análisis de los delitos de la CDMX, no tendría sentido que sólo tenga información de hace 30 años."
   ]
  },
  {
   "cell_type": "markdown",
   "id": "96930f2e",
   "metadata": {},
   "source": [
    "2. Datos a la alza y a la baja."
   ]
  },
  {
   "cell_type": "code",
   "execution_count": 25,
   "id": "abae7563",
   "metadata": {},
   "outputs": [],
   "source": [
    "# importamos la base de datos\n",
    "# encoding='utf-8' es para que al importarse la base de datos, reconozca caracteres \n",
    "# como la ñ.\n",
    "# dtype='unicode' es para evitar un warning por low_memory ya que python estaba \n",
    "# adivinando el tipo de objeto (dtype) de cada columna\n",
    "\n",
    "datos = pd.read_csv('/home/lorena/Escritorio/OPI/carpetas_completa_febrero_2022.csv', encoding='utf-8', dtype='unicode')"
   ]
  },
  {
   "cell_type": "markdown",
   "id": "187384b0",
   "metadata": {},
   "source": [
    "Para que las columnas fecha_hechos y fecha_inicia tal cual sean reconocidas como fechas, se utiliza la función de pandas **to_datetime**."
   ]
  },
  {
   "cell_type": "code",
   "execution_count": 30,
   "id": "9151e0ab",
   "metadata": {},
   "outputs": [],
   "source": [
    "datos['fecha_hechos'] = pd.to_datetime(datos['fecha_hechos'], format = \"%Y %m %d %H:%M:%S\")\n",
    "datos['fecha_inicio'] = pd.to_datetime(datos['fecha_inicio'], format = \"%Y %m %d %H:%M:%S\")"
   ]
  },
  {
   "cell_type": "code",
   "execution_count": 241,
   "id": "59218b57",
   "metadata": {},
   "outputs": [],
   "source": [
    "datos.set_index(datos['mes_hechos']+'/'+datos['ao_hechos'], inplace = True)"
   ]
  },
  {
   "cell_type": "code",
   "execution_count": 28,
   "id": "1fde8328",
   "metadata": {},
   "outputs": [
    {
     "data": {
      "text/plain": [
       "Index(['ao_hechos', 'mes_hechos', 'fecha_hechos', 'ao_inicio', 'mes_inicio',\n",
       "       'fecha_inicio', 'delito', 'fiscalia', 'agencia', 'unidad_investigacion',\n",
       "       'categoria_delito', 'calle_hechos', 'calle_hechos2', 'colonia_hechos',\n",
       "       'alcaldia_hechos', 'competencia', 'longitud', 'latitud', 'tempo'],\n",
       "      dtype='object')"
      ]
     },
     "execution_count": 28,
     "metadata": {},
     "output_type": "execute_result"
    }
   ],
   "source": [
    "datos.columns"
   ]
  },
  {
   "cell_type": "markdown",
   "id": "98c7c3c2",
   "metadata": {},
   "source": [
    "A continuación, descarto a aquellas filas en las que el año o la alcaldia de los hechos sea igual a **nan**:"
   ]
  },
  {
   "cell_type": "code",
   "execution_count": 725,
   "id": "d9967ed9",
   "metadata": {},
   "outputs": [],
   "source": [
    "es_nan_fecha = pd.isnull(datos['ao_hechos'])\n",
    "es_nan_lugar = pd.isnull(datos['alcaldia_hechos'])\n",
    "datos = datos[np.logical_not(np.logical_or(es_nan_fecha,es_nan_lugar))]"
   ]
  },
  {
   "cell_type": "markdown",
   "id": "3c70ceb0",
   "metadata": {},
   "source": [
    "En el ejercicio se pide que se analice sólo los delitos ocurridos en la ciudad de México, así que el siguiente paso es descartar a aquellas locaciones que no pertenezcan a la ciudad."
   ]
  },
  {
   "cell_type": "markdown",
   "id": "cb6252e8",
   "metadata": {},
   "source": [
    "Así que defino una función que seleccionará sólo a aquellos datos que hayan sido tomados en alguna alcaldía de la CDMX."
   ]
  },
  {
   "cell_type": "code",
   "execution_count": 757,
   "id": "32320db1",
   "metadata": {},
   "outputs": [],
   "source": [
    "def seleccion_por_alcaldia(datos):\n",
    "    \n",
    "    alcaldias_cdmx = ['AZCAPOTZALCO', 'ALVARO OBREGON', 'BENITO JUAREZ', 'COYOACAN', 'CUAJIMALPA DE MORELOS','CUAUHTEMOC','GUSTAVO A MADERO', 'IZTACALCO', 'IZTAPALAPA', 'LA MAGDALENA CONTRERAS','MIGUEL HIDALGO','MILPA ALTA', 'TLALPAN','TLAHUAC','VENUSTIANO CARRANZA','XOCHIMILCO']\n",
    "    \n",
    "    lista = [locacion in alcaldias_cdmx for locacion in datos['alcaldia_hechos']]\n",
    "        \n",
    "    return datos[lista]"
   ]
  },
  {
   "cell_type": "code",
   "execution_count": 758,
   "id": "7a44701e",
   "metadata": {},
   "outputs": [],
   "source": [
    "datos_por_alcaldia = seleccion_por_alcaldia(datos)"
   ]
  },
  {
   "cell_type": "markdown",
   "id": "378b834f",
   "metadata": {},
   "source": [
    "Con la base agrupada, y con las observaciones nulas para la fecha y la alcaldia; agruparé a la base por fecha, para así calcular cuantas veces ocurren los delitos de acuerdo al año y mes."
   ]
  },
  {
   "cell_type": "code",
   "execution_count": 760,
   "id": "4abca4fc",
   "metadata": {},
   "outputs": [],
   "source": [
    "delitos_fr = datos.groupby(['delito','ao_hechos','mes_hechos'], as_index=False, group_keys=True).size()"
   ]
  },
  {
   "cell_type": "markdown",
   "id": "d2bd2a4d",
   "metadata": {},
   "source": [
    "En **delitos_fr** aplicamos la función **cambio_mes** para que fila a fila se cambie el formato del mes a numérico:"
   ]
  },
  {
   "cell_type": "code",
   "execution_count": 762,
   "id": "696ddcfe",
   "metadata": {},
   "outputs": [],
   "source": [
    "delitos_fr['mes_hechos'] = delitos_fr['mes_hechos'].apply(cambio_mes)"
   ]
  },
  {
   "cell_type": "markdown",
   "id": "c7b8b9ef",
   "metadata": {},
   "source": [
    "Para que sea más sencillos seleccionar la frecuencia de acuerdo al delito, hice una lista con el nombre de estos:"
   ]
  },
  {
   "cell_type": "code",
   "execution_count": 764,
   "id": "ff22c17f",
   "metadata": {},
   "outputs": [],
   "source": [
    "delitos = delitos_fr['delito'].unique()"
   ]
  },
  {
   "cell_type": "markdown",
   "id": "4b179a91",
   "metadata": {},
   "source": [
    "Como índice para este nuevo DataFrame asignaré a la fecha, sólo año y mes, con esos dos datos temporales es suficiente en caso de que se requieran hacer gráficas."
   ]
  },
  {
   "cell_type": "code",
   "execution_count": 767,
   "id": "9189b2df",
   "metadata": {},
   "outputs": [],
   "source": [
    "delitos_fr.set_index(pd.to_datetime(delitos_fr['mes_hechos']+'/'+delitos_fr['ao_hechos'], format = '%m/%Y'), inplace = True)"
   ]
  },
  {
   "cell_type": "markdown",
   "id": "93e9096e",
   "metadata": {},
   "source": [
    "## Prueba con un sólo delito"
   ]
  },
  {
   "cell_type": "markdown",
   "id": "d4404f16",
   "metadata": {},
   "source": [
    "Antes de manipular los datos delito a delito, comencé con el primero del arreglo **delitos**. Así que primero seleccioné de **delitos_fr** el subgrupo del primer delito. "
   ]
  },
  {
   "cell_type": "code",
   "execution_count": 769,
   "id": "7a3ad9ab",
   "metadata": {},
   "outputs": [],
   "source": [
    "primer_delito = delitos_fr[delitos_fr['delito'] == delitos[0]]"
   ]
  },
  {
   "cell_type": "markdown",
   "id": "af6c18da",
   "metadata": {},
   "source": [
    "Para tener una idea de cómo se distribuyen los delitos a los largo del tiempo, se muestra la siguiente gráfica:"
   ]
  },
  {
   "cell_type": "markdown",
   "id": "4b1be3aa",
   "metadata": {},
   "source": [
    "Hice una gráfica de la frecuencia para el primer delito, para confirmar que todo, está bien. **Nota**: más adelante si es necesario, quitaré esta gráfica."
   ]
  },
  {
   "cell_type": "code",
   "execution_count": 771,
   "id": "341e2d86",
   "metadata": {},
   "outputs": [
    {
     "data": {
      "image/png": "[encoded data removed]",
      "text/plain": [
       "<Figure size 720x432 with 1 Axes>"
      ]
     },
     "metadata": {
      "needs_background": "light"
     },
     "output_type": "display_data"
    }
   ],
   "source": [
    "import matplotlib.dates as mdates # Intervalos de fecha\n",
    "from matplotlib.dates import DateFormatter # para indicar el formato de fecha\n",
    "fig, ax = plt.subplots(figsize=(10, 6))\n",
    "ax.scatter(primer_delito.index,\n",
    "        primer_delito['size'],\n",
    "        color='purple')\n",
    "ax.set(xlabel=\"Fecha\", ylabel=\"Frecuencia\",\n",
    "       title=delitos[0])\n",
    "\n",
    "# Formato para el eje x\n",
    "#ax.xaxis.set_major_locator(mdates.MonthLocator(interval=12))\n",
    "ax.xaxis.set_major_formatter(DateFormatter(\"%m-%Y\"))\n",
    "fig.autofmt_xdate(rotation=45)\n",
    "\n",
    "plt.show()"
   ]
  },
  {
   "cell_type": "markdown",
   "id": "e6c2a717",
   "metadata": {},
   "source": [
    "### Regresion lineal "
   ]
  },
  {
   "cell_type": "markdown",
   "id": "f656c50a",
   "metadata": {},
   "source": [
    "Lo que queremos averiguar es si la ocurrencia de un delito ha ido a la alza o a la baja a lo largo del tiempo, esto se puede averiguar ajustando la ecuación de una recta a cada subgrupo de datos por delito, y una vez hecho, tomar el valor de la pendiente obtenida de esta ecuación; si la pendiente es positiva, quiere decir que hay una tendencia a la alta, en caso de ser negativa, la tendencia será a la baja."
   ]
  },
  {
   "cell_type": "markdown",
   "id": "99e17214",
   "metadata": {},
   "source": [
    "### Rangos de tiempo "
   ]
  },
  {
   "cell_type": "markdown",
   "id": "a81dd51d",
   "metadata": {},
   "source": [
    "En la gráfica de las ocurrencias del delito por abandono de persona, se observa que en los datos más viejos se tienen menos ocurrencias, así que si queremos analizar la tendencia con toda la base de datos, estas mediciones más viejas podrían darnos una idea errónea de lo que está ocurriendo. Para evitar eso, podemos revisar la tendencia en diferentes rangos de tiempo, por ejemplo, ver qué ha ocurrid "
   ]
  },
  {
   "cell_type": "code",
   "execution_count": null,
   "id": "6124f964",
   "metadata": {},
   "outputs": [],
   "source": [
    "from sklearn.linear_model import LinearRegression"
   ]
  },
  {
   "cell_type": "code",
   "execution_count": null,
   "id": "9748c537",
   "metadata": {},
   "outputs": [],
   "source": [
    "X = np.arange(len(primer_delito.index)).reshape((-1,1))  # features\n",
    "y = primer_delito['size']  # target\n",
    "\n",
    "# Train the model\n",
    "model = LinearRegression()\n",
    "model.fit(X, y)\n",
    "\n",
    "# Store the fitted values as a time series with the same time index as\n",
    "# the training data\n",
    "y_pred = pd.Series(model.predict(X), index=primer_delito.index)"
   ]
  },
  {
   "cell_type": "code",
   "execution_count": 559,
   "id": "962af1ad",
   "metadata": {},
   "outputs": [
    {
     "data": {
      "image/png": "[encoded data removed]",
      "text/plain": [
       "<Figure size 432x288 with 1 Axes>"
      ]
     },
     "metadata": {
      "needs_background": "light"
     },
     "output_type": "display_data"
    }
   ],
   "source": [
    "plt.plot(y_pred)\n",
    "plt.scatter(primer_delito.index,primer_delito['size'], color = 'red', s = 3)\n",
    "plt.show()"
   ]
  },
  {
   "cell_type": "code",
   "execution_count": null,
   "id": "79fe7773",
   "metadata": {},
   "outputs": [],
   "source": [
    "tendencia_15 = alza_baja(15, delitos_fr, delitos)"
   ]
  },
  {
   "cell_type": "code",
   "execution_count": 701,
   "id": "aa46c563",
   "metadata": {},
   "outputs": [
    {
     "data": {
      "text/html": [
       "<div>\n",
       "<style scoped>\n",
       "    .dataframe tbody tr th:only-of-type {\n",
       "        vertical-align: middle;\n",
       "    }\n",
       "\n",
       "    .dataframe tbody tr th {\n",
       "        vertical-align: top;\n",
       "    }\n",
       "\n",
       "    .dataframe thead th {\n",
       "        text-align: right;\n",
       "    }\n",
       "</style>\n",
       "<table border=\"1\" class=\"dataframe\">\n",
       "  <thead>\n",
       "    <tr style=\"text-align: right;\">\n",
       "      <th></th>\n",
       "      <th>Tendencia durante los últimos 15 años</th>\n",
       "    </tr>\n",
       "  </thead>\n",
       "  <tbody>\n",
       "    <tr>\n",
       "      <th>ABANDONO DE PERSONA</th>\n",
       "      <td>Alza</td>\n",
       "    </tr>\n",
       "    <tr>\n",
       "      <th>ABORTO</th>\n",
       "      <td>Alza</td>\n",
       "    </tr>\n",
       "    <tr>\n",
       "      <th>ABUSO DE AUTORIDAD</th>\n",
       "      <td>Alza</td>\n",
       "    </tr>\n",
       "    <tr>\n",
       "      <th>ABUSO DE AUTORIDAD Y USO ILEGAL DE LA FUERZA PUBLICA</th>\n",
       "      <td>Alza</td>\n",
       "    </tr>\n",
       "    <tr>\n",
       "      <th>ABUSO DE CONFIANZA</th>\n",
       "      <td>Alza</td>\n",
       "    </tr>\n",
       "    <tr>\n",
       "      <th>...</th>\n",
       "      <td>...</td>\n",
       "    </tr>\n",
       "    <tr>\n",
       "      <th>VIOLACION TUMULTUARIA</th>\n",
       "      <td>Alza</td>\n",
       "    </tr>\n",
       "    <tr>\n",
       "      <th>VIOLACION TUMULTUARIA EQUIPARADA</th>\n",
       "      <td>Alza</td>\n",
       "    </tr>\n",
       "    <tr>\n",
       "      <th>VIOLACION TUMULTUARIA EQUIPARADA POR CONOCIDO</th>\n",
       "      <td>Baja</td>\n",
       "    </tr>\n",
       "    <tr>\n",
       "      <th>VIOLACION Y ROBO DE VEHICULO</th>\n",
       "      <td>Baja</td>\n",
       "    </tr>\n",
       "    <tr>\n",
       "      <th>VIOLENCIA FAMILIAR</th>\n",
       "      <td>Alza</td>\n",
       "    </tr>\n",
       "  </tbody>\n",
       "</table>\n",
       "<p>347 rows × 1 columns</p>\n",
       "</div>"
      ],
      "text/plain": [
       "                                                   Tendencia durante los últimos 15 años\n",
       "ABANDONO DE PERSONA                                                                 Alza\n",
       "ABORTO                                                                              Alza\n",
       "ABUSO DE AUTORIDAD                                                                  Alza\n",
       "ABUSO DE AUTORIDAD Y USO ILEGAL DE LA FUERZA PU...                                  Alza\n",
       "ABUSO DE CONFIANZA                                                                  Alza\n",
       "...                                                                                  ...\n",
       "VIOLACION TUMULTUARIA                                                               Alza\n",
       "VIOLACION TUMULTUARIA EQUIPARADA                                                    Alza\n",
       "VIOLACION TUMULTUARIA EQUIPARADA POR CONOCIDO                                       Baja\n",
       "VIOLACION Y ROBO DE VEHICULO                                                        Baja\n",
       "VIOLENCIA FAMILIAR                                                                  Alza\n",
       "\n",
       "[347 rows x 1 columns]"
      ]
     },
     "execution_count": 701,
     "metadata": {},
     "output_type": "execute_result"
    }
   ],
   "source": [
    "tendencia_15"
   ]
  },
  {
   "cell_type": "markdown",
   "id": "1d3c5f38",
   "metadata": {},
   "source": [
    "Abajo dejé algunos datos extras por si los necesito a futuro:"
   ]
  },
  {
   "cell_type": "code",
   "execution_count": 110,
   "id": "7be0f37b",
   "metadata": {},
   "outputs": [],
   "source": [
    "# arreglo con los años de los hechos que aparecen en la base de datos, sin repetir\n",
    "año_hechos = datos['ao_hechos'].unique()"
   ]
  },
  {
   "cell_type": "code",
   "execution_count": 111,
   "id": "6bddf95a",
   "metadata": {},
   "outputs": [
    {
     "data": {
      "text/plain": [
       "array(['2016', '2015', '2012', '2014', '2011', '2008', '2006', '2010',\n",
       "       '2013', '2005', '2009', '1955', '2004', '2002', '1998', '1997',\n",
       "       '1965', '2007', '2000', '1987', '1999', '1956', '2001', '1996',\n",
       "       '1986', '1915', '1988', '2017', '2003', '1991', '1993', '1977',\n",
       "       '1984', '1995', '1994', '1990', '1992', '1978', '1989', '1972',\n",
       "       '2018', '2019', '1974', '1970', '1980', '1976', '1983', '1985',\n",
       "       '1966', '1969', '1981', '1960', '1982', '1975', '1954', '1973',\n",
       "       '1964', '1968', '1963', '1971', '1958', '1942', '1930', '1979',\n",
       "       '1906', '1962', '1957', '2020', '1950', '1952', '2021', '1967',\n",
       "       '1961', '1917', '2022'], dtype=object)"
      ]
     },
     "execution_count": 111,
     "metadata": {},
     "output_type": "execute_result"
    }
   ],
   "source": [
    "año_hechos"
   ]
  },
  {
   "cell_type": "code",
   "execution_count": 57,
   "id": "4d7875a3",
   "metadata": {},
   "outputs": [],
   "source": [
    "# arreglo con los años de inicio que aparecen en la base de datos, sin repetir\n",
    "año_inicio = datos['ao_inicio'].unique()"
   ]
  },
  {
   "cell_type": "code",
   "execution_count": 58,
   "id": "4b588853",
   "metadata": {},
   "outputs": [
    {
     "data": {
      "text/plain": [
       "array(['2016', '2017', '2018', '2019', '2020', '2021', '2022'],\n",
       "      dtype=object)"
      ]
     },
     "execution_count": 58,
     "metadata": {},
     "output_type": "execute_result"
    }
   ],
   "source": [
    "año_inicio"
   ]
  },
  {
   "cell_type": "markdown",
   "id": "c47f8f12",
   "metadata": {},
   "source": [
    "3. Para averiguar el número de delitos por alcaldía, se puede agrupar la base de datos de acuerdo a la alcaldía, después, contar el número de delitos, así se encontrará a la que tiene mayor número de delitos y a la que tiene el número de delitos menor. "
   ]
  },
  {
   "cell_type": "code",
   "execution_count": 708,
   "id": "7d84e843",
   "metadata": {},
   "outputs": [],
   "source": [
    "datos_por_alcaldia = datos.groupby('alcaldia_hechos')"
   ]
  },
  {
   "cell_type": "code",
   "execution_count": 707,
   "id": "0a836dcb",
   "metadata": {},
   "outputs": [
    {
     "data": {
      "text/plain": [
       "alcaldia_hechos\n",
       "ABALA                                      1\n",
       "ACAMBARO                                   3\n",
       "ACAMBAY                                    5\n",
       "ACAPULCO DE JUAREZ                        73\n",
       "ACATLAN                                    3\n",
       "                                          ..\n",
       "ZINAPECUARO                                2\n",
       "ZIRACUARETIRO                              1\n",
       "ZITACUARO                                  5\n",
       "ZITLALTEPEC DE TRINIDAD SANCHEZ SANTOS     1\n",
       "ZUMPANGO                                  62\n",
       "Length: 574, dtype: int64"
      ]
     },
     "execution_count": 707,
     "metadata": {},
     "output_type": "execute_result"
    }
   ],
   "source": [
    "datos_por_alcaldia.size()"
   ]
  },
  {
   "cell_type": "code",
   "execution_count": 709,
   "id": "a9379efe",
   "metadata": {},
   "outputs": [
    {
     "data": {
      "text/plain": [
       "array(['BENITO JUAREZ', 'IZTAPALAPA', 'CUAUHTEMOC', 'TLAHUAC',\n",
       "       'IZTACALCO', 'GUSTAVO A MADERO', 'MIGUEL HIDALGO', 'TLALPAN',\n",
       "       'ALVARO OBREGON', 'VENUSTIANO CARRANZA', 'AZCAPOTZALCO',\n",
       "       'CUAJIMALPA DE MORELOS', 'COYOACAN', 'XOCHIMILCO',\n",
       "       'LA MAGDALENA CONTRERAS', 'MILPA ALTA', 'TLALNEPANTLA DE BAZ',\n",
       "       'VERACRUZ', 'IXCATEOPAN DE CUAUHTEMOC', 'TUXPAM', 'HUIXQUILUCAN',\n",
       "       'OCOYOACAC', 'ECATEPEC DE MORELOS', nan, 'SIN DATO', 'TULTEPEC',\n",
       "       'ACATZINGO', 'GUELATAO DE JUAREZ', 'HERMOSILLO', 'ENSENADA',\n",
       "       'IXTAPALUCA', 'NAUCALPAN DE JUAREZ', 'NEZAHUALCOYOTL', 'CHALCO',\n",
       "       'TLATLAYA', 'SAN JUAN GUICHICOVI', 'ZAPOPAN',\n",
       "       'SAN PEDRO IXTLAHUACA', 'NICOLAS ROMERO', 'VICTORIA', 'CULIACAN',\n",
       "       'VALLE DE CHALCO SOLIDARIDAD', 'TIANGUISTENCO', 'TEHUACAN',\n",
       "       'ACAPULCO DE JUAREZ', 'TEMASCALCINGO', 'CUAUTITLAN IZCALLI',\n",
       "       'TIJUANA', 'CUERNAVACA', 'TENANGO DEL VALLE',\n",
       "       'TULANCINGO DE BRAVO', 'CORREGIDORA', 'JUAREZ HIDALGO', 'CELAYA',\n",
       "       'CHICOLOAPAN', 'ATIZAPAN DE ZARAGOZA', 'TOLUCA', 'TORREON',\n",
       "       'TULTITLAN', 'BATOPILAS', 'MERIDA', 'HUEHUETOCA', 'CHIMALHUACAN',\n",
       "       'IGUALAPA', 'LA PAZ', 'AMECAMECA', 'ATIZAPAN', 'PINAL DE AMOLES',\n",
       "       'MONTERREY', 'CUITLAHUAC', 'TECAMAC', 'MEXICALI', 'MATIAS ROMERO',\n",
       "       'CORDOBA', 'TANCITARO', 'DURANGO', 'ATENCO', 'SAN SALVADOR',\n",
       "       'PUEBLA', 'GUANAJUATO', 'LEON', 'APIZACO', 'VILLA DE ZAACHILA',\n",
       "       'LERMA', 'TLANEPANTLA', 'CUAUTEPEC', 'COLON', 'CADEREYTA JIMENEZ',\n",
       "       'HUAMANTLA', 'TEPIC', 'SANTIAGO YOSONDUA',\n",
       "       'SAN PEDRO GARZA GARCIA', 'MINERAL DE LA REFORMA', 'TEXCOCO',\n",
       "       'NUEVO LAREDO', 'CUAUTITLAN', 'JOQUICINGO', 'OAXACA DE JUAREZ',\n",
       "       'AGUASCALIENTES', 'ACOLMAN', 'MANZANILLO',\n",
       "       'SAN FRANCISCO DEL RINCON', 'METEPEC', 'PUERTO VALLARTA',\n",
       "       'ZUMPANGO', 'TOLCAYUCA', 'CHILPANCINGO DE LOS BRAVO', 'CORTAZAR',\n",
       "       'COACALCO DE BERRIOZABAL', 'PAPALOTLA DE XICOHTENCATL', 'TLAXCALA',\n",
       "       'SANTA ANA MAYA', 'OTUMBA', 'SALAMANCA', 'SOLIDARIDAD',\n",
       "       'ISLA MUJERES', 'ZINAPECUARO', 'SAN MATEO ATENCO', 'MORELIA',\n",
       "       'TIZAYUCA', 'TEOTIHUACAN', 'GUADALUPE', 'TEMAMATLA', 'COLIMA',\n",
       "       'GUAYMAS', 'COMONDU', 'VILLA DEL CARBON', 'VALLE DE BRAVO',\n",
       "       'ALVARADO', 'CAJEME', 'TENANCINGO', 'SAHUAYO', 'TEMIXCO',\n",
       "       'JOJUTLA', 'TETELA DE OCAMPO', 'ZIHUATANEJO DE  AZUETA', 'REYNOSA',\n",
       "       'PACHUCA DE SOTO', 'SAN LUIS POTOSI', 'TAXCO DE ALARCON', 'SILAO',\n",
       "       'ALMOLOYA DE JUAREZ', 'JILOTEPEC', 'PURISIMA DEL RINCON',\n",
       "       'LA UNION DE ISIDORO MONTES DE OCA', 'AMAXAC DE GUERRERO',\n",
       "       'MALINALCO', 'ARROYO SECO', 'AGUA DULCE', 'NACAJUCA', 'ZITACUARO',\n",
       "       'ZAUTLA', 'CUAUTLA', 'CALIMAYA', 'AMANALCO', 'ZACATECAS',\n",
       "       'POZA RICA DE HIDALGO', 'HUATABAMPO', 'JUCHITEPEC',\n",
       "       'PASO DEL MACHO', 'GOMEZ PALACIO', 'MIGUEL ALEMAN',\n",
       "       'FELIPE CARRILLO PUERTO', 'XALAPA', 'BOCOYNA', 'PUENTE DE IXTLA',\n",
       "       'COMITAN DE DOMINGUEZ', 'TLALNEPANTLA', 'TELOLOAPAN', 'XOCHITEPEC',\n",
       "       'XALATLACO', 'AYAPANGO', 'TEPETLAOXTOC', 'ZAPOTLAN DE JUAREZ',\n",
       "       'HUITZILAC', 'AMEALCO DE BONFIL', 'ATOYAC DE ALVAREZ',\n",
       "       'SAN ANDRES CHOLULA', 'EDUARDO NERI', 'TEZOYUCA', 'TEOLOYUCAN',\n",
       "       'EL BOSQUE', 'YECAPIXTLA', 'EL ORO', 'TECOZAUTLA', 'ORIZABA',\n",
       "       'LA PIEDAD', 'MELCHOR OCAMPO', 'JALTIPAN', 'TLAYACAPAN',\n",
       "       'JOCOTITLAN', 'QUERETARO', 'GUADALAJARA', 'CALVILLO',\n",
       "       'SANTA MARIA COLOTEPEC', 'BOCA DEL RIO', 'JIUTEPEC', 'URUAPAN',\n",
       "       'IRAPUATO', 'JALACINGO', 'TULA DE ALLENDE', 'EPAZOYUCAN',\n",
       "       'TLACHICHILCO', 'ZACATELCO', 'TAPALPA', 'SAN MARTIN TEXMELUCAN',\n",
       "       'TLALTIZAPAN', 'VILLAHERMOSA O CENTRO', 'ATLACOMULCO',\n",
       "       'NOPALTEPEC', 'APASEO EL GRANDE', 'TAPACHULA', 'VALLE DE SANTIAGO',\n",
       "       'TEOCALTICHE', 'SAN JOSE DEL RINCON', 'ARMERIA', 'ATLATLAHUCAN',\n",
       "       'SULTEPEC', 'TEPOZTLAN', 'JALTENCO', 'SANTIAGO DE ANAYA',\n",
       "       'VILLA VICTORIA', 'AXAPUSCO', 'EBANO', 'TEPETITLA DE LARDIZABAL',\n",
       "       'ZACAPU', 'SAN NICOLAS DE LOS GARZA', 'TEPOTZOTLAN',\n",
       "       'SANTA MARIA HUATULCO', 'LOS CABOS', 'TLALMANALCO',\n",
       "       'IXTAPAN DEL ORO', 'SALVADOR ALVARADO', 'RODEO', 'ATLIXCO',\n",
       "       'ABALA', 'TEPECOACUILCO DE TRUJANO', 'SAN JUAN DEL RIO', 'PARAISO',\n",
       "       'ZACAPOAXTLA', 'KANASIN', 'CHAMPOTON',\n",
       "       'ELOXOCHITLAN DE FLORES MAGON', 'IXTLAHUACA', 'TONALA',\n",
       "       'HUIMANGUILLO', 'SAN LUIS DE LA PAZ', 'IZUCAR DE MATAMOROS',\n",
       "       'EZEQUIEL MONTES', 'CARDENAS', 'SAN JUAN BAUTISTA TUXTEPEC',\n",
       "       'CALNALI', 'CARDONAL', 'TENANGO DEL AIRE', 'TLAPACOYAN',\n",
       "       'SALINA CRUZ', 'ALLENDE', 'FRESNILLO', 'TIHUATLAN',\n",
       "       'ENCARNACION DE DIAZ', 'CADEREYTA DE MONTES', 'JALPAN DE SERRA',\n",
       "       'DOLORES HIDALGO', 'EL CARMEN TEQUEXQUITLA',\n",
       "       'ALMOLOYA DE ALQUISIRAS', 'TLAPEHUALA', 'TEQUIXQUIAC',\n",
       "       'JOSE MARIA MORELOS', 'EMILIANO ZAPATA', 'HUEHUETLA',\n",
       "       'HUAUCHINANGO', 'LERDO', 'CAÑADA MORELOS', 'COZUMEL',\n",
       "       'TEMASCALAPA', 'MOROLEON', 'CALERA', 'MINATITLAN', 'OCOTLAN',\n",
       "       'NEXTLALPAN', 'LOS REYES', 'CHIHUAHUA', 'TETELA DEL VOLCAN',\n",
       "       'OTHON P. BLANCO', 'ROMITA', 'SAN ANDRES TUXTLA', 'ALTAMIRA',\n",
       "       'MORELOS', 'HUATUSCO', 'SANTA CRUZ XOXOCOTLAN',\n",
       "       'CERRO DE SAN PEDRO', 'ATLAUTLA', 'TAMPICO', 'MATAMOROS',\n",
       "       'TENOSIQUE', 'COCOTITLAN', 'CUAUTLANCINGO', 'PAPALOTLA',\n",
       "       'MAZATLAN', 'CHILON', 'PARRAS', 'GARCIA', 'BUCTZOTZ',\n",
       "       'SAN FELIPE DEL PROGRESO', 'PAPANTLA', 'JIQUIPILCO',\n",
       "       'ZINACANTEPEC', 'CUETZALAN DEL PROGRESO', 'CAMPECHE', 'ASCENSION',\n",
       "       'AHOME', 'TOMATLAN', 'TEPEAPULCO', 'CALPULALPAN', 'EL FUERTE',\n",
       "       'YEHUALTEPEC', 'PANUCO', 'CHICONCUAC', 'ACTOPAN', 'ALFAJAYUCAN',\n",
       "       'CATAZAJA', 'MACUSPANA', 'TLAJOMULCO DE ZUÑIGA', 'BUENAVENTURA',\n",
       "       'IGUALA DE LA INDEPENDENCIA', 'OMETEPEC', 'TECAMACHALCO', 'ACULCO',\n",
       "       'LAFRAGUA', 'METZTITLAN', 'ASIENTOS', 'NAUPAN', 'COENEO',\n",
       "       'IXMIQUILPAN', 'PENJAMO', 'COYUCA DE BENITEZ',\n",
       "       'ZAPOTLAN EL GRANDE', 'COATZACOALCOS', 'YAUTEPEC',\n",
       "       'SAN MARTIN DE LAS PIRAMIDES', 'XONACATLAN', 'TEJUPILCO',\n",
       "       'CIUDAD MADERO', 'SAN ANTONIO LA ISLA', 'SAN MIGUEL XOXTLA',\n",
       "       'TEPEJI DEL RIO DE OCAMPO', 'PROGRESO DE OBREGON', 'VALLE HERMOSO',\n",
       "       'TEPEACA', 'CARRILLO PUERTO', 'TEOTITLAN DE FLORES MAGON',\n",
       "       'TUXTLA GUTIERREZ', 'HUIXTAN', 'SAN PEDRO POCHUTLA', 'OCAMPO',\n",
       "       'ACAMBARO', 'VILLA DE ALLENDE', 'SAN PEDRO MIXTEPEC - DISTR. 22 -',\n",
       "       'GENERAL ESCOBEDO', 'TECOLUTLA', 'TARIMORO', 'ACAYUCAN',\n",
       "       'CHAPULTEPEC', 'TOTOLAPAN', 'AHUATLAN', 'APAN', 'CIUDAD VALLES',\n",
       "       'APATZINGAN', 'ALTO LUCERO DE GUTIERREZ BARRIOS', 'TLAHUELILPAN',\n",
       "       'IXTAPAN DE LA SAL', 'ACAXOCHITLAN', 'COYOTEPEC', 'RIO BLANCO',\n",
       "       'YAUHQUEMECAN', 'SAN PEDRO ATOYAC', 'ACONCHI', 'ATITALAQUIA',\n",
       "       'TEQUISQUIAPAN', 'COMPOSTELA', 'CARMEN', 'HUEYAPAN DE OCAMPO',\n",
       "       'JARAL DEL PROGRESO', 'COYUCA DE CATALAN', 'TLAXCO', 'ZAMORA',\n",
       "       'TLANALAPA', 'HUEYPOXTLA', 'APODACA', 'ATOTONILCO EL GRANDE',\n",
       "       'JUAN GALINDO', 'DZILAM DE BRAVO', 'SAN PEDRO JICAYAN', 'TECATE',\n",
       "       'HUIXTLA', 'ESPAÑITA', 'MEDELLIN', 'CIUDAD DEL MAIZ',\n",
       "       'ATZITZINTLA', 'COPANATOYAC', 'LORETO', 'AHUMADA', 'LIBRES',\n",
       "       'HIDALGO', 'ZEMPOALA', 'ACAMBAY', 'SAN GREGORIO ATZOMPA',\n",
       "       'PATZCUARO', 'BERRIOZABAL', 'SAN MATIAS TLALANCALECA', 'SENGUIO',\n",
       "       'SAN JUAN DE LOS LAGOS', 'CHARO', 'SAN BARTOLO COYOTEPEC',\n",
       "       'YURIRIA', 'SAN PEDRO CHOLULA', 'MULEGE', 'AYALA', 'AMECA',\n",
       "       'ACUAMANALA DE MIGUEL HIDALGO', 'LAZARO CARDENAS', 'MUZQUIZ',\n",
       "       'LOS REYES DE JUAREZ', 'MIACATLAN', 'MAGDALENA', 'TACAMBARO',\n",
       "       'LAGOS DE MORENO', 'JESUS MARIA', 'SABINAS', 'JALOSTOTITLAN',\n",
       "       'SAN PABLO DEL MONTE', 'JUAREZ', 'MARIANO ESCOBEDO', 'CHIAUTLA',\n",
       "       'NOGALES', 'PEROTE', 'MINERAL DEL MONTE', 'MARAVATIO', 'ESPERANZA',\n",
       "       'NAVOJOA', 'ZACATLAN', 'XOCHICOATLAN',\n",
       "       'NANACAMILPA DE MARIANO ARISTA', 'COPALA', 'SAN MIGUEL TOTOLAPAN',\n",
       "       'TECPAN DE GALEANA', 'TANCANHUITZ', 'XICOTEPEC',\n",
       "       'ATOTONILCO DE TULA', 'SANTA MARIA COYOTEPEC', 'CABO CORRIENTES',\n",
       "       'PETLALCINGO', 'CAPULHUAC', 'PISAFLORES', 'TULCINGO', 'TLAXCOAPAN',\n",
       "       'TALA', 'TLAQUEPAQUE', 'IGNACIO DE LA LLAVE', 'YURECUARO',\n",
       "       'CHIAPA DE CORZO', 'COSAMALOAPAN DE CARPIO', 'SAIN ALTO',\n",
       "       'TLACHICHUCA', 'PUNGARABATO', 'TEXCALYACAC',\n",
       "       'MIAHUATLAN DE PORFIRIO DIAZ', 'GšEMEZ', 'ECUANDUREO', 'MARIN',\n",
       "       'SAN DIEGO DE LA UNION', 'SALTILLO', 'HUITZUCO DE LOS FIGUEROA',\n",
       "       'SINALOA', 'TETEPANGO', 'TIQUICHEO DE NICOLAS ROMERO', 'HALACHO',\n",
       "       'CHIGNAHUAPAN', 'HOPELCHEN', 'NACO', 'SAN CRISTOBAL DE LAS CASAS',\n",
       "       'ZAPOTITLAN PALMAS', 'CHAPA DE MOTA', 'XICO',\n",
       "       'PUTLA VILLA DE GUERRERO', 'MATEHUALA', 'TICUL', 'ACATLAN',\n",
       "       'SANTIAGO TULANTEPEC DE LUGO GUERRERO', 'CUAUTEPEC DE HINOJOSA',\n",
       "       'APETATITLAN DE ANTONIO CARVAJAL', 'TEMOAYA', 'CHAPULHUACAN',\n",
       "       'GENERAL HELIODORO CASTILLO', 'SAN FELIPE TEJALAPAM', 'APAXCO',\n",
       "       'FRANCISCO I. MADERO', 'AMATENANGO DEL VALLE', 'IRIMBO',\n",
       "       'SANTA ANA', 'Tulum', 'CHURINTZIO', 'AMOZOC', 'OMITLAN DE JUAREZ',\n",
       "       'TANHUATO', 'COATEPEC', 'OLUTA', 'BRISEÑAS',\n",
       "       'SAN JUAN BAUTISTA ATATLAHUCA', 'ARIO', 'JILOTZINGO',\n",
       "       'SANTO TOMAS', 'AQUILES SERDAN', 'RAFAEL DELGADO', 'ERONGARICUARO',\n",
       "       'EL SALTO', 'TENANGO DE DORIA', 'SAN FRANCISCO HUEHUETLAN',\n",
       "       'MISANTLA', 'TEHUITZINGO', 'ROSARIO', 'BUSTAMANTE', 'TULA',\n",
       "       'AGUA PRIETA', 'ZITLALTEPEC DE TRINIDAD SANCHEZ SANTOS',\n",
       "       'ALMOLOYA DEL RIO', 'CIENEGA DE FLORES', 'COMAPA', 'PALENQUE',\n",
       "       'LA MAGDALENA TLALTELULCO', 'SAN FRANCISCO JALTEPETONGO',\n",
       "       'TLAPA DE COMONFORT', 'TIERRA BLANCA', 'TEPATITLAN DE MORELOS',\n",
       "       'QUIMIXTLAN', 'SAN SIMON DE GUERRERO', 'TEOTITLAN DEL VALLE',\n",
       "       'ASUNCION NOCHIXTLAN', 'CUAPIAXTLA DE MADERO',\n",
       "       'SAN SALVADOR EL VERDE', 'ALPATLAHUAC', 'SAN JOSE ITURBIDE',\n",
       "       'CHICONTEPEC', 'AHUEHUETITLA', 'TIXTLA DE GUERRERO', 'BADIRAGUATO',\n",
       "       'TEXCALTITLAN', 'TEPETITLAN', 'AJACUBA', 'SAN JOSE CHIAPA',\n",
       "       'HUAUTLA DE JIMENEZ', 'LA MISION', 'MENDEZ', 'QUECHULTENANGO',\n",
       "       'HUEJUTLA DE REYES', 'OTZOLOTEPEC', 'OZUMBA',\n",
       "       'ZIMATLAN DE ALVAREZ', 'SOLTEPEC', 'PINOTEPA DE DON LUIS',\n",
       "       'QUERENDARO', 'PLAYAS DE ROSARITO', 'POLOTITLAN', 'CUITZEO',\n",
       "       'DELICIAS', 'AMATLAN DE LOS REYES', 'CONCEPCION BUENAVISTA',\n",
       "       'ZIRACUARETIRO', 'TLALCHAPA', 'ZACAZONAPAN', 'VICENTE GUERRERO',\n",
       "       'CEDRAL', 'SINGUILUCAN', 'HEROICA CIUDAD DE HUAJUAPAN DE LEON',\n",
       "       'HUATLATLAUCA'], dtype=object)"
      ]
     },
     "execution_count": 709,
     "metadata": {},
     "output_type": "execute_result"
    }
   ],
   "source": [
    "datos['alcaldia_hechos'].unique()"
   ]
  },
  {
   "cell_type": "code",
   "execution_count": null,
   "id": "66163605",
   "metadata": {},
   "outputs": [],
   "source": []
  }
 ],
 "metadata": {
  "kernelspec": {
   "display_name": "Python 3 (ipykernel)",
   "language": "python",
   "name": "python3"
  },
  "language_info": {
   "codemirror_mode": {
    "name": "ipython",
    "version": 3
   },
   "file_extension": ".py",
   "mimetype": "text/x-python",
   "name": "python",
   "nbconvert_exporter": "python",
   "pygments_lexer": "ipython3",
   "version": "3.8.12"
  }
 },
 "nbformat": 4,
 "nbformat_minor": 5
}
