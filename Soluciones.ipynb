{
 "cells": [
  {
   "cell_type": "markdown",
   "id": "3124a8a5",
   "metadata": {},
   "source": [
    "# Soluciones al examen de OPI "
   ]
  },
  {
   "cell_type": "code",
   "execution_count": 86,
   "id": "44dd6f70",
   "metadata": {},
   "outputs": [],
   "source": [
    "# paquetes necesarios para este examen\n",
    "import pandas as pd\n",
    "from datetime import datetime # para que Python reconozca las fechas\n",
    "import numpy as np\n",
    "import math\n",
    "import matplotlib.pyplot as plt\n",
    "from scipy.stats import linregress"
   ]
  },
  {
   "cell_type": "code",
   "execution_count": 346,
   "id": "94af2b25",
   "metadata": {},
   "outputs": [],
   "source": [
    "# Función que se necesitará más adelante para agregar formato a la fec\n",
    "def cambio_mes(mes):\n",
    "    reemplazo = (\n",
    "            ('Enero', '01'),\n",
    "            ('Febrero', '02'),\n",
    "            ('Marzo', '03'),\n",
    "            ('Abril', '04'),\n",
    "            ('Mayo', '05'),\n",
    "            ('Junio','06'),\n",
    "            ('Julio','07'),\n",
    "            ('Agosto','08'),\n",
    "            ('Septiembre','09'),\n",
    "            ('Octubre', '10'),\n",
    "            ('Noviembre','11'),\n",
    "            ('Diciembre', '12')\n",
    "        )\n",
    "    for a, b in reemplazo:\n",
    "        mes = mes.replace(a, b)\n",
    "    return mes\n",
    "cambio_mes.__doc__ = \"Cambia el mes a su correspondiente valor numerico\""
   ]
  },
  {
   "cell_type": "code",
   "execution_count": 774,
   "id": "2e1483d4",
   "metadata": {},
   "outputs": [],
   "source": [
    "def seleccion_tiempo(datos, rango = 0):\n",
    "    comp = datos['ao_hechos'] >= str(int(datos['ao_hechos'][-1]) - rango)\n",
    "    datos_aux = datos[comp]\n",
    "    return datos_aux\n",
    "seleccion_tiempo.__doc__ = \"Se seleccionan los datos de los últimos años, de acuerdo al rango dado.\"\n",
    "\n",
    "def regresion_lineal(datos, rango = 0):\n",
    "    datos = seleccion_tiempo(datos, rango)\n",
    "    X = np.arange(len(datos.index))  # features\n",
    "    y = datos['size']\n",
    "    pendiente = linregress(X, y).slope\n",
    "    return pendiente\n",
    "regresion_lineal.__doc__ = \"Regresa la pendiente de los datos seleccionados de acuerdo al rango de años dado.\"\n",
    "\n",
    "def seleccion_delito(datos, lista):\n",
    "    #comp = datos['delito'] == delito\n",
    "    datos_aux = datos[datos['delito'] == lista]\n",
    "    return datos_aux\n",
    "seleccion_delito.__doc__ = \"Se crea un subgrupo de los datos de acuerdo al delito elegido.\"\n",
    "\n",
    "def alza_baja(datos, lista, rango = 0):\n",
    "    lista_aux = []\n",
    "    lista_total = []\n",
    "    for delito in lista:\n",
    "        datos_aux = seleccion_delito(datos, delito)\n",
    "        tiempo = seleccion_tiempo(datos_aux, rango)\n",
    "        pendiente = regresion_lineal(datos_aux, rango)\n",
    "        if pendiente > 0:\n",
    "            lista_aux.append('Alza')\n",
    "        else:\n",
    "            lista_aux.append('Baja')\n",
    "    lista_total = lista_total + lista_aux\n",
    "    #df = pd.DataFrame(lista_total)\n",
    "    #df.set_index(lista, inplace = True)\n",
    "    #df.columns = ['Tendencia durante los últimos '+ str(rango) + ' años']\n",
    "    return lista_total\n",
    "alza_baja.__doc__ = \"De acuerdo al rango de años dado, se muestra en un Data Frame la tendencia para cada uno de los delitos registrados.\""
   ]
  },
  {
   "cell_type": "markdown",
   "id": "6119b4db",
   "metadata": {},
   "source": [
    "1. Los datos son de calidad cuando sirven para una finalidad prevista, basados en las siguientes características:\n",
    "* No debe haber huecos, ni variables repetidas.\n",
    "* La información debe ser relevante para cumplir los objetivos, por ejemplo, si estoy haciendo un análisis sobre los delitos en la ciudad de México, no me sirve tener información sobre el peso de los habitantes de la ciudad.\n",
    "* Confiabilidad: hay que asegurarse que los datos no sean ambiguos, vagos o que contengan información contradictoria, por ejemplo, si tengo información sobre los delitos de una alcaldía en dos columnas y cada una con información diferente.\n",
    "* Los datos tienen que ser colectados en el tiempo correcto, hay que asegurarse que no sean obsoletos, tomando de nuevo el análisis de los delitos de la CDMX, no tendría sentido que sólo tenga información de hace 30 años."
   ]
  },
  {
   "cell_type": "markdown",
   "id": "313cc863",
   "metadata": {},
   "source": [
    "2. Datos a la alza y a la baja."
   ]
  },
  {
   "cell_type": "code",
   "execution_count": 25,
   "id": "c67c59d2",
   "metadata": {},
   "outputs": [],
   "source": [
    "# importamos la base de datos\n",
    "# encoding='utf-8' es para que al importarse la base de datos, reconozca caracteres \n",
    "# como la ñ.\n",
    "# dtype='unicode' es para evitar un warning por low_memory ya que python estaba \n",
    "# adivinando el tipo de objeto (dtype) de cada columna\n",
    "\n",
    "datos = pd.read_csv('/home/lorena/Escritorio/OPI/carpetas_completa_febrero_2022.csv', encoding='utf-8', dtype='unicode')"
   ]
  },
  {
   "cell_type": "markdown",
   "id": "72971cd4",
   "metadata": {},
   "source": [
    "Para que las columnas fecha_hechos y fecha_inicia tal cual sean reconocidas como fechas, se utiliza la función de pandas **to_datetime**."
   ]
  },
  {
   "cell_type": "code",
   "execution_count": 30,
   "id": "e7be1c7f",
   "metadata": {},
   "outputs": [],
   "source": [
    "datos['fecha_hechos'] = pd.to_datetime(datos['fecha_hechos'], format = \"%Y %m %d %H:%M:%S\")\n",
    "datos['fecha_inicio'] = pd.to_datetime(datos['fecha_inicio'], format = \"%Y %m %d %H:%M:%S\")"
   ]
  },
  {
   "cell_type": "code",
   "execution_count": 241,
   "id": "b327fb06",
   "metadata": {},
   "outputs": [],
   "source": [
    "datos.set_index(datos['mes_hechos']+'/'+datos['ao_hechos'], inplace = True)"
   ]
  },
  {
   "cell_type": "code",
   "execution_count": 28,
   "id": "4700c551",
   "metadata": {},
   "outputs": [
    {
     "data": {
      "text/plain": [
       "Index(['ao_hechos', 'mes_hechos', 'fecha_hechos', 'ao_inicio', 'mes_inicio',\n",
       "       'fecha_inicio', 'delito', 'fiscalia', 'agencia', 'unidad_investigacion',\n",
       "       'categoria_delito', 'calle_hechos', 'calle_hechos2', 'colonia_hechos',\n",
       "       'alcaldia_hechos', 'competencia', 'longitud', 'latitud', 'tempo'],\n",
       "      dtype='object')"
      ]
     },
     "execution_count": 28,
     "metadata": {},
     "output_type": "execute_result"
    }
   ],
   "source": [
    "datos.columns"
   ]
  },
  {
   "cell_type": "markdown",
   "id": "7092b912",
   "metadata": {},
   "source": [
    "A continuación, descarto a aquellas filas en las que el año o la alcaldia de los hechos sea igual a **nan**:"
   ]
  },
  {
   "cell_type": "code",
   "execution_count": 725,
   "id": "215ea071",
   "metadata": {},
   "outputs": [],
   "source": [
    "es_nan_fecha = pd.isnull(datos['ao_hechos'])\n",
    "es_nan_lugar = pd.isnull(datos['alcaldia_hechos'])\n",
    "datos = datos[np.logical_not(np.logical_or(es_nan_fecha,es_nan_lugar))]"
   ]
  },
  {
   "cell_type": "markdown",
   "id": "8a15cbdf",
   "metadata": {},
   "source": [
    "En el ejercicio se pide que se analice sólo los delitos ocurridos en la ciudad de México, así que el siguiente paso es descartar a aquellas locaciones que no pertenezcan a la ciudad."
   ]
  },
  {
   "cell_type": "markdown",
   "id": "7d09f8a9",
   "metadata": {},
   "source": [
    "Así que defino una función que seleccionará sólo a aquellos datos que hayan sido tomados en alguna alcaldía de la CDMX."
   ]
  },
  {
   "cell_type": "code",
   "execution_count": 757,
   "id": "ab88d4ac",
   "metadata": {},
   "outputs": [],
   "source": [
    "def seleccion_por_alcaldia(datos):\n",
    "    \n",
    "    alcaldias_cdmx = ['AZCAPOTZALCO', 'ALVARO OBREGON', 'BENITO JUAREZ', 'COYOACAN', 'CUAJIMALPA DE MORELOS','CUAUHTEMOC','GUSTAVO A MADERO', 'IZTACALCO', 'IZTAPALAPA', 'LA MAGDALENA CONTRERAS','MIGUEL HIDALGO','MILPA ALTA', 'TLALPAN','TLAHUAC','VENUSTIANO CARRANZA','XOCHIMILCO']\n",
    "    \n",
    "    lista = [locacion in alcaldias_cdmx for locacion in datos['alcaldia_hechos']]\n",
    "        \n",
    "    return datos[lista]"
   ]
  },
  {
   "cell_type": "code",
   "execution_count": 817,
   "id": "308128ea",
   "metadata": {},
   "outputs": [],
   "source": [
    "datos_filtrados = seleccion_por_alcaldia(datos)"
   ]
  },
  {
   "cell_type": "markdown",
   "id": "4c910eab",
   "metadata": {},
   "source": [
    "Con la base agrupada, y con las observaciones nulas para la fecha y la alcaldia; agruparé a la base por fecha, para así calcular cuantas veces ocurren los delitos de acuerdo al año y mes."
   ]
  },
  {
   "cell_type": "code",
   "execution_count": 818,
   "id": "0271c4f1",
   "metadata": {},
   "outputs": [],
   "source": [
    "delitos_fr = datos_filtrados.groupby(['delito','ao_hechos','mes_hechos'], as_index=False, group_keys=True).size()"
   ]
  },
  {
   "cell_type": "markdown",
   "id": "5ac66375",
   "metadata": {},
   "source": [
    "En **delitos_fr** aplicamos la función **cambio_mes** para que fila a fila se cambie el formato del mes a numérico:"
   ]
  },
  {
   "cell_type": "code",
   "execution_count": 819,
   "id": "7d382b1d",
   "metadata": {},
   "outputs": [],
   "source": [
    "delitos_fr['mes_hechos'] = delitos_fr['mes_hechos'].apply(cambio_mes)"
   ]
  },
  {
   "cell_type": "markdown",
   "id": "36e7f406",
   "metadata": {},
   "source": [
    "Para que sea más sencillos seleccionar la frecuencia de acuerdo al delito, hice una lista con el nombre de estos:"
   ]
  },
  {
   "cell_type": "code",
   "execution_count": 820,
   "id": "079b36c8",
   "metadata": {},
   "outputs": [],
   "source": [
    "delitos = delitos_fr['delito'].unique()"
   ]
  },
  {
   "cell_type": "markdown",
   "id": "56239f4e",
   "metadata": {},
   "source": [
    "Como índice para este nuevo DataFrame asignaré a la fecha, sólo año y mes, con esos dos datos temporales es suficiente en caso de que se requieran hacer gráficas."
   ]
  },
  {
   "cell_type": "code",
   "execution_count": 821,
   "id": "3c04ec0d",
   "metadata": {},
   "outputs": [],
   "source": [
    "delitos_fr.set_index(pd.to_datetime(delitos_fr['mes_hechos']+'/'+delitos_fr['ao_hechos'], format = '%m/%Y'), inplace = True)"
   ]
  },
  {
   "cell_type": "markdown",
   "id": "54f1ac49",
   "metadata": {},
   "source": [
    "## Prueba con un sólo delito"
   ]
  },
  {
   "cell_type": "markdown",
   "id": "c457453a",
   "metadata": {},
   "source": [
    "Antes de manipular los datos delito a delito, comencé con el primero del arreglo **delitos**. Así que primero seleccioné de **delitos_fr** el subgrupo del primer delito. "
   ]
  },
  {
   "cell_type": "code",
   "execution_count": 769,
   "id": "3fc58087",
   "metadata": {},
   "outputs": [],
   "source": [
    "primer_delito = delitos_fr[delitos_fr['delito'] == delitos[0]]"
   ]
  },
  {
   "cell_type": "markdown",
   "id": "7c3a2a50",
   "metadata": {},
   "source": [
    "Para tener una idea de cómo se distribuyen los delitos a los largo del tiempo, se muestra la siguiente gráfica:"
   ]
  },
  {
   "cell_type": "markdown",
   "id": "8d16199e",
   "metadata": {},
   "source": [
    "Hice una gráfica de la frecuencia para el primer delito, para confirmar que todo, está bien. **Nota**: más adelante si es necesario, quitaré esta gráfica."
   ]
  },
  {
   "cell_type": "code",
   "execution_count": 771,
   "id": "398eaefb",
   "metadata": {},
   "outputs": [
    {
     "data": {
      "image/png": "[encoded data removed]",
      "text/plain": [
       "<Figure size 720x432 with 1 Axes>"
      ]
     },
     "metadata": {
      "needs_background": "light"
     },
     "output_type": "display_data"
    }
   ],
   "source": [
    "import matplotlib.dates as mdates # Intervalos de fecha\n",
    "from matplotlib.dates import DateFormatter # para indicar el formato de fecha\n",
    "fig, ax = plt.subplots(figsize=(10, 6))\n",
    "ax.scatter(primer_delito.index,\n",
    "        primer_delito['size'],\n",
    "        color='purple')\n",
    "ax.set(xlabel=\"Fecha\", ylabel=\"Frecuencia\",\n",
    "       title=delitos[0])\n",
    "\n",
    "# Formato para el eje x\n",
    "#ax.xaxis.set_major_locator(mdates.MonthLocator(interval=12))\n",
    "ax.xaxis.set_major_formatter(DateFormatter(\"%m-%Y\"))\n",
    "fig.autofmt_xdate(rotation=45)\n",
    "\n",
    "plt.show()"
   ]
  },
  {
   "cell_type": "markdown",
   "id": "2eee50c0",
   "metadata": {},
   "source": [
    "### Regresion lineal "
   ]
  },
  {
   "cell_type": "markdown",
   "id": "45984a60",
   "metadata": {},
   "source": [
    "Lo que queremos averiguar es si la ocurrencia de un delito ha ido a la alza o a la baja a lo largo del tiempo, esto se puede averiguar ajustando la ecuación de una recta a cada subgrupo de datos por delito, y una vez hecho, tomar el valor de la pendiente obtenida de esta ecuación; si la pendiente es positiva, quiere decir que hay una tendencia a la alta, en caso de ser negativa, la tendencia será a la baja."
   ]
  },
  {
   "cell_type": "markdown",
   "id": "c1a5bb1d",
   "metadata": {},
   "source": [
    "### Rangos de tiempo "
   ]
  },
  {
   "cell_type": "markdown",
   "id": "882bae4f",
   "metadata": {},
   "source": [
    "En la gráfica de las ocurrencias del delito por abandono de persona, se observa que en los datos más viejos se tienen menos ocurrencias, así que si queremos analizar la tendencia con toda la base de datos, estas mediciones más viejas podrían darnos una idea errónea de lo que está ocurriendo. Para evitar eso, podemos revisar la tendencia en diferentes rangos de tiempo, por ejemplo, ver qué ha ocurrido en los últimos 15 años. "
   ]
  },
  {
   "cell_type": "code",
   "execution_count": null,
   "id": "aa09d674",
   "metadata": {},
   "outputs": [],
   "source": [
    "tendencia_completa = alza_baja(delitos_fr, delitos)\n",
    "tendencia_15 = alza_baja(delitos_fr, delitos, 15)\n",
    "tendencia_10 = alza_baja(delitos_fr, delitos, 10)\n",
    "tendencia_5 = alza_baja(delitos_fr, delitos, 5)"
   ]
  },
  {
   "cell_type": "markdown",
   "id": "9dd2e176",
   "metadata": {},
   "source": [
    "A continuación muestro un DataFrame donde se encuentran las tendencias para todos los delitos, de acuerdo a los siguientes rangos de años: mediciones completas, últimos 15 años, últimos 10 años y últimos 5 años."
   ]
  },
  {
   "cell_type": "code",
   "execution_count": 823,
   "id": "92cf9161",
   "metadata": {},
   "outputs": [],
   "source": [
    "tendencias = pd.DataFrame()\n",
    "tendencias['Todas_las_mediciones'] = tendencia_completa\n",
    "tendencias['Ultimos_15_años'] = tendencia_15\n",
    "tendencias['Ultimos_10_años'] = tendencia_10\n",
    "tendencias['Ultimos_5_años'] = tendencia_5\n",
    "tendencias.set_index(delitos, inplace = True)"
   ]
  },
  {
   "cell_type": "code",
   "execution_count": 824,
   "id": "0919e0cd",
   "metadata": {},
   "outputs": [
    {
     "data": {
      "text/html": [
       "<div>\n",
       "<style scoped>\n",
       "    .dataframe tbody tr th:only-of-type {\n",
       "        vertical-align: middle;\n",
       "    }\n",
       "\n",
       "    .dataframe tbody tr th {\n",
       "        vertical-align: top;\n",
       "    }\n",
       "\n",
       "    .dataframe thead th {\n",
       "        text-align: right;\n",
       "    }\n",
       "</style>\n",
       "<table border=\"1\" class=\"dataframe\">\n",
       "  <thead>\n",
       "    <tr style=\"text-align: right;\">\n",
       "      <th></th>\n",
       "      <th>Todas_las_mediciones</th>\n",
       "      <th>Ultimos_15_años</th>\n",
       "      <th>Ultimos_10_años</th>\n",
       "      <th>Ultimos_5_años</th>\n",
       "    </tr>\n",
       "  </thead>\n",
       "  <tbody>\n",
       "    <tr>\n",
       "      <th>ABANDONO DE PERSONA</th>\n",
       "      <td>Alza</td>\n",
       "      <td>Alza</td>\n",
       "      <td>Alza</td>\n",
       "      <td>Alza</td>\n",
       "    </tr>\n",
       "    <tr>\n",
       "      <th>ABORTO</th>\n",
       "      <td>Baja</td>\n",
       "      <td>Alza</td>\n",
       "      <td>Alza</td>\n",
       "      <td>Baja</td>\n",
       "    </tr>\n",
       "    <tr>\n",
       "      <th>ABUSO DE AUTORIDAD</th>\n",
       "      <td>Alza</td>\n",
       "      <td>Alza</td>\n",
       "      <td>Alza</td>\n",
       "      <td>Alza</td>\n",
       "    </tr>\n",
       "    <tr>\n",
       "      <th>ABUSO DE AUTORIDAD Y USO ILEGAL DE LA FUERZA PUBLICA</th>\n",
       "      <td>Baja</td>\n",
       "      <td>Alza</td>\n",
       "      <td>Alza</td>\n",
       "      <td>Alza</td>\n",
       "    </tr>\n",
       "    <tr>\n",
       "      <th>ABUSO DE CONFIANZA</th>\n",
       "      <td>Alza</td>\n",
       "      <td>Alza</td>\n",
       "      <td>Alza</td>\n",
       "      <td>Alza</td>\n",
       "    </tr>\n",
       "    <tr>\n",
       "      <th>...</th>\n",
       "      <td>...</td>\n",
       "      <td>...</td>\n",
       "      <td>...</td>\n",
       "      <td>...</td>\n",
       "    </tr>\n",
       "    <tr>\n",
       "      <th>VIOLACION TUMULTUARIA</th>\n",
       "      <td>Alza</td>\n",
       "      <td>Alza</td>\n",
       "      <td>Alza</td>\n",
       "      <td>Alza</td>\n",
       "    </tr>\n",
       "    <tr>\n",
       "      <th>VIOLACION TUMULTUARIA EQUIPARADA</th>\n",
       "      <td>Baja</td>\n",
       "      <td>Alza</td>\n",
       "      <td>Alza</td>\n",
       "      <td>Alza</td>\n",
       "    </tr>\n",
       "    <tr>\n",
       "      <th>VIOLACION TUMULTUARIA EQUIPARADA POR CONOCIDO</th>\n",
       "      <td>Baja</td>\n",
       "      <td>Baja</td>\n",
       "      <td>Baja</td>\n",
       "      <td>Baja</td>\n",
       "    </tr>\n",
       "    <tr>\n",
       "      <th>VIOLACION Y ROBO DE VEHICULO</th>\n",
       "      <td>Baja</td>\n",
       "      <td>Baja</td>\n",
       "      <td>Baja</td>\n",
       "      <td>Baja</td>\n",
       "    </tr>\n",
       "    <tr>\n",
       "      <th>VIOLENCIA FAMILIAR</th>\n",
       "      <td>Baja</td>\n",
       "      <td>Alza</td>\n",
       "      <td>Alza</td>\n",
       "      <td>Alza</td>\n",
       "    </tr>\n",
       "  </tbody>\n",
       "</table>\n",
       "<p>346 rows × 4 columns</p>\n",
       "</div>"
      ],
      "text/plain": [
       "                                                   Todas_las_mediciones  \\\n",
       "ABANDONO DE PERSONA                                                Alza   \n",
       "ABORTO                                                             Baja   \n",
       "ABUSO DE AUTORIDAD                                                 Alza   \n",
       "ABUSO DE AUTORIDAD Y USO ILEGAL DE LA FUERZA PU...                 Baja   \n",
       "ABUSO DE CONFIANZA                                                 Alza   \n",
       "...                                                                 ...   \n",
       "VIOLACION TUMULTUARIA                                              Alza   \n",
       "VIOLACION TUMULTUARIA EQUIPARADA                                   Baja   \n",
       "VIOLACION TUMULTUARIA EQUIPARADA POR CONOCIDO                      Baja   \n",
       "VIOLACION Y ROBO DE VEHICULO                                       Baja   \n",
       "VIOLENCIA FAMILIAR                                                 Baja   \n",
       "\n",
       "                                                   Ultimos_15_años  \\\n",
       "ABANDONO DE PERSONA                                           Alza   \n",
       "ABORTO                                                        Alza   \n",
       "ABUSO DE AUTORIDAD                                            Alza   \n",
       "ABUSO DE AUTORIDAD Y USO ILEGAL DE LA FUERZA PU...            Alza   \n",
       "ABUSO DE CONFIANZA                                            Alza   \n",
       "...                                                            ...   \n",
       "VIOLACION TUMULTUARIA                                         Alza   \n",
       "VIOLACION TUMULTUARIA EQUIPARADA                              Alza   \n",
       "VIOLACION TUMULTUARIA EQUIPARADA POR CONOCIDO                 Baja   \n",
       "VIOLACION Y ROBO DE VEHICULO                                  Baja   \n",
       "VIOLENCIA FAMILIAR                                            Alza   \n",
       "\n",
       "                                                   Ultimos_10_años  \\\n",
       "ABANDONO DE PERSONA                                           Alza   \n",
       "ABORTO                                                        Alza   \n",
       "ABUSO DE AUTORIDAD                                            Alza   \n",
       "ABUSO DE AUTORIDAD Y USO ILEGAL DE LA FUERZA PU...            Alza   \n",
       "ABUSO DE CONFIANZA                                            Alza   \n",
       "...                                                            ...   \n",
       "VIOLACION TUMULTUARIA                                         Alza   \n",
       "VIOLACION TUMULTUARIA EQUIPARADA                              Alza   \n",
       "VIOLACION TUMULTUARIA EQUIPARADA POR CONOCIDO                 Baja   \n",
       "VIOLACION Y ROBO DE VEHICULO                                  Baja   \n",
       "VIOLENCIA FAMILIAR                                            Alza   \n",
       "\n",
       "                                                   Ultimos_5_años  \n",
       "ABANDONO DE PERSONA                                          Alza  \n",
       "ABORTO                                                       Baja  \n",
       "ABUSO DE AUTORIDAD                                           Alza  \n",
       "ABUSO DE AUTORIDAD Y USO ILEGAL DE LA FUERZA PU...           Alza  \n",
       "ABUSO DE CONFIANZA                                           Alza  \n",
       "...                                                           ...  \n",
       "VIOLACION TUMULTUARIA                                        Alza  \n",
       "VIOLACION TUMULTUARIA EQUIPARADA                             Alza  \n",
       "VIOLACION TUMULTUARIA EQUIPARADA POR CONOCIDO                Baja  \n",
       "VIOLACION Y ROBO DE VEHICULO                                 Baja  \n",
       "VIOLENCIA FAMILIAR                                           Alza  \n",
       "\n",
       "[346 rows x 4 columns]"
      ]
     },
     "execution_count": 824,
     "metadata": {},
     "output_type": "execute_result"
    }
   ],
   "source": [
    "tendencias"
   ]
  },
  {
   "cell_type": "markdown",
   "id": "ed7d9b4b",
   "metadata": {},
   "source": [
    "Podemos ver por ejemplo que en el caso de aborto:"
   ]
  },
  {
   "cell_type": "code",
   "execution_count": 784,
   "id": "ce916222",
   "metadata": {},
   "outputs": [
    {
     "data": {
      "text/plain": [
       "Todas_las_mediciones    Baja\n",
       "Ultimos_15_años         Alza\n",
       "Ultimos_10_años         Alza\n",
       "Ultimos_5_años          Baja\n",
       "Name: ABORTO, dtype: object"
      ]
     },
     "execution_count": 784,
     "metadata": {},
     "output_type": "execute_result"
    }
   ],
   "source": [
    "tendencias.loc['ABORTO']"
   ]
  },
  {
   "cell_type": "markdown",
   "id": "89b9ad44",
   "metadata": {},
   "source": [
    "Si tomamos todas las mediciones, la tendencia es a la baja, al igual que en los últimos 5 años, sin embargo al analizar los últimos 15 y 10 años, este delito se fue a la alza. Así que para llegar a una mejor conclusión hay que analizar otros factores, como en qué alcaldías ocurrieron los delitos, el estatus socio económico de quien lo cometió, etc."
   ]
  },
  {
   "cell_type": "code",
   "execution_count": null,
   "id": "61f8318e",
   "metadata": {},
   "outputs": [],
   "source": [
    "from sklearn.linear_model import LinearRegression"
   ]
  },
  {
   "cell_type": "code",
   "execution_count": null,
   "id": "1037b8f8",
   "metadata": {},
   "outputs": [],
   "source": [
    "X = np.arange(len(primer_delito.index)).reshape((-1,1))  # features\n",
    "y = primer_delito['size']  # target\n",
    "\n",
    "# Train the model\n",
    "model = LinearRegression()\n",
    "model.fit(X, y)\n",
    "\n",
    "# Store the fitted values as a time series with the same time index as\n",
    "# the training data\n",
    "y_pred = pd.Series(model.predict(X), index=primer_delito.index)"
   ]
  },
  {
   "cell_type": "code",
   "execution_count": 559,
   "id": "9f84b845",
   "metadata": {},
   "outputs": [
    {
     "data": {
      "image/png": "[encoded data removed]",
      "text/plain": [
       "<Figure size 432x288 with 1 Axes>"
      ]
     },
     "metadata": {
      "needs_background": "light"
     },
     "output_type": "display_data"
    }
   ],
   "source": [
    "plt.plot(y_pred)\n",
    "plt.scatter(primer_delito.index,primer_delito['size'], color = 'red', s = 3)\n",
    "plt.show()"
   ]
  },
  {
   "cell_type": "markdown",
   "id": "f418b1a5",
   "metadata": {},
   "source": [
    "Abajo dejé algunos datos extras por si los necesito a futuro:"
   ]
  },
  {
   "cell_type": "code",
   "execution_count": 845,
   "id": "b5e8d5c7",
   "metadata": {},
   "outputs": [],
   "source": [
    "# arreglo con los años de los hechos que aparecen en la base de datos, sin repetir\n",
    "año_hechos = sorted(datos_filtrados['ao_hechos'].unique())"
   ]
  },
  {
   "cell_type": "code",
   "execution_count": 846,
   "id": "3f226cfb",
   "metadata": {},
   "outputs": [
    {
     "data": {
      "text/plain": [
       "['1906', '1915', '1917', '1930', '1942', '1950', '1952', '1954', '1955', '1956', '1957', '1958', '1960', '1961', '1962', '1963', '1964', '1965', '1966', '1967', '1968', '1969', '1970', '1971', '1972', '1973', '1974', '1975', '1976', '1977', '1978', '1979', '1980', '1981', '1982', '1983', '1984', '1985', '1986', '1987', '1988', '1989', '1990', '1991', '1992', '1993', '1994', '1995', '1996', '1997', '1998', '1999', '2000', '2001', '2002', '2003', '2004', '2005', '2006', '2007', '2008', '2009', '2010', '2011', '2012', '2013', '2014', '2015', '2016', '2017', '2018', '2019', '2020', '2021', '2022']"
      ]
     },
     "execution_count": 846,
     "metadata": {},
     "output_type": "execute_result"
    }
   ],
   "source": [
    "año_hechos"
   ]
  },
  {
   "cell_type": "code",
   "execution_count": 57,
   "id": "c0938879",
   "metadata": {},
   "outputs": [],
   "source": [
    "# arreglo con los años de inicio que aparecen en la base de datos, sin repetir\n",
    "año_inicio = datos['ao_inicio'].unique()"
   ]
  },
  {
   "cell_type": "code",
   "execution_count": 58,
   "id": "3cd56e47",
   "metadata": {},
   "outputs": [
    {
     "data": {
      "text/plain": [
       "array(['2016', '2017', '2018', '2019', '2020', '2021', '2022'],\n",
       "      dtype=object)"
      ]
     },
     "execution_count": 58,
     "metadata": {},
     "output_type": "execute_result"
    }
   ],
   "source": [
    "año_inicio"
   ]
  },
  {
   "cell_type": "markdown",
   "id": "d0c3de52",
   "metadata": {},
   "source": [
    "3. Para averiguar el número de delitos por alcaldía, se puede agrupar la base de datos de acuerdo a esta variable, después, contar el número de delitos. "
   ]
  },
  {
   "cell_type": "code",
   "execution_count": 825,
   "id": "54d40c79",
   "metadata": {},
   "outputs": [],
   "source": [
    "datos_agrupados_alcaldia = datos_filtrados.groupby('alcaldia_hechos')"
   ]
  },
  {
   "cell_type": "code",
   "execution_count": 826,
   "id": "17fbe4f8",
   "metadata": {},
   "outputs": [],
   "source": [
    "delitos_por_alcaldia = datos_agrupados_alcaldia.size()"
   ]
  },
  {
   "cell_type": "code",
   "execution_count": 827,
   "id": "92df5d23",
   "metadata": {},
   "outputs": [
    {
     "data": {
      "text/plain": [
       "217938"
      ]
     },
     "execution_count": 827,
     "metadata": {},
     "output_type": "execute_result"
    }
   ],
   "source": [
    "max(delitos_por_alcaldia)"
   ]
  },
  {
   "cell_type": "code",
   "execution_count": 828,
   "id": "7477a8ac",
   "metadata": {},
   "outputs": [],
   "source": [
    "comp_max = delitos_por_alcaldia == max(delitos_por_alcaldia)"
   ]
  },
  {
   "cell_type": "code",
   "execution_count": 829,
   "id": "32bf881c",
   "metadata": {},
   "outputs": [
    {
     "data": {
      "text/plain": [
       "alcaldia_hechos\n",
       "CUAUHTEMOC    217938\n",
       "dtype: int64"
      ]
     },
     "execution_count": 829,
     "metadata": {},
     "output_type": "execute_result"
    }
   ],
   "source": [
    "delitos_por_alcaldia[comp_max]"
   ]
  },
  {
   "cell_type": "code",
   "execution_count": 830,
   "id": "f3ccdb6f",
   "metadata": {},
   "outputs": [],
   "source": [
    "comp_min = delitos_por_alcaldia == min(delitos_por_alcaldia)"
   ]
  },
  {
   "cell_type": "code",
   "execution_count": 831,
   "id": "3273f5fa",
   "metadata": {},
   "outputs": [
    {
     "data": {
      "text/plain": [
       "alcaldia_hechos\n",
       "MILPA ALTA    10542\n",
       "dtype: int64"
      ]
     },
     "execution_count": 831,
     "metadata": {},
     "output_type": "execute_result"
    }
   ],
   "source": [
    "delitos_por_alcaldia[comp_min]"
   ]
  },
  {
   "cell_type": "markdown",
   "id": "f4bc84c5",
   "metadata": {},
   "source": [
    "La alcaldía Cuauhtémoc tiene una población de $545884$ habitantes, con una densidad de población de $16848$ habitantes por $km^2$ (fuente: [Wikipedia](http://es.wikipedia.org/wiki/Demarcaciones_territoriales_de_la_Ciudad_de_M%C3%A9xico \"Wikipedia\")), de hecho es la alcaldía con la mayor densidad poblacional. Por su parte, Milpa Alta tiene una población de $152 685$ habitantes, con una densidad población de $668$ habitantes por $km^2$, siendo la alcaldía con la menor densidad poblacional. Así que tan sólo el número de habitantes que hay en cada zona, y el cómo están distribuidas son factores importantes para esta incidencia de delitos."
   ]
  },
  {
   "cell_type": "markdown",
   "id": "2762e3ab",
   "metadata": {},
   "source": [
    "Para entender un poco más sobre lo que pasa en la alcaldía Cuauhtémoc, podemos revisar cuáles son los delitos de mayor incidencia, y ver si existe alguna relación entre ellos."
   ]
  },
  {
   "cell_type": "markdown",
   "id": "b038ce98",
   "metadata": {},
   "source": [
    "Primero seleccionamos los datos de la alcaldía, después lo agrupamos por delitos."
   ]
  },
  {
   "cell_type": "code",
   "execution_count": 807,
   "id": "0d0abd2d",
   "metadata": {},
   "outputs": [],
   "source": [
    "delitos_cuauhtemoc = datos_agrupados_alcaldia.get_group('CUAUHTEMOC').groupby('delito')"
   ]
  },
  {
   "cell_type": "markdown",
   "id": "931ee78f",
   "metadata": {},
   "source": [
    "Ahora, calculamos la ocurrencia de los delitos. A continuación se muestran los cinco delitos con mayor incidencia:"
   ]
  },
  {
   "cell_type": "code",
   "execution_count": 815,
   "id": "caa6c774",
   "metadata": {},
   "outputs": [
    {
     "data": {
      "text/plain": [
       "delito\n",
       "FRAUDE                                            22498\n",
       "ROBO DE OBJETOS                                   15542\n",
       "VIOLENCIA FAMILIAR                                12129\n",
       "ROBO A NEGOCIO SIN VIOLENCIA                      11098\n",
       "ROBO A TRANSEUNTE EN VIA PUBLICA CON VIOLENCIA    10229\n",
       "dtype: int64"
      ]
     },
     "execution_count": 815,
     "metadata": {},
     "output_type": "execute_result"
    }
   ],
   "source": [
    "delitos_cuauhtemoc.size().nlargest()"
   ]
  },
  {
   "cell_type": "markdown",
   "id": "ee141394",
   "metadata": {},
   "source": [
    "Se observa que en estos delitos está implicado el robo."
   ]
  },
  {
   "cell_type": "markdown",
   "id": "f0772e11",
   "metadata": {},
   "source": [
    "4. Para revisar la tendencia estacional, me parece que lo mejor es analizar en rangos de años: los últimos 5, 10 y 15 años; a su vez, estos grupos se pueden estudiar en subgrupos de escalas de tiempo por quincenal, mensual, semestral y anual."
   ]
  },
  {
   "cell_type": "code",
   "execution_count": 833,
   "id": "23d757fe",
   "metadata": {},
   "outputs": [],
   "source": [
    "prueba = datos_filtrados[datos_filtrados['delito']==delitos[0]]"
   ]
  },
  {
   "cell_type": "code",
   "execution_count": 841,
   "id": "62f3d1c5",
   "metadata": {},
   "outputs": [
    {
     "data": {
      "text/html": [
       "<div>\n",
       "<style scoped>\n",
       "    .dataframe tbody tr th:only-of-type {\n",
       "        vertical-align: middle;\n",
       "    }\n",
       "\n",
       "    .dataframe tbody tr th {\n",
       "        vertical-align: top;\n",
       "    }\n",
       "\n",
       "    .dataframe thead th {\n",
       "        text-align: right;\n",
       "    }\n",
       "</style>\n",
       "<table border=\"1\" class=\"dataframe\">\n",
       "  <thead>\n",
       "    <tr style=\"text-align: right;\">\n",
       "      <th></th>\n",
       "      <th>fecha_hechos</th>\n",
       "      <th>size</th>\n",
       "    </tr>\n",
       "  </thead>\n",
       "  <tbody>\n",
       "    <tr>\n",
       "      <th>0</th>\n",
       "      <td>1989-08-25 12:00:00</td>\n",
       "      <td>1</td>\n",
       "    </tr>\n",
       "    <tr>\n",
       "      <th>1</th>\n",
       "      <td>1993-04-02 12:00:00</td>\n",
       "      <td>1</td>\n",
       "    </tr>\n",
       "    <tr>\n",
       "      <th>2</th>\n",
       "      <td>2000-07-05 12:00:00</td>\n",
       "      <td>1</td>\n",
       "    </tr>\n",
       "    <tr>\n",
       "      <th>3</th>\n",
       "      <td>2001-07-01 10:00:00</td>\n",
       "      <td>1</td>\n",
       "    </tr>\n",
       "    <tr>\n",
       "      <th>4</th>\n",
       "      <td>2001-10-26 12:00:00</td>\n",
       "      <td>1</td>\n",
       "    </tr>\n",
       "    <tr>\n",
       "      <th>...</th>\n",
       "      <td>...</td>\n",
       "      <td>...</td>\n",
       "    </tr>\n",
       "    <tr>\n",
       "      <th>1888</th>\n",
       "      <td>2018-12-26 12:28:00</td>\n",
       "      <td>1</td>\n",
       "    </tr>\n",
       "    <tr>\n",
       "      <th>1889</th>\n",
       "      <td>2018-12-26 19:30:00</td>\n",
       "      <td>1</td>\n",
       "    </tr>\n",
       "    <tr>\n",
       "      <th>1890</th>\n",
       "      <td>2018-12-27 13:42:00</td>\n",
       "      <td>1</td>\n",
       "    </tr>\n",
       "    <tr>\n",
       "      <th>1891</th>\n",
       "      <td>2018-12-27 23:00:00</td>\n",
       "      <td>1</td>\n",
       "    </tr>\n",
       "    <tr>\n",
       "      <th>1892</th>\n",
       "      <td>2018-12-28 17:15:00</td>\n",
       "      <td>1</td>\n",
       "    </tr>\n",
       "  </tbody>\n",
       "</table>\n",
       "<p>1893 rows × 2 columns</p>\n",
       "</div>"
      ],
      "text/plain": [
       "            fecha_hechos  size\n",
       "0    1989-08-25 12:00:00     1\n",
       "1    1993-04-02 12:00:00     1\n",
       "2    2000-07-05 12:00:00     1\n",
       "3    2001-07-01 10:00:00     1\n",
       "4    2001-10-26 12:00:00     1\n",
       "...                  ...   ...\n",
       "1888 2018-12-26 12:28:00     1\n",
       "1889 2018-12-26 19:30:00     1\n",
       "1890 2018-12-27 13:42:00     1\n",
       "1891 2018-12-27 23:00:00     1\n",
       "1892 2018-12-28 17:15:00     1\n",
       "\n",
       "[1893 rows x 2 columns]"
      ]
     },
     "execution_count": 841,
     "metadata": {},
     "output_type": "execute_result"
    }
   ],
   "source": [
    "prueba.groupby(['fecha_hechos'], as_index=False, group_keys=True ).size()"
   ]
  },
  {
   "cell_type": "code",
   "execution_count": 848,
   "id": "5034e43e",
   "metadata": {},
   "outputs": [
    {
     "data": {
      "text/plain": [
       "['2008', '2009', '2010', '2011', '2012', '2013', '2014', '2015', '2016', '2017', '2018', '2019', '2020', '2021', '2022']"
      ]
     },
     "execution_count": 848,
     "metadata": {},
     "output_type": "execute_result"
    }
   ],
   "source": [
    "año_hechos[-15:]"
   ]
  },
  {
   "cell_type": "code",
   "execution_count": 851,
   "id": "9fa088ff",
   "metadata": {},
   "outputs": [],
   "source": [
    "prueba2 = datos_filtrados[datos_filtrados['ao_hechos']>='2008']"
   ]
  },
  {
   "cell_type": "code",
   "execution_count": 868,
   "id": "0e12784a",
   "metadata": {},
   "outputs": [],
   "source": [
    "prueba3 = prueba2.groupby(['ao_hechos','mes_hechos','delito'], as_index = False, group_keys = True).size()"
   ]
  },
  {
   "cell_type": "code",
   "execution_count": 863,
   "id": "5000a319",
   "metadata": {},
   "outputs": [
    {
     "data": {
      "text/plain": [
       "ao_hechos  mes_hechos  delito            \n",
       "2021       Marzo       VIOLENCIA FAMILIAR    3246\n",
       "           Mayo        VIOLENCIA FAMILIAR    3197\n",
       "           Abril       VIOLENCIA FAMILIAR    3157\n",
       "           Octubre     VIOLENCIA FAMILIAR    2955\n",
       "           Junio       VIOLENCIA FAMILIAR    2833\n",
       "dtype: int64"
      ]
     },
     "execution_count": 863,
     "metadata": {},
     "output_type": "execute_result"
    }
   ],
   "source": [
    "prueba3.nlargest()"
   ]
  },
  {
   "cell_type": "code",
   "execution_count": 870,
   "id": "1e0dcb66",
   "metadata": {},
   "outputs": [],
   "source": [
    "prueba4 = datos_filtrados[datos_filtrados['ao_hechos']=='2008']"
   ]
  },
  {
   "cell_type": "code",
   "execution_count": 891,
   "id": "53a0b66a",
   "metadata": {},
   "outputs": [],
   "source": [
    "prueba5 = prueba4.groupby(['mes_hechos','delito'], as_index = False, group_keys = True).size()"
   ]
  },
  {
   "cell_type": "code",
   "execution_count": 892,
   "id": "2deff0d1",
   "metadata": {},
   "outputs": [],
   "source": [
    "prueba6 = prueba5[prueba5['mes_hechos'] == 'Abril']"
   ]
  },
  {
   "cell_type": "code",
   "execution_count": 915,
   "id": "eea9f2c9",
   "metadata": {},
   "outputs": [
    {
     "data": {
      "text/plain": [
       "12                    TORTURA\n",
       "6                      FRAUDE\n",
       "4          DENUNCIA DE HECHOS\n",
       "7     INSOLVENCIA ALIMENTARIA\n",
       "13                  VIOLACION\n",
       "Name: delito, dtype: object"
      ]
     },
     "execution_count": 915,
     "metadata": {},
     "output_type": "execute_result"
    }
   ],
   "source": [
    "prueba6.nlargest(5,'size')['delito']"
   ]
  },
  {
   "cell_type": "code",
   "execution_count": 1035,
   "id": "1018c700",
   "metadata": {},
   "outputs": [],
   "source": [
    "def delitos_por_mes(mes):\n",
    "    aux_df = pd.DataFrame()\n",
    "    for año in range(2008,2022):\n",
    "        comp_año = datos_filtrados['ao_hechos'] == str(año)\n",
    "        datos_año = datos_filtrados[comp_año]\n",
    "        delitos_agrupados_mes = datos_año.groupby(['mes_hechos','delito'], as_index = False, group_keys = True).size()\n",
    "        delitos_mes = delitos_agrupados_mes[delitos_agrupados_mes['mes_hechos'] == mes]\n",
    "        delitos_frec_mes = delitos_mes.sort_values('size', ascending = False)\n",
    "        aux_df[str(año)] = delitos_frec_mes['delito']\n",
    "    aux_df.reset_index(inplace = True)\n",
    "    return aux_df\n",
    "delitos_por_mes.__doc__ = \"Muestra los delitos registrados durante los últimos 15 años para el mes dado, los delitos aparecen en orden de mayor ocurrencia en cada año.\""
   ]
  },
  {
   "cell_type": "code",
   "execution_count": 1070,
   "id": "5162bf13",
   "metadata": {},
   "outputs": [],
   "source": [
    "def frec_total_mes(mes):\n",
    "    #meses_año = ['Enero','Febrero','Marzo','Abril','Mayo','Junio','Julio','Agosto','Septiembre','Octubre','Noviembre','Diciembre']\n",
    "    df_mes = delitos_por_mes(mes)\n",
    "    lista_aux = []\n",
    "    for año in range(2008,2021):\n",
    "        for delito in df_mes[str(año)]:\n",
    "            if not pd.isna(delito): \n",
    "                lista_aux.append(delito)\n",
    "    dic_aux = {i:lista_aux.count(i) for i in lista_aux}\n",
    "    df_aux = pd.DataFrame(dic_aux.values(), index = dic_aux.keys(), columns = ['ocurrencia'])\n",
    "    df_aux.sort_values('ocurrencia', ascending = False, inplace = True)\n",
    "    return df_aux\n",
    "frec_total_mes.__doc__ = \"Regresa un DataFrame con todos los delitos ocurridos en los últimos 15 años para el mes dado, ordenados de acuerdo a la mayor ocurrencia\""
   ]
  },
  {
   "cell_type": "code",
   "execution_count": 1074,
   "id": "ec128c08",
   "metadata": {},
   "outputs": [],
   "source": [
    "def frec_total_año():\n",
    "    meses_año = ['Enero','Febrero','Marzo','Abril','Mayo','Junio','Julio','Agosto','Septiembre','Octubre','Noviembre','Diciembre']\n",
    "    df_aux = pd.DataFrame()\n",
    "    \n",
    "    for mes in meses_año:\n",
    "        delitos_mes = frec_total_mes(mes)\n",
    "        df_aux[mes] = delitos_mes.index\n",
    "    return df_aux"
   ]
  },
  {
   "cell_type": "code",
   "execution_count": null,
   "id": "76622294",
   "metadata": {},
   "outputs": [],
   "source": []
  }
 ],
 "metadata": {
  "kernelspec": {
   "display_name": "Python 3 (ipykernel)",
   "language": "python",
   "name": "python3"
  },
  "language_info": {
   "codemirror_mode": {
    "name": "ipython",
    "version": 3
   },
   "file_extension": ".py",
   "mimetype": "text/x-python",
   "name": "python",
   "nbconvert_exporter": "python",
   "pygments_lexer": "ipython3",
   "version": "3.8.12"
  }
 },
 "nbformat": 4,
 "nbformat_minor": 5
}
