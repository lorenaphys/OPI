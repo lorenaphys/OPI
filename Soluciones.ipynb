{
 "cells": [
  {
   "cell_type": "markdown",
   "id": "b8dea8da",
   "metadata": {},
   "source": [
    "# Soluciones al examen de OPI "
   ]
  },
  {
   "cell_type": "markdown",
   "id": "d18e7b7c",
   "metadata": {},
   "source": [
    "1. Los datos son de calidad cuando sirven para una finalidad prevista, basados en las siguientes características:\n",
    "* No debe haber huecos, ni variables repetidas.\n",
    "* La información debe ser relevante para cumplir los objetivos, por ejemplo, si estoy haciendo un análisis sobre los delitos en la ciudad de México, no me sirve tener información sobre el peso de los habitantes de la ciudad.\n",
    "* Confiabilidad: hay que asegurarse que los datos no sean ambiguos, vagos o que contengan información contradictoria, por ejemplo, si tengo información sobre los delitos de una alcaldía en dos columnas y cada una con información diferente.\n",
    "* Los datos tienen que ser colectados en el tiempo correcto, hay que asegurarse que no sean obsoletos, tomando de nuevo el análisis de los delitos de la CDMX, no tendría sentido que sólo tenga información de hace 30 años."
   ]
  },
  {
   "cell_type": "code",
   "execution_count": null,
   "id": "b2caac5c",
   "metadata": {},
   "outputs": [],
   "source": []
  }
 ],
 "metadata": {
  "kernelspec": {
   "display_name": "Python 3 (ipykernel)",
   "language": "python",
   "name": "python3"
  },
  "language_info": {
   "codemirror_mode": {
    "name": "ipython",
    "version": 3
   },
   "file_extension": ".py",
   "mimetype": "text/x-python",
   "name": "python",
   "nbconvert_exporter": "python",
   "pygments_lexer": "ipython3",
   "version": "3.8.12"
  }
 },
 "nbformat": 4,
 "nbformat_minor": 5
}
