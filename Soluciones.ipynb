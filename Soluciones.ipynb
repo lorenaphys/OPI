{
 "cells": [
  {
   "cell_type": "markdown",
   "id": "b0b6b6b8",
   "metadata": {},
   "source": [
    "# Soluciones al examen de OPI "
   ]
  },
  {
   "cell_type": "code",
   "execution_count": 86,
   "id": "d3b1e38a",
   "metadata": {},
   "outputs": [],
   "source": [
    "# paquetes necesarios para este examen\n",
    "import pandas as pd\n",
    "from datetime import datetime # para que Python reconozca las fechas\n",
    "import numpy as np\n",
    "import math\n",
    "import matplotlib.pyplot as plt"
   ]
  },
  {
   "cell_type": "code",
   "execution_count": 346,
   "id": "5405def3",
   "metadata": {},
   "outputs": [],
   "source": [
    "# Función que se necesitará más adelante para agregar formato a la fec\n",
    "def cambio_mes(mes):\n",
    "    reemplazo = (\n",
    "            ('Enero', '01'),\n",
    "            ('Febrero', '02'),\n",
    "            ('Marzo', '03'),\n",
    "            ('Abril', '04'),\n",
    "            ('Mayo', '05'),\n",
    "            ('Junio','06'),\n",
    "            ('Julio','07'),\n",
    "            ('Agosto','08'),\n",
    "            ('Septiembre','09'),\n",
    "            ('Octubre', '10'),\n",
    "            ('Noviembre','11'),\n",
    "            ('Diciembre', '12')\n",
    "        )\n",
    "    for a, b in reemplazo:\n",
    "        mes = mes.replace(a, b)\n",
    "    return mes\n",
    "cambio_mes.__doc__ = \"Cambia el mes a su correspondiente valor numerico\""
   ]
  },
  {
   "cell_type": "markdown",
   "id": "4b4d8c2f",
   "metadata": {},
   "source": [
    "1. Los datos son de calidad cuando sirven para una finalidad prevista, basados en las siguientes características:\n",
    "* No debe haber huecos, ni variables repetidas.\n",
    "* La información debe ser relevante para cumplir los objetivos, por ejemplo, si estoy haciendo un análisis sobre los delitos en la ciudad de México, no me sirve tener información sobre el peso de los habitantes de la ciudad.\n",
    "* Confiabilidad: hay que asegurarse que los datos no sean ambiguos, vagos o que contengan información contradictoria, por ejemplo, si tengo información sobre los delitos de una alcaldía en dos columnas y cada una con información diferente.\n",
    "* Los datos tienen que ser colectados en el tiempo correcto, hay que asegurarse que no sean obsoletos, tomando de nuevo el análisis de los delitos de la CDMX, no tendría sentido que sólo tenga información de hace 30 años."
   ]
  },
  {
   "cell_type": "markdown",
   "id": "a72adac2",
   "metadata": {},
   "source": [
    "2. Datos a la alza y a la baja."
   ]
  },
  {
   "cell_type": "code",
   "execution_count": 25,
   "id": "e1528627",
   "metadata": {},
   "outputs": [],
   "source": [
    "# importamos la base de datos\n",
    "# encoding='utf-8' es para que al importarse la base de datos, reconozca caracteres \n",
    "# como la ñ.\n",
    "# dtype='unicode' es para evitar un warning por low_memory ya que python estaba \n",
    "# adivinando el tipo de objeto (dtype) de cada columna\n",
    "\n",
    "datos = pd.read_csv('/home/lorena/Escritorio/OPI/carpetas_completa_febrero_2022.csv', encoding='utf-8', dtype='unicode')"
   ]
  },
  {
   "cell_type": "markdown",
   "id": "2476fef1",
   "metadata": {},
   "source": [
    "Para que las columnas fecha_hechos y fecha_inicia tal cual sean reconocidas como fechas, se utiliza la función de pandas **to_datetime**."
   ]
  },
  {
   "cell_type": "code",
   "execution_count": 30,
   "id": "2593c0fe",
   "metadata": {},
   "outputs": [],
   "source": [
    "datos['fecha_hechos'] = pd.to_datetime(datos['fecha_hechos'], format = \"%Y %m %d %H:%M:%S\")\n",
    "datos['fecha_inicio'] = pd.to_datetime(datos['fecha_inicio'], format = \"%Y %m %d %H:%M:%S\")"
   ]
  },
  {
   "cell_type": "code",
   "execution_count": 241,
   "id": "61324bd2",
   "metadata": {},
   "outputs": [],
   "source": [
    "datos.set_index(datos['mes_hechos']+'/'+datos['ao_hechos'], inplace = True)"
   ]
  },
  {
   "cell_type": "code",
   "execution_count": 28,
   "id": "56aecd99",
   "metadata": {},
   "outputs": [
    {
     "data": {
      "text/plain": [
       "Index(['ao_hechos', 'mes_hechos', 'fecha_hechos', 'ao_inicio', 'mes_inicio',\n",
       "       'fecha_inicio', 'delito', 'fiscalia', 'agencia', 'unidad_investigacion',\n",
       "       'categoria_delito', 'calle_hechos', 'calle_hechos2', 'colonia_hechos',\n",
       "       'alcaldia_hechos', 'competencia', 'longitud', 'latitud', 'tempo'],\n",
       "      dtype='object')"
      ]
     },
     "execution_count": 28,
     "metadata": {},
     "output_type": "execute_result"
    }
   ],
   "source": [
    "datos.columns"
   ]
  },
  {
   "cell_type": "markdown",
   "id": "846127d5",
   "metadata": {},
   "source": [
    "A continuación, descarto a aquellas filas en las que el año de los hechos sea igual a **nan**:"
   ]
  },
  {
   "cell_type": "code",
   "execution_count": 108,
   "id": "c25a087f",
   "metadata": {},
   "outputs": [],
   "source": [
    "datos = datos[np.logical_not(pd.isnull(datos['ao_hechos']))]"
   ]
  },
  {
   "cell_type": "markdown",
   "id": "eb9afc76",
   "metadata": {},
   "source": [
    "Agrupando la base de datos primero por delito, después por año de los hechos y por último por mes de los hechos. Una vez organizada la base, se cuenta las veces que se repite cada delito de acuerdo al mes y al año. Al resultado le asigné la variable **delitos_fr**, ya que obtenemos la frecuencia de los delitos."
   ]
  },
  {
   "cell_type": "code",
   "execution_count": 384,
   "id": "0564f290",
   "metadata": {},
   "outputs": [],
   "source": [
    "delitos_fr = datos.groupby(['delito','ao_hechos','mes_hechos'], as_index=False, group_keys=True).size()"
   ]
  },
  {
   "cell_type": "markdown",
   "id": "0eedda56",
   "metadata": {},
   "source": [
    "En **delitos_fr** aplicamos la función **cambio_mes** para que fila a fila se cambie el formato del mes a numérico:"
   ]
  },
  {
   "cell_type": "code",
   "execution_count": 385,
   "id": "e1101859",
   "metadata": {},
   "outputs": [],
   "source": [
    "delitos_fr['mes_hechos'] = delitos_fr['mes_hechos'].apply(cambio_mes)"
   ]
  },
  {
   "cell_type": "markdown",
   "id": "080fc81c",
   "metadata": {},
   "source": [
    "Para que sea más sencillos seleccionar la frecuencia de acuerdo al delito, hice una lista con el nombre de estos:"
   ]
  },
  {
   "cell_type": "code",
   "execution_count": 389,
   "id": "4dd669da",
   "metadata": {},
   "outputs": [],
   "source": [
    "delitos = delitos_fr['delito'].unique()"
   ]
  },
  {
   "cell_type": "markdown",
   "id": "983e3903",
   "metadata": {},
   "source": [
    "## Prueba con un sólo delito"
   ]
  },
  {
   "cell_type": "markdown",
   "id": "2cd3ea4a",
   "metadata": {},
   "source": [
    "Antes de manipular los datos delito a delito, comencé con el primero del arreglo **delitos**. Así que primero seleccioné de **delitos_fr** el subgrupo del primer delito."
   ]
  },
  {
   "cell_type": "code",
   "execution_count": 390,
   "id": "41e7eab6",
   "metadata": {},
   "outputs": [],
   "source": [
    "primer_delito = delitos_fr[delitos_fr['delito'] == delitos[0]]"
   ]
  },
  {
   "cell_type": "code",
   "execution_count": 492,
   "id": "45c642b3",
   "metadata": {},
   "outputs": [],
   "source": [
    "segundo_delito = delitos_fr[delitos_fr['delito'] == delitos[1]]"
   ]
  },
  {
   "cell_type": "markdown",
   "id": "e34887d6",
   "metadata": {},
   "source": [
    "Después definí los índices para **delitos_fr**, siendo la fecha."
   ]
  },
  {
   "cell_type": "code",
   "execution_count": 392,
   "id": "32643789",
   "metadata": {},
   "outputs": [],
   "source": [
    "primer_delito.set_index(pd.to_datetime(primer_delito['mes_hechos']+'/'+primer_delito['ao_hechos'], format = '%m/%Y'), inplace = True)"
   ]
  },
  {
   "cell_type": "code",
   "execution_count": 493,
   "id": "27d05910",
   "metadata": {},
   "outputs": [],
   "source": [
    "segundo_delito.set_index(pd.to_datetime(segundo_delito['mes_hechos']+'/'+segundo_delito['ao_hechos'], format = '%m/%Y'), inplace = True)"
   ]
  },
  {
   "cell_type": "code",
   "execution_count": 497,
   "id": "9eaabdbb",
   "metadata": {},
   "outputs": [
    {
     "data": {
      "image/png": "[encoded data removed]",
      "text/plain": [
       "<Figure size 432x288 with 1 Axes>"
      ]
     },
     "metadata": {
      "needs_background": "light"
     },
     "output_type": "display_data"
    }
   ],
   "source": [
    "segundo_delito['size'].plot()\n",
    "plt.show()"
   ]
  },
  {
   "cell_type": "markdown",
   "id": "5f73fd61",
   "metadata": {},
   "source": [
    "### Eliminación de outliers"
   ]
  },
  {
   "cell_type": "markdown",
   "id": "6624e81a",
   "metadata": {},
   "source": [
    "Cuando se construye una caja de bigotes para ver cómo se encuentran distribuidos los datos, los datos atípicos (outliers) se encuentran por debajo de la diferencia del primer cuartil, menos 1.5 el rango intercuartil, o por encima de la suma del cuartil 3 más 1.5 veces el rango intercuartil. Al hacer una caja de bigotes para el primer delito seleccionado:"
   ]
  },
  {
   "cell_type": "code",
   "execution_count": 476,
   "id": "43afa239",
   "metadata": {},
   "outputs": [
    {
     "data": {
      "image/png": "[encoded data removed]",
      "text/plain": [
       "<Figure size 432x288 with 1 Axes>"
      ]
     },
     "metadata": {
      "needs_background": "light"
     },
     "output_type": "display_data"
    }
   ],
   "source": [
    "plt.boxplot(primer_delito['size'])\n",
    "plt.show()"
   ]
  },
  {
   "cell_type": "markdown",
   "id": "ea2e0293",
   "metadata": {},
   "source": [
    "Vemos que los outliers sólo se encuentran hacia arriba, lo que quiere decir es que hay muchos mediciones con ocurrencias bajas, que hacen que el primer cuartil tenga un valor bajo. Observemos los valores del primer cuartil (percentil 25):"
   ]
  },
  {
   "cell_type": "code",
   "execution_count": 489,
   "id": "a362db2a",
   "metadata": {},
   "outputs": [
    {
     "data": {
      "text/html": [
       "<div>\n",
       "<style scoped>\n",
       "    .dataframe tbody tr th:only-of-type {\n",
       "        vertical-align: middle;\n",
       "    }\n",
       "\n",
       "    .dataframe tbody tr th {\n",
       "        vertical-align: top;\n",
       "    }\n",
       "\n",
       "    .dataframe thead th {\n",
       "        text-align: right;\n",
       "    }\n",
       "</style>\n",
       "<table border=\"1\" class=\"dataframe\">\n",
       "  <thead>\n",
       "    <tr style=\"text-align: right;\">\n",
       "      <th></th>\n",
       "      <th>size</th>\n",
       "    </tr>\n",
       "  </thead>\n",
       "  <tbody>\n",
       "    <tr>\n",
       "      <th>count</th>\n",
       "      <td>162.000000</td>\n",
       "    </tr>\n",
       "    <tr>\n",
       "      <th>mean</th>\n",
       "      <td>14.666667</td>\n",
       "    </tr>\n",
       "    <tr>\n",
       "      <th>std</th>\n",
       "      <td>20.980026</td>\n",
       "    </tr>\n",
       "    <tr>\n",
       "      <th>min</th>\n",
       "      <td>1.000000</td>\n",
       "    </tr>\n",
       "    <tr>\n",
       "      <th>25%</th>\n",
       "      <td>1.000000</td>\n",
       "    </tr>\n",
       "    <tr>\n",
       "      <th>50%</th>\n",
       "      <td>3.000000</td>\n",
       "    </tr>\n",
       "    <tr>\n",
       "      <th>75%</th>\n",
       "      <td>15.000000</td>\n",
       "    </tr>\n",
       "    <tr>\n",
       "      <th>max</th>\n",
       "      <td>78.000000</td>\n",
       "    </tr>\n",
       "  </tbody>\n",
       "</table>\n",
       "</div>"
      ],
      "text/plain": [
       "             size\n",
       "count  162.000000\n",
       "mean    14.666667\n",
       "std     20.980026\n",
       "min      1.000000\n",
       "25%      1.000000\n",
       "50%      3.000000\n",
       "75%     15.000000\n",
       "max     78.000000"
      ]
     },
     "execution_count": 489,
     "metadata": {},
     "output_type": "execute_result"
    }
   ],
   "source": [
    "primer_delito.describe()"
   ]
  },
  {
   "cell_type": "code",
   "execution_count": 491,
   "id": "49d119a2",
   "metadata": {},
   "outputs": [
    {
     "data": {
      "text/plain": [
       "2376"
      ]
     },
     "execution_count": 491,
     "metadata": {},
     "output_type": "execute_result"
    }
   ],
   "source": [
    "sum(primer_delito['size'])"
   ]
  },
  {
   "cell_type": "markdown",
   "id": "7c6121e2",
   "metadata": {},
   "source": [
    "Vemos que vale 1, mientras que la mediana (percentil 50) vale 3, por lo que efectivamente hay muchas ocurrencias bajas y por lo tanto ya no se identifican como valores atípicos. También vemos que el rango de ocurrencias (valor máximo - valor mínimo) es de 77, así que para que la distribución de los datos tenga más sentido para ser analizados, descartaremos aquellos datos con ocurrencias tan bajas que provoquen que la media de los datos no se acerque a la media del rango (38 redondeando hacia abajo). Podemos fijar un límite inferior en el que sea válido mantener las ocurrencias, 6 unidades parece suficiente, así que descartaremos las ocurrencias bajas hasta que la media sea de 32 o superior."
   ]
  },
  {
   "cell_type": "markdown",
   "id": "3776cae2",
   "metadata": {},
   "source": [
    "Podemos recurrir a la gráfica de las ocurrencias de este delito para ver cómo se encuentran distribuidos los datos:"
   ]
  },
  {
   "cell_type": "code",
   "execution_count": 488,
   "id": "ae2b85d2",
   "metadata": {},
   "outputs": [
    {
     "data": {
      "text/plain": [
       "38"
      ]
     },
     "execution_count": 488,
     "metadata": {},
     "output_type": "execute_result"
    }
   ],
   "source": [
    "round((max(primer_delito['size'])-min(primer_delito['size']))/2)"
   ]
  },
  {
   "cell_type": "code",
   "execution_count": null,
   "id": "d2ae0f72",
   "metadata": {},
   "outputs": [],
   "source": [
    "media = np.mean(primer_delito['size'])\n",
    "while media < round((max(primer_delito['size'])-min(primer_delito['size']))/2):"
   ]
  },
  {
   "cell_type": "code",
   "execution_count": 455,
   "id": "3e2d202a",
   "metadata": {},
   "outputs": [
    {
     "data": {
      "text/html": [
       "<div>\n",
       "<style scoped>\n",
       "    .dataframe tbody tr th:only-of-type {\n",
       "        vertical-align: middle;\n",
       "    }\n",
       "\n",
       "    .dataframe tbody tr th {\n",
       "        vertical-align: top;\n",
       "    }\n",
       "\n",
       "    .dataframe thead th {\n",
       "        text-align: right;\n",
       "    }\n",
       "</style>\n",
       "<table border=\"1\" class=\"dataframe\">\n",
       "  <thead>\n",
       "    <tr style=\"text-align: right;\">\n",
       "      <th></th>\n",
       "      <th>delito</th>\n",
       "      <th>ao_hechos</th>\n",
       "      <th>mes_hechos</th>\n",
       "      <th>size</th>\n",
       "    </tr>\n",
       "  </thead>\n",
       "  <tbody>\n",
       "    <tr>\n",
       "      <th>2004-03-01</th>\n",
       "      <td>ABANDONO DE PERSONA</td>\n",
       "      <td>2004</td>\n",
       "      <td>03</td>\n",
       "      <td>2</td>\n",
       "    </tr>\n",
       "    <tr>\n",
       "      <th>2004-11-01</th>\n",
       "      <td>ABANDONO DE PERSONA</td>\n",
       "      <td>2004</td>\n",
       "      <td>11</td>\n",
       "      <td>3</td>\n",
       "    </tr>\n",
       "    <tr>\n",
       "      <th>2005-03-01</th>\n",
       "      <td>ABANDONO DE PERSONA</td>\n",
       "      <td>2005</td>\n",
       "      <td>03</td>\n",
       "      <td>2</td>\n",
       "    </tr>\n",
       "    <tr>\n",
       "      <th>2007-08-01</th>\n",
       "      <td>ABANDONO DE PERSONA</td>\n",
       "      <td>2007</td>\n",
       "      <td>08</td>\n",
       "      <td>4</td>\n",
       "    </tr>\n",
       "    <tr>\n",
       "      <th>2007-01-01</th>\n",
       "      <td>ABANDONO DE PERSONA</td>\n",
       "      <td>2007</td>\n",
       "      <td>01</td>\n",
       "      <td>2</td>\n",
       "    </tr>\n",
       "    <tr>\n",
       "      <th>...</th>\n",
       "      <td>...</td>\n",
       "      <td>...</td>\n",
       "      <td>...</td>\n",
       "      <td>...</td>\n",
       "    </tr>\n",
       "    <tr>\n",
       "      <th>2018-03-01</th>\n",
       "      <td>ABANDONO DE PERSONA</td>\n",
       "      <td>2018</td>\n",
       "      <td>03</td>\n",
       "      <td>48</td>\n",
       "    </tr>\n",
       "    <tr>\n",
       "      <th>2018-05-01</th>\n",
       "      <td>ABANDONO DE PERSONA</td>\n",
       "      <td>2018</td>\n",
       "      <td>05</td>\n",
       "      <td>61</td>\n",
       "    </tr>\n",
       "    <tr>\n",
       "      <th>2018-11-01</th>\n",
       "      <td>ABANDONO DE PERSONA</td>\n",
       "      <td>2018</td>\n",
       "      <td>11</td>\n",
       "      <td>50</td>\n",
       "    </tr>\n",
       "    <tr>\n",
       "      <th>2018-10-01</th>\n",
       "      <td>ABANDONO DE PERSONA</td>\n",
       "      <td>2018</td>\n",
       "      <td>10</td>\n",
       "      <td>53</td>\n",
       "    </tr>\n",
       "    <tr>\n",
       "      <th>2018-09-01</th>\n",
       "      <td>ABANDONO DE PERSONA</td>\n",
       "      <td>2018</td>\n",
       "      <td>09</td>\n",
       "      <td>50</td>\n",
       "    </tr>\n",
       "  </tbody>\n",
       "</table>\n",
       "<p>115 rows × 4 columns</p>\n",
       "</div>"
      ],
      "text/plain": [
       "                         delito ao_hechos mes_hechos  size\n",
       "2004-03-01  ABANDONO DE PERSONA      2004         03     2\n",
       "2004-11-01  ABANDONO DE PERSONA      2004         11     3\n",
       "2005-03-01  ABANDONO DE PERSONA      2005         03     2\n",
       "2007-08-01  ABANDONO DE PERSONA      2007         08     4\n",
       "2007-01-01  ABANDONO DE PERSONA      2007         01     2\n",
       "...                         ...       ...        ...   ...\n",
       "2018-03-01  ABANDONO DE PERSONA      2018         03    48\n",
       "2018-05-01  ABANDONO DE PERSONA      2018         05    61\n",
       "2018-11-01  ABANDONO DE PERSONA      2018         11    50\n",
       "2018-10-01  ABANDONO DE PERSONA      2018         10    53\n",
       "2018-09-01  ABANDONO DE PERSONA      2018         09    50\n",
       "\n",
       "[115 rows x 4 columns]"
      ]
     },
     "execution_count": 455,
     "metadata": {},
     "output_type": "execute_result"
    }
   ],
   "source": [
    "primer_delito[primer_delito['size'].apply(lambda x: x > 1)]"
   ]
  },
  {
   "cell_type": "code",
   "execution_count": 464,
   "id": "065569a1",
   "metadata": {},
   "outputs": [],
   "source": [
    "primer_delito_filtrado = primer_delito[primer_delito['size'].apply(lambda x: x > 4)]"
   ]
  },
  {
   "cell_type": "code",
   "execution_count": 490,
   "id": "4823f3cf",
   "metadata": {},
   "outputs": [
    {
     "data": {
      "image/png": "[encoded data removed]",
      "text/plain": [
       "<Figure size 432x288 with 1 Axes>"
      ]
     },
     "metadata": {
      "needs_background": "light"
     },
     "output_type": "display_data"
    }
   ],
   "source": [
    "primer_delito['size'].plot()\n",
    "plt.xlabel('Fecha')\n",
    "plt.ylabel('Frecuencia')\n",
    "plt.title(delitos[0])\n",
    "plt.show()"
   ]
  },
  {
   "cell_type": "markdown",
   "id": "2969ceb5",
   "metadata": {},
   "source": [
    "Vemos que justo hay muchas mediciones con rangos bajos que se ven casi como una constante a lo largo del eje horizontal, esto afectará al momento de analizar el comportamiento de las ocurrencias del delito."
   ]
  },
  {
   "cell_type": "markdown",
   "id": "d9ac86fc",
   "metadata": {},
   "source": [
    "Hice una gráfica de la frecuencia para el primer delito, para confirmar que todo, está bien. **Nota**: más adelante si es necesario, quitaré esta gráfica."
   ]
  },
  {
   "cell_type": "code",
   "execution_count": 502,
   "id": "b00dc6bd",
   "metadata": {},
   "outputs": [
    {
     "data": {
      "image/png": "[encoded data removed]",
      "text/plain": [
       "<Figure size 720x432 with 1 Axes>"
      ]
     },
     "metadata": {
      "needs_background": "light"
     },
     "output_type": "display_data"
    }
   ],
   "source": [
    "import matplotlib.dates as mdates\n",
    "from matplotlib.dates import DateFormatter\n",
    "fig, ax = plt.subplots(figsize=(10, 6))\n",
    "ax.scatter(primer_delito.index,\n",
    "        primer_delito['size'],\n",
    "        color='purple')\n",
    "ax.set(xlabel=\"Fecha\", ylabel=\"Frecuencia\",\n",
    "       title=delitos[0])\n",
    "\n",
    "# Formato para el eje x\n",
    "#ax.xaxis.set_major_locator(mdates.MonthLocator(interval=12))\n",
    "ax.xaxis.set_major_formatter(DateFormatter(\"%m-%Y\"))\n",
    "fig.autofmt_xdate(rotation=45)\n",
    "\n",
    "plt.show()"
   ]
  },
  {
   "cell_type": "code",
   "execution_count": 503,
   "id": "3b14a6b2",
   "metadata": {},
   "outputs": [],
   "source": [
    "import statsmodels.formula.api as smf"
   ]
  },
  {
   "cell_type": "code",
   "execution_count": null,
   "id": "eb298ada",
   "metadata": {},
   "outputs": [],
   "source": [
    "y = primer_delito['size']\n",
    "x = \n",
    "model = smf.ols(' ~ TV', data=advert)\n",
    "model = model.fit()"
   ]
  },
  {
   "cell_type": "code",
   "execution_count": null,
   "id": "58cae060",
   "metadata": {},
   "outputs": [],
   "source": [
    "pip install financialanalysis"
   ]
  },
  {
   "cell_type": "code",
   "execution_count": 506,
   "id": "b9fd2085",
   "metadata": {},
   "outputs": [],
   "source": [
    "from sklearn.linear_model import LinearRegression"
   ]
  },
  {
   "cell_type": "code",
   "execution_count": 543,
   "id": "a973f9f8",
   "metadata": {},
   "outputs": [],
   "source": [
    "X = np.arange(len(primer_delito.index)).reshape((-1,1))  # features\n",
    "y = primer_delito['size']  # target\n",
    "\n",
    "# Train the model\n",
    "model = LinearRegression()\n",
    "model.fit(X, y)\n",
    "\n",
    "# Store the fitted values as a time series with the same time index as\n",
    "# the training data\n",
    "y_pred = pd.Series(model.predict(X), index=primer_delito.index)"
   ]
  },
  {
   "cell_type": "code",
   "execution_count": 544,
   "id": "1a83e6d0",
   "metadata": {},
   "outputs": [
    {
     "data": {
      "image/png": "[encoded data removed]",
      "text/plain": [
       "<Figure size 432x288 with 1 Axes>"
      ]
     },
     "metadata": {
      "needs_background": "light"
     },
     "output_type": "display_data"
    }
   ],
   "source": [
    "plt.plot(y_pred)\n",
    "plt.scatter(primer_delito.index,primer_delito['size'], color = 'red', s = 3)\n",
    "plt.show()"
   ]
  },
  {
   "cell_type": "markdown",
   "id": "88988b11",
   "metadata": {},
   "source": [
    "Abajo dejé algunos datos extras por si los necesito a futuro:"
   ]
  },
  {
   "cell_type": "code",
   "execution_count": 110,
   "id": "98df4125",
   "metadata": {},
   "outputs": [],
   "source": [
    "# arreglo con los años de los hechos que aparecen en la base de datos, sin repetir\n",
    "año_hechos = datos['ao_hechos'].unique()"
   ]
  },
  {
   "cell_type": "code",
   "execution_count": 111,
   "id": "5a44fa20",
   "metadata": {},
   "outputs": [
    {
     "data": {
      "text/plain": [
       "array(['2016', '2015', '2012', '2014', '2011', '2008', '2006', '2010',\n",
       "       '2013', '2005', '2009', '1955', '2004', '2002', '1998', '1997',\n",
       "       '1965', '2007', '2000', '1987', '1999', '1956', '2001', '1996',\n",
       "       '1986', '1915', '1988', '2017', '2003', '1991', '1993', '1977',\n",
       "       '1984', '1995', '1994', '1990', '1992', '1978', '1989', '1972',\n",
       "       '2018', '2019', '1974', '1970', '1980', '1976', '1983', '1985',\n",
       "       '1966', '1969', '1981', '1960', '1982', '1975', '1954', '1973',\n",
       "       '1964', '1968', '1963', '1971', '1958', '1942', '1930', '1979',\n",
       "       '1906', '1962', '1957', '2020', '1950', '1952', '2021', '1967',\n",
       "       '1961', '1917', '2022'], dtype=object)"
      ]
     },
     "execution_count": 111,
     "metadata": {},
     "output_type": "execute_result"
    }
   ],
   "source": [
    "año_hechos"
   ]
  },
  {
   "cell_type": "code",
   "execution_count": 57,
   "id": "c4dadfe3",
   "metadata": {},
   "outputs": [],
   "source": [
    "# arreglo con los años de inicio que aparecen en la base de datos, sin repetir\n",
    "año_inicio = datos['ao_inicio'].unique()"
   ]
  },
  {
   "cell_type": "code",
   "execution_count": 58,
   "id": "e8a0be23",
   "metadata": {},
   "outputs": [
    {
     "data": {
      "text/plain": [
       "array(['2016', '2017', '2018', '2019', '2020', '2021', '2022'],\n",
       "      dtype=object)"
      ]
     },
     "execution_count": 58,
     "metadata": {},
     "output_type": "execute_result"
    }
   ],
   "source": [
    "año_inicio"
   ]
  },
  {
   "cell_type": "code",
   "execution_count": null,
   "id": "d37d2281",
   "metadata": {},
   "outputs": [],
   "source": []
  }
 ],
 "metadata": {
  "kernelspec": {
   "display_name": "Python 3 (ipykernel)",
   "language": "python",
   "name": "python3"
  },
  "language_info": {
   "codemirror_mode": {
    "name": "ipython",
    "version": 3
   },
   "file_extension": ".py",
   "mimetype": "text/x-python",
   "name": "python",
   "nbconvert_exporter": "python",
   "pygments_lexer": "ipython3",
   "version": "3.8.12"
  }
 },
 "nbformat": 4,
 "nbformat_minor": 5
}
