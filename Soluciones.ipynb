{
 "cells": [
  {
   "cell_type": "markdown",
   "id": "d02c656d",
   "metadata": {},
   "source": [
    "# Soluciones al examen de OPI "
   ]
  },
  {
   "cell_type": "code",
   "execution_count": 86,
   "id": "37b7f8a0",
   "metadata": {},
   "outputs": [],
   "source": [
    "# paquetes necesarios para este examen\n",
    "import pandas as pd\n",
    "from datetime import datetime # para que Python reconozca las fechas\n",
    "import numpy as np\n",
    "import math\n",
    "import matplotlib.pyplot as plt"
   ]
  },
  {
   "cell_type": "code",
   "execution_count": 346,
   "id": "3e266864",
   "metadata": {},
   "outputs": [],
   "source": [
    "# Función que se necesitará más adelante para agregar formato a la fec\n",
    "def cambio_mes(mes):\n",
    "    reemplazo = (\n",
    "            ('Enero', '01'),\n",
    "            ('Febrero', '02'),\n",
    "            ('Marzo', '03'),\n",
    "            ('Abril', '04'),\n",
    "            ('Mayo', '05'),\n",
    "            ('Junio','06'),\n",
    "            ('Julio','07'),\n",
    "            ('Agosto','08'),\n",
    "            ('Septiembre','09'),\n",
    "            ('Octubre', '10'),\n",
    "            ('Noviembre','11'),\n",
    "            ('Diciembre', '12')\n",
    "        )\n",
    "    for a, b in reemplazo:\n",
    "        mes = mes.replace(a, b)\n",
    "    return mes\n",
    "cambio_mes.__doc__ = \"Cambia el mes a su correspondiente valor numerico\""
   ]
  },
  {
   "cell_type": "markdown",
   "id": "f5a94745",
   "metadata": {},
   "source": [
    "1. Los datos son de calidad cuando sirven para una finalidad prevista, basados en las siguientes características:\n",
    "* No debe haber huecos, ni variables repetidas.\n",
    "* La información debe ser relevante para cumplir los objetivos, por ejemplo, si estoy haciendo un análisis sobre los delitos en la ciudad de México, no me sirve tener información sobre el peso de los habitantes de la ciudad.\n",
    "* Confiabilidad: hay que asegurarse que los datos no sean ambiguos, vagos o que contengan información contradictoria, por ejemplo, si tengo información sobre los delitos de una alcaldía en dos columnas y cada una con información diferente.\n",
    "* Los datos tienen que ser colectados en el tiempo correcto, hay que asegurarse que no sean obsoletos, tomando de nuevo el análisis de los delitos de la CDMX, no tendría sentido que sólo tenga información de hace 30 años."
   ]
  },
  {
   "cell_type": "markdown",
   "id": "d74f1da2",
   "metadata": {},
   "source": [
    "2. Datos a la alza y a la baja."
   ]
  },
  {
   "cell_type": "code",
   "execution_count": 25,
   "id": "fb37dba4",
   "metadata": {},
   "outputs": [],
   "source": [
    "# importamos la base de datos\n",
    "# encoding='utf-8' es para que al importarse la base de datos, reconozca caracteres \n",
    "# como la ñ.\n",
    "# dtype='unicode' es para evitar un warning por low_memory ya que python estaba \n",
    "# adivinando el tipo de objeto (dtype) de cada columna\n",
    "\n",
    "datos = pd.read_csv('/home/lorena/Escritorio/OPI/carpetas_completa_febrero_2022.csv', encoding='utf-8', dtype='unicode')"
   ]
  },
  {
   "cell_type": "markdown",
   "id": "25bf6c13",
   "metadata": {},
   "source": [
    "Para que las columnas fecha_hechos y fecha_inicia tal cual sean reconocidas como fechas, se utiliza la función de pandas **to_datetime**."
   ]
  },
  {
   "cell_type": "code",
   "execution_count": 30,
   "id": "27f607f0",
   "metadata": {},
   "outputs": [],
   "source": [
    "datos['fecha_hechos'] = pd.to_datetime(datos['fecha_hechos'], format = \"%Y %m %d %H:%M:%S\")\n",
    "datos['fecha_inicio'] = pd.to_datetime(datos['fecha_inicio'], format = \"%Y %m %d %H:%M:%S\")"
   ]
  },
  {
   "cell_type": "code",
   "execution_count": 241,
   "id": "ab97a9d7",
   "metadata": {},
   "outputs": [],
   "source": [
    "datos.set_index(datos['mes_hechos']+'/'+datos['ao_hechos'], inplace = True)"
   ]
  },
  {
   "cell_type": "code",
   "execution_count": 28,
   "id": "7853d869",
   "metadata": {},
   "outputs": [
    {
     "data": {
      "text/plain": [
       "Index(['ao_hechos', 'mes_hechos', 'fecha_hechos', 'ao_inicio', 'mes_inicio',\n",
       "       'fecha_inicio', 'delito', 'fiscalia', 'agencia', 'unidad_investigacion',\n",
       "       'categoria_delito', 'calle_hechos', 'calle_hechos2', 'colonia_hechos',\n",
       "       'alcaldia_hechos', 'competencia', 'longitud', 'latitud', 'tempo'],\n",
       "      dtype='object')"
      ]
     },
     "execution_count": 28,
     "metadata": {},
     "output_type": "execute_result"
    }
   ],
   "source": [
    "datos.columns"
   ]
  },
  {
   "cell_type": "markdown",
   "id": "efb96d11",
   "metadata": {},
   "source": [
    "A continuación, descarto a aquellas filas en las que el año de los hechos sea igual a **nan**:"
   ]
  },
  {
   "cell_type": "code",
   "execution_count": 108,
   "id": "130209e5",
   "metadata": {},
   "outputs": [],
   "source": [
    "datos = datos[np.logical_not(pd.isnull(datos['ao_hechos']))]"
   ]
  },
  {
   "cell_type": "markdown",
   "id": "04d0044b",
   "metadata": {},
   "source": [
    "Agrupando la base de datos primero por delito, después por año de los hechos y por último por mes de los hechos. Una vez organizada la base, se cuenta las veces que se repite cada delito de acuerdo al mes y al año. Al resultado le asigné la variable **delitos_fr**, ya que obtenemos la frecuencia de los delitos."
   ]
  },
  {
   "cell_type": "code",
   "execution_count": 384,
   "id": "511234a5",
   "metadata": {},
   "outputs": [],
   "source": [
    "delitos_fr = datos.groupby(['delito','ao_hechos','mes_hechos'], as_index=False, group_keys=True).size()"
   ]
  },
  {
   "cell_type": "markdown",
   "id": "a0b954e5",
   "metadata": {},
   "source": [
    "En **delitos_fr** aplicamos la función **cambio_mes** para que fila a fila se cambie el formato del mes a numérico:"
   ]
  },
  {
   "cell_type": "code",
   "execution_count": 385,
   "id": "e5d5ca52",
   "metadata": {},
   "outputs": [],
   "source": [
    "delitos_fr['mes_hechos'] = delitos_fr['mes_hechos'].apply(cambio_mes)"
   ]
  },
  {
   "cell_type": "markdown",
   "id": "678accb9",
   "metadata": {},
   "source": [
    "Para que sea más sencillos seleccionar la frecuencia de acuerdo al delito, hice una lista con el nombre de estos:"
   ]
  },
  {
   "cell_type": "code",
   "execution_count": 389,
   "id": "90a2a89a",
   "metadata": {},
   "outputs": [],
   "source": [
    "delitos = delitos_fr['delito'].unique()"
   ]
  },
  {
   "cell_type": "markdown",
   "id": "4920ac6b",
   "metadata": {},
   "source": [
    "## Prueba con un sólo delito"
   ]
  },
  {
   "cell_type": "markdown",
   "id": "55f4a195",
   "metadata": {},
   "source": [
    "Antes de manipular los datos delito a delito, comencé con el primero del arreglo **delitos**. Así que primero seleccioné de **delitos_fr** el subgrupo del primer delito."
   ]
  },
  {
   "cell_type": "code",
   "execution_count": 390,
   "id": "ac26bf96",
   "metadata": {},
   "outputs": [],
   "source": [
    "primer_delito = delitos_fr[delitos_fr['delito'] == delitos[0]]"
   ]
  },
  {
   "cell_type": "markdown",
   "id": "ba109674",
   "metadata": {},
   "source": [
    "Después definí los índices para **delitos_fr**, siendo la fecha."
   ]
  },
  {
   "cell_type": "code",
   "execution_count": 392,
   "id": "e07903ef",
   "metadata": {},
   "outputs": [],
   "source": [
    "primer_delito.set_index(pd.to_datetime(primer_delito['mes_hechos']+'/'+primer_delito['ao_hechos'], format = '%m/%Y'), inplace = True)"
   ]
  },
  {
   "cell_type": "markdown",
   "id": "156fdcbc",
   "metadata": {},
   "source": [
    "Hice una gráfica de la frecuencia para el primer delito, para confirmar que todo, está bien. **Nota**: más adelante si es necesario, quitaré esta gráfica."
   ]
  },
  {
   "cell_type": "code",
   "execution_count": 393,
   "id": "d14cf6e3",
   "metadata": {},
   "outputs": [
    {
     "data": {
      "image/png": "[encoded data removed]",
      "text/plain": [
       "<Figure size 864x576 with 1 Axes>"
      ]
     },
     "metadata": {
      "needs_background": "light"
     },
     "output_type": "display_data"
    }
   ],
   "source": [
    "import matplotlib.dates as mdates\n",
    "from matplotlib.dates import DateFormatter\n",
    "fig, ax = plt.subplots(figsize=(12, 8))\n",
    "ax.plot(prueba9.index,\n",
    "        prueba10['size'],\n",
    "        color='purple')\n",
    "ax.set(xlabel=\"Fecha\", ylabel=\"Frecuencia\",\n",
    "       title=delitos[0])\n",
    "\n",
    "# Formato para el eje x\n",
    "#ax.xaxis.set_major_locator(mdates.MonthLocator(interval=12))\n",
    "ax.xaxis.set_major_formatter(DateFormatter(\"%m-%Y\"))\n",
    "fig.autofmt_xdate(rotation=45)\n",
    "\n",
    "plt.show()"
   ]
  },
  {
   "cell_type": "markdown",
   "id": "53fd50c7",
   "metadata": {},
   "source": [
    "Abajo dejé algunos datos extras por si los necesito a futuro:"
   ]
  },
  {
   "cell_type": "code",
   "execution_count": 110,
   "id": "02cdd6aa",
   "metadata": {},
   "outputs": [],
   "source": [
    "# arreglo con los años de los hechos que aparecen en la base de datos, sin repetir\n",
    "año_hechos = datos['ao_hechos'].unique()"
   ]
  },
  {
   "cell_type": "code",
   "execution_count": 111,
   "id": "b253de20",
   "metadata": {},
   "outputs": [
    {
     "data": {
      "text/plain": [
       "array(['2016', '2015', '2012', '2014', '2011', '2008', '2006', '2010',\n",
       "       '2013', '2005', '2009', '1955', '2004', '2002', '1998', '1997',\n",
       "       '1965', '2007', '2000', '1987', '1999', '1956', '2001', '1996',\n",
       "       '1986', '1915', '1988', '2017', '2003', '1991', '1993', '1977',\n",
       "       '1984', '1995', '1994', '1990', '1992', '1978', '1989', '1972',\n",
       "       '2018', '2019', '1974', '1970', '1980', '1976', '1983', '1985',\n",
       "       '1966', '1969', '1981', '1960', '1982', '1975', '1954', '1973',\n",
       "       '1964', '1968', '1963', '1971', '1958', '1942', '1930', '1979',\n",
       "       '1906', '1962', '1957', '2020', '1950', '1952', '2021', '1967',\n",
       "       '1961', '1917', '2022'], dtype=object)"
      ]
     },
     "execution_count": 111,
     "metadata": {},
     "output_type": "execute_result"
    }
   ],
   "source": [
    "año_hechos"
   ]
  },
  {
   "cell_type": "code",
   "execution_count": 57,
   "id": "7d5b87fb",
   "metadata": {},
   "outputs": [],
   "source": [
    "# arreglo con los años de inicio que aparecen en la base de datos, sin repetir\n",
    "año_inicio = datos['ao_inicio'].unique()"
   ]
  },
  {
   "cell_type": "code",
   "execution_count": 58,
   "id": "bd59ee1e",
   "metadata": {},
   "outputs": [
    {
     "data": {
      "text/plain": [
       "array(['2016', '2017', '2018', '2019', '2020', '2021', '2022'],\n",
       "      dtype=object)"
      ]
     },
     "execution_count": 58,
     "metadata": {},
     "output_type": "execute_result"
    }
   ],
   "source": [
    "año_inicio"
   ]
  },
  {
   "cell_type": "code",
   "execution_count": null,
   "id": "75c8e637",
   "metadata": {},
   "outputs": [],
   "source": []
  }
 ],
 "metadata": {
  "kernelspec": {
   "display_name": "Python 3 (ipykernel)",
   "language": "python",
   "name": "python3"
  },
  "language_info": {
   "codemirror_mode": {
    "name": "ipython",
    "version": 3
   },
   "file_extension": ".py",
   "mimetype": "text/x-python",
   "name": "python",
   "nbconvert_exporter": "python",
   "pygments_lexer": "ipython3",
   "version": "3.8.12"
  }
 },
 "nbformat": 4,
 "nbformat_minor": 5
}
