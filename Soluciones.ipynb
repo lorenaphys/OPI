{
 "cells": [
  {
   "cell_type": "markdown",
   "id": "2aa5e614",
   "metadata": {},
   "source": [
    "# Soluciones al examen de OPI "
   ]
  },
  {
   "cell_type": "code",
   "execution_count": 86,
   "id": "7653999c",
   "metadata": {},
   "outputs": [],
   "source": [
    "# paquetes necesarios para este examen\n",
    "import pandas as pd\n",
    "from datetime import datetime # para que Python reconozca las fechas\n",
    "import numpy as np\n",
    "import math\n",
    "import matplotlib.pyplot as plt"
   ]
  },
  {
   "cell_type": "markdown",
   "id": "f168bf80",
   "metadata": {},
   "source": [
    "1. Los datos son de calidad cuando sirven para una finalidad prevista, basados en las siguientes características:\n",
    "* No debe haber huecos, ni variables repetidas.\n",
    "* La información debe ser relevante para cumplir los objetivos, por ejemplo, si estoy haciendo un análisis sobre los delitos en la ciudad de México, no me sirve tener información sobre el peso de los habitantes de la ciudad.\n",
    "* Confiabilidad: hay que asegurarse que los datos no sean ambiguos, vagos o que contengan información contradictoria, por ejemplo, si tengo información sobre los delitos de una alcaldía en dos columnas y cada una con información diferente.\n",
    "* Los datos tienen que ser colectados en el tiempo correcto, hay que asegurarse que no sean obsoletos, tomando de nuevo el análisis de los delitos de la CDMX, no tendría sentido que sólo tenga información de hace 30 años."
   ]
  },
  {
   "cell_type": "markdown",
   "id": "370e2de3",
   "metadata": {},
   "source": [
    "2. Datos a la alza y a la baja."
   ]
  },
  {
   "cell_type": "code",
   "execution_count": 25,
   "id": "e6b2c40f",
   "metadata": {},
   "outputs": [],
   "source": [
    "# importamos la base de datos\n",
    "# encoding='utf-8' es para que al importarse la base de datos, reconozca caracteres \n",
    "# como la ñ.\n",
    "# dtype='unicode' es para evitar un warning por low_memory ya que python estaba \n",
    "# adivinando el tipo de objeto (dtype) de cada columna\n",
    "\n",
    "datos = pd.read_csv('/home/lorena/Escritorio/OPI/carpetas_completa_febrero_2022.csv', encoding='utf-8', dtype='unicode')"
   ]
  },
  {
   "cell_type": "markdown",
   "id": "5613a776",
   "metadata": {},
   "source": [
    "Para que las columnas fecha_hechos y fecha_inicia tal cual sean reconocidas como fechas, se utiliza la función de pandas **to_datetime**."
   ]
  },
  {
   "cell_type": "code",
   "execution_count": 30,
   "id": "90644c8e",
   "metadata": {},
   "outputs": [],
   "source": [
    "datos['fecha_hechos'] = pd.to_datetime(datos['fecha_hechos'], format = \"%Y %m %d %H:%M:%S\")\n",
    "datos['fecha_inicio'] = pd.to_datetime(datos['fecha_inicio'], format = \"%Y %m %d %H:%M:%S\")"
   ]
  },
  {
   "cell_type": "code",
   "execution_count": 28,
   "id": "551e6003",
   "metadata": {},
   "outputs": [
    {
     "data": {
      "text/plain": [
       "Index(['ao_hechos', 'mes_hechos', 'fecha_hechos', 'ao_inicio', 'mes_inicio',\n",
       "       'fecha_inicio', 'delito', 'fiscalia', 'agencia', 'unidad_investigacion',\n",
       "       'categoria_delito', 'calle_hechos', 'calle_hechos2', 'colonia_hechos',\n",
       "       'alcaldia_hechos', 'competencia', 'longitud', 'latitud', 'tempo'],\n",
       "      dtype='object')"
      ]
     },
     "execution_count": 28,
     "metadata": {},
     "output_type": "execute_result"
    }
   ],
   "source": [
    "datos.columns"
   ]
  },
  {
   "cell_type": "markdown",
   "id": "8d010fbc",
   "metadata": {},
   "source": [
    "A continuación, descarto a aquellas filas en las que el año de los hechos sea igual a **nan**:"
   ]
  },
  {
   "cell_type": "code",
   "execution_count": 108,
   "id": "ed0fd8a2",
   "metadata": {},
   "outputs": [],
   "source": [
    "datos = datos[np.logical_not(pd.isnull(datos['ao_hechos']))]"
   ]
  },
  {
   "cell_type": "code",
   "execution_count": 112,
   "id": "5aa60717",
   "metadata": {},
   "outputs": [],
   "source": [
    "# arreglo con los nombres de los delitos que aparecen en la base de datos, sin repetir\n",
    "delitos = datos['delito'].unique()"
   ]
  },
  {
   "cell_type": "code",
   "execution_count": 113,
   "id": "809176fb",
   "metadata": {},
   "outputs": [
    {
     "data": {
      "text/plain": [
       "347"
      ]
     },
     "execution_count": 113,
     "metadata": {},
     "output_type": "execute_result"
    }
   ],
   "source": [
    "len(delitos)"
   ]
  },
  {
   "cell_type": "code",
   "execution_count": 110,
   "id": "97a51d0c",
   "metadata": {},
   "outputs": [],
   "source": [
    "# arreglo con los años de los hechos que aparecen en la base de datos, sin repetir\n",
    "año_hechos = datos['ao_hechos'].unique()"
   ]
  },
  {
   "cell_type": "code",
   "execution_count": 111,
   "id": "5261d989",
   "metadata": {},
   "outputs": [
    {
     "data": {
      "text/plain": [
       "array(['2016', '2015', '2012', '2014', '2011', '2008', '2006', '2010',\n",
       "       '2013', '2005', '2009', '1955', '2004', '2002', '1998', '1997',\n",
       "       '1965', '2007', '2000', '1987', '1999', '1956', '2001', '1996',\n",
       "       '1986', '1915', '1988', '2017', '2003', '1991', '1993', '1977',\n",
       "       '1984', '1995', '1994', '1990', '1992', '1978', '1989', '1972',\n",
       "       '2018', '2019', '1974', '1970', '1980', '1976', '1983', '1985',\n",
       "       '1966', '1969', '1981', '1960', '1982', '1975', '1954', '1973',\n",
       "       '1964', '1968', '1963', '1971', '1958', '1942', '1930', '1979',\n",
       "       '1906', '1962', '1957', '2020', '1950', '1952', '2021', '1967',\n",
       "       '1961', '1917', '2022'], dtype=object)"
      ]
     },
     "execution_count": 111,
     "metadata": {},
     "output_type": "execute_result"
    }
   ],
   "source": [
    "año_hechos"
   ]
  },
  {
   "cell_type": "code",
   "execution_count": 57,
   "id": "516efdfd",
   "metadata": {},
   "outputs": [],
   "source": [
    "# arreglo con los años de inicio que aparecen en la base de datos, sin repetir\n",
    "año_inicio = datos['ao_inicio'].unique()"
   ]
  },
  {
   "cell_type": "code",
   "execution_count": 58,
   "id": "a9083c9a",
   "metadata": {},
   "outputs": [
    {
     "data": {
      "text/plain": [
       "array(['2016', '2017', '2018', '2019', '2020', '2021', '2022'],\n",
       "      dtype=object)"
      ]
     },
     "execution_count": 58,
     "metadata": {},
     "output_type": "execute_result"
    }
   ],
   "source": [
    "año_inicio"
   ]
  },
  {
   "cell_type": "code",
   "execution_count": 59,
   "id": "a25acd90",
   "metadata": {},
   "outputs": [
    {
     "name": "stdout",
     "output_type": "stream",
     "text": [
      "2016\n",
      "2017\n",
      "2018\n",
      "2019\n",
      "2020\n",
      "2021\n",
      "2022\n"
     ]
    }
   ],
   "source": [
    "datos['ao_inicio'] "
   ]
  },
  {
   "cell_type": "code",
   "execution_count": 60,
   "id": "f705394d",
   "metadata": {},
   "outputs": [
    {
     "data": {
      "text/plain": [
       "'DAÑO EN PROPIEDAD AJENA INTENCIONAL'"
      ]
     },
     "execution_count": 60,
     "metadata": {},
     "output_type": "execute_result"
    }
   ],
   "source": [
    "# primer delito de la lista\n",
    "delitos[0]"
   ]
  },
  {
   "cell_type": "code",
   "execution_count": 114,
   "id": "8fde6fc9",
   "metadata": {},
   "outputs": [],
   "source": [
    "# selección de la base de datos del primer delito de la lista\n",
    "primer_delito = datos[datos['delito'] == delitos[0]]"
   ]
  },
  {
   "cell_type": "code",
   "execution_count": 115,
   "id": "29c37fb7",
   "metadata": {},
   "outputs": [
    {
     "data": {
      "text/plain": [
       "(15005, 19)"
      ]
     },
     "execution_count": 115,
     "metadata": {},
     "output_type": "execute_result"
    }
   ],
   "source": [
    "primer_delito.shape"
   ]
  },
  {
   "cell_type": "code",
   "execution_count": 118,
   "id": "7416d3e1",
   "metadata": {},
   "outputs": [],
   "source": [
    "# Agrupación de la sub base anterior de acuerdo al año de los hechos\n",
    "# Después de la agrupación, se contó el número de repeticiones del delito por cada año\n",
    "cuenta_primer_delito = primer_delito.groupby('ao_hechos').size()"
   ]
  },
  {
   "cell_type": "code",
   "execution_count": 119,
   "id": "96db40fb",
   "metadata": {},
   "outputs": [
    {
     "data": {
      "text/plain": [
       "ao_hechos\n",
       "1972       1\n",
       "1986       1\n",
       "1989       1\n",
       "1996       1\n",
       "2001       2\n",
       "2005       1\n",
       "2006       5\n",
       "2007       1\n",
       "2008       3\n",
       "2010       3\n",
       "2011       3\n",
       "2012       4\n",
       "2013       9\n",
       "2014      22\n",
       "2015     122\n",
       "2016    2147\n",
       "2017    2916\n",
       "2018    2821\n",
       "2019    2401\n",
       "2020    2037\n",
       "2021    2201\n",
       "dtype: int64"
      ]
     },
     "execution_count": 119,
     "metadata": {},
     "output_type": "execute_result"
    }
   ],
   "source": [
    "# Se descartó el año 2022 para que no afecte en la medida del alza\n",
    "cuenta_primer_delito[:-1]"
   ]
  },
  {
   "cell_type": "code",
   "execution_count": 116,
   "id": "a65f02a6",
   "metadata": {},
   "outputs": [
    {
     "data": {
      "text/html": [
       "<div>\n",
       "<style scoped>\n",
       "    .dataframe tbody tr th:only-of-type {\n",
       "        vertical-align: middle;\n",
       "    }\n",
       "\n",
       "    .dataframe tbody tr th {\n",
       "        vertical-align: top;\n",
       "    }\n",
       "\n",
       "    .dataframe thead th {\n",
       "        text-align: right;\n",
       "    }\n",
       "</style>\n",
       "<table border=\"1\" class=\"dataframe\">\n",
       "  <thead>\n",
       "    <tr style=\"text-align: right;\">\n",
       "      <th></th>\n",
       "      <th>ao_hechos</th>\n",
       "      <th>mes_hechos</th>\n",
       "      <th>fecha_hechos</th>\n",
       "      <th>ao_inicio</th>\n",
       "      <th>mes_inicio</th>\n",
       "      <th>fecha_inicio</th>\n",
       "      <th>delito</th>\n",
       "      <th>fiscalia</th>\n",
       "      <th>agencia</th>\n",
       "      <th>unidad_investigacion</th>\n",
       "      <th>categoria_delito</th>\n",
       "      <th>calle_hechos</th>\n",
       "      <th>calle_hechos2</th>\n",
       "      <th>colonia_hechos</th>\n",
       "      <th>alcaldia_hechos</th>\n",
       "      <th>competencia</th>\n",
       "      <th>longitud</th>\n",
       "      <th>latitud</th>\n",
       "      <th>tempo</th>\n",
       "    </tr>\n",
       "  </thead>\n",
       "  <tbody>\n",
       "    <tr>\n",
       "      <th>1303560</th>\n",
       "      <td>1972</td>\n",
       "      <td>Febrero</td>\n",
       "      <td>1972-02-27 20:26:00</td>\n",
       "      <td>2021</td>\n",
       "      <td>Septiembre</td>\n",
       "      <td>2021-09-25 21:06:29</td>\n",
       "      <td>DAÑO EN PROPIEDAD AJENA INTENCIONAL</td>\n",
       "      <td>AGENCIA DE DENUNCIA DIGITAL</td>\n",
       "      <td>CEN-1</td>\n",
       "      <td>Unidad de Investigación 1 S/D</td>\n",
       "      <td>DELITO DE BAJO IMPACTO</td>\n",
       "      <td>1 LEONARDO CHÁVEZ</td>\n",
       "      <td>COMBATE DE CELAYA</td>\n",
       "      <td>UNIDAD VICENTE GUERRERO</td>\n",
       "      <td>IZTAPALAPA</td>\n",
       "      <td>FUERO COMUN</td>\n",
       "      <td>-99.0568309004107</td>\n",
       "      <td>19.356887769104</td>\n",
       "      <td>NaN</td>\n",
       "    </tr>\n",
       "    <tr>\n",
       "      <th>1375229</th>\n",
       "      <td>1986</td>\n",
       "      <td>Noviembre</td>\n",
       "      <td>1986-11-01 12:00:00</td>\n",
       "      <td>2022</td>\n",
       "      <td>Enero</td>\n",
       "      <td>2022-01-18 10:52:00</td>\n",
       "      <td>DAÑO EN PROPIEDAD AJENA INTENCIONAL</td>\n",
       "      <td>FISCALÍA DE INVESTIGACIÓN TERRITORIAL EN CUAUH...</td>\n",
       "      <td>CUH-4</td>\n",
       "      <td>UI-1SD</td>\n",
       "      <td>DELITO DE BAJO IMPACTO</td>\n",
       "      <td>JOSE JOAQUIN HERRARA</td>\n",
       "      <td>MANUEL DOBLADO</td>\n",
       "      <td>CENTRO</td>\n",
       "      <td>CUAUHTEMOC</td>\n",
       "      <td>FUERO COMUN</td>\n",
       "      <td>-99.1249658201799</td>\n",
       "      <td>19.4387925430714</td>\n",
       "      <td>NaN</td>\n",
       "    </tr>\n",
       "    <tr>\n",
       "      <th>1372482</th>\n",
       "      <td>1989</td>\n",
       "      <td>Agosto</td>\n",
       "      <td>1989-08-02 13:59:00</td>\n",
       "      <td>2022</td>\n",
       "      <td>Enero</td>\n",
       "      <td>2022-01-12 21:38:00</td>\n",
       "      <td>DAÑO EN PROPIEDAD AJENA INTENCIONAL</td>\n",
       "      <td>AGENCIA DE DENUNCIA DIGITAL</td>\n",
       "      <td>CEN-1</td>\n",
       "      <td>Unidad de Investigación 1 S/D</td>\n",
       "      <td>DELITO DE BAJO IMPACTO</td>\n",
       "      <td>COSTA</td>\n",
       "      <td>REMOLINO</td>\n",
       "      <td>AMPLIACIÓN ALPES</td>\n",
       "      <td>ALVARO OBREGON</td>\n",
       "      <td>FUERO COMUN</td>\n",
       "      <td>-99.2105220298719</td>\n",
       "      <td>19.3572110133824</td>\n",
       "      <td>NaN</td>\n",
       "    </tr>\n",
       "    <tr>\n",
       "      <th>1107739</th>\n",
       "      <td>1996</td>\n",
       "      <td>Noviembre</td>\n",
       "      <td>1996-11-12 01:54:00</td>\n",
       "      <td>2020</td>\n",
       "      <td>Noviembre</td>\n",
       "      <td>2020-11-12 04:32:18</td>\n",
       "      <td>DAÑO EN PROPIEDAD AJENA INTENCIONAL</td>\n",
       "      <td>FISCALÍA DE INVESTIGACIÓN TERRITORIAL EN IZTAP...</td>\n",
       "      <td>IZP-5</td>\n",
       "      <td>UI-3CD</td>\n",
       "      <td>DELITO DE BAJO IMPACTO</td>\n",
       "      <td>ERMITA IZTAPALAPA</td>\n",
       "      <td>NaN</td>\n",
       "      <td>SANTA MARTHA ACATITLA</td>\n",
       "      <td>IZTAPALAPA</td>\n",
       "      <td>FUERO COMUN</td>\n",
       "      <td>-99.0021821342655</td>\n",
       "      <td>19.3576916189887</td>\n",
       "      <td>NaN</td>\n",
       "    </tr>\n",
       "    <tr>\n",
       "      <th>345645</th>\n",
       "      <td>2001</td>\n",
       "      <td>Marzo</td>\n",
       "      <td>2001-03-16 22:03:00</td>\n",
       "      <td>2017</td>\n",
       "      <td>Marzo</td>\n",
       "      <td>2017-03-29 21:23:32</td>\n",
       "      <td>DAÑO EN PROPIEDAD AJENA INTENCIONAL</td>\n",
       "      <td>INVESTIGACIÓN EN IZTAPALAPA</td>\n",
       "      <td>IZP-9</td>\n",
       "      <td>UI-3SD</td>\n",
       "      <td>DELITO DE BAJO IMPACTO</td>\n",
       "      <td>AIDA</td>\n",
       "      <td>NaN</td>\n",
       "      <td>2A. AMPLIACIÓN SANTIAGO ACAHUALTEPEC</td>\n",
       "      <td>IZTAPALAPA</td>\n",
       "      <td>NaN</td>\n",
       "      <td>-99.014472697062</td>\n",
       "      <td>19.3484287397097</td>\n",
       "      <td>NaN</td>\n",
       "    </tr>\n",
       "    <tr>\n",
       "      <th>...</th>\n",
       "      <td>...</td>\n",
       "      <td>...</td>\n",
       "      <td>...</td>\n",
       "      <td>...</td>\n",
       "      <td>...</td>\n",
       "      <td>...</td>\n",
       "      <td>...</td>\n",
       "      <td>...</td>\n",
       "      <td>...</td>\n",
       "      <td>...</td>\n",
       "      <td>...</td>\n",
       "      <td>...</td>\n",
       "      <td>...</td>\n",
       "      <td>...</td>\n",
       "      <td>...</td>\n",
       "      <td>...</td>\n",
       "      <td>...</td>\n",
       "      <td>...</td>\n",
       "      <td>...</td>\n",
       "    </tr>\n",
       "    <tr>\n",
       "      <th>1379821</th>\n",
       "      <td>2022</td>\n",
       "      <td>Enero</td>\n",
       "      <td>2022-01-11 10:00:00</td>\n",
       "      <td>2022</td>\n",
       "      <td>Enero</td>\n",
       "      <td>2022-01-26 11:35:00</td>\n",
       "      <td>DAÑO EN PROPIEDAD AJENA INTENCIONAL</td>\n",
       "      <td>FISCALÍA DE INVESTIGACIÓN TERRITORIAL EN MILPA...</td>\n",
       "      <td>UAT-MIL-1</td>\n",
       "      <td>UI-1SD</td>\n",
       "      <td>DELITO DE BAJO IMPACTO</td>\n",
       "      <td>PRIMER CALLEJON  INDEENDENCIA  NUMERO 03</td>\n",
       "      <td>NaN</td>\n",
       "      <td>PANCHIMALCO (SAN PEDRO ATOCPAN)</td>\n",
       "      <td>MILPA ALTA</td>\n",
       "      <td>FUERO COMUN</td>\n",
       "      <td>-99.0452243102281</td>\n",
       "      <td>19.2027794861998</td>\n",
       "      <td>NaN</td>\n",
       "    </tr>\n",
       "    <tr>\n",
       "      <th>1379736</th>\n",
       "      <td>2022</td>\n",
       "      <td>Enero</td>\n",
       "      <td>2022-01-26 07:30:00</td>\n",
       "      <td>2022</td>\n",
       "      <td>Enero</td>\n",
       "      <td>2022-01-26 08:39:00</td>\n",
       "      <td>DAÑO EN PROPIEDAD AJENA INTENCIONAL</td>\n",
       "      <td>FISCALÍA DE INVESTIGACIÓN TERRITORIAL EN CUAUH...</td>\n",
       "      <td>CUH-2</td>\n",
       "      <td>UI-3CD</td>\n",
       "      <td>DELITO DE BAJO IMPACTO</td>\n",
       "      <td>RIBERA DE SAN COSME</td>\n",
       "      <td>NaN</td>\n",
       "      <td>SANTA MARIA LA RIBERA</td>\n",
       "      <td>CUAUHTEMOC</td>\n",
       "      <td>FUERO COMUN</td>\n",
       "      <td>-99.1569104798388</td>\n",
       "      <td>19.4405834492559</td>\n",
       "      <td>NaN</td>\n",
       "    </tr>\n",
       "    <tr>\n",
       "      <th>1379095</th>\n",
       "      <td>2022</td>\n",
       "      <td>Enero</td>\n",
       "      <td>2022-01-23 17:00:00</td>\n",
       "      <td>2022</td>\n",
       "      <td>Enero</td>\n",
       "      <td>2022-01-25 09:50:00</td>\n",
       "      <td>DAÑO EN PROPIEDAD AJENA INTENCIONAL</td>\n",
       "      <td>FISCALÍA DE INVESTIGACIÓN TERRITORIAL EN CUAUH...</td>\n",
       "      <td>UAT-CUH-8</td>\n",
       "      <td>UI-1SD</td>\n",
       "      <td>DELITO DE BAJO IMPACTO</td>\n",
       "      <td>JOSE ANTONIO TORRES</td>\n",
       "      <td>NaN</td>\n",
       "      <td>ASTURIAS</td>\n",
       "      <td>CUAUHTEMOC</td>\n",
       "      <td>FUERO COMUN</td>\n",
       "      <td>-99.1341755196186</td>\n",
       "      <td>19.4036526130825</td>\n",
       "      <td>NaN</td>\n",
       "    </tr>\n",
       "    <tr>\n",
       "      <th>1380318</th>\n",
       "      <td>2022</td>\n",
       "      <td>Enero</td>\n",
       "      <td>2022-01-26 17:30:00</td>\n",
       "      <td>2022</td>\n",
       "      <td>Enero</td>\n",
       "      <td>2022-01-27 00:15:00</td>\n",
       "      <td>DAÑO EN PROPIEDAD AJENA INTENCIONAL</td>\n",
       "      <td>FISCALÍA DE INVESTIGACIÓN TERRITORIAL EN XOCHI...</td>\n",
       "      <td>UAT-XO-2</td>\n",
       "      <td>UI-1SD</td>\n",
       "      <td>DELITO DE BAJO IMPACTO</td>\n",
       "      <td>CERRADA VIOLETA</td>\n",
       "      <td>NaN</td>\n",
       "      <td>BARRIO 18</td>\n",
       "      <td>XOCHIMILCO</td>\n",
       "      <td>FUERO COMUN</td>\n",
       "      <td>-99.1121988099598</td>\n",
       "      <td>19.2813028171117</td>\n",
       "      <td>NaN</td>\n",
       "    </tr>\n",
       "    <tr>\n",
       "      <th>1401295</th>\n",
       "      <td>2022</td>\n",
       "      <td>Enero</td>\n",
       "      <td>2022-01-19 14:30:00</td>\n",
       "      <td>2022</td>\n",
       "      <td>Febrero</td>\n",
       "      <td>2022-02-28 23:01:22</td>\n",
       "      <td>DAÑO EN PROPIEDAD AJENA INTENCIONAL</td>\n",
       "      <td>FISCALÍA DE INVESTIGACIÓN TERRITORIAL EN TLALPAN</td>\n",
       "      <td>UAT-TLP-1</td>\n",
       "      <td>UI-1SD</td>\n",
       "      <td>DELITO DE BAJO IMPACTO</td>\n",
       "      <td>CANCUN</td>\n",
       "      <td>NaN</td>\n",
       "      <td>HÉROES DE PADIERNA</td>\n",
       "      <td>TLALPAN</td>\n",
       "      <td>FUERO COMUN</td>\n",
       "      <td>-99.2202128696196</td>\n",
       "      <td>19.2867465468609</td>\n",
       "      <td>NaN</td>\n",
       "    </tr>\n",
       "  </tbody>\n",
       "</table>\n",
       "<p>15005 rows × 19 columns</p>\n",
       "</div>"
      ],
      "text/plain": [
       "        ao_hechos mes_hechos        fecha_hechos ao_inicio  mes_inicio  \\\n",
       "1303560      1972    Febrero 1972-02-27 20:26:00      2021  Septiembre   \n",
       "1375229      1986  Noviembre 1986-11-01 12:00:00      2022       Enero   \n",
       "1372482      1989     Agosto 1989-08-02 13:59:00      2022       Enero   \n",
       "1107739      1996  Noviembre 1996-11-12 01:54:00      2020   Noviembre   \n",
       "345645       2001      Marzo 2001-03-16 22:03:00      2017       Marzo   \n",
       "...           ...        ...                 ...       ...         ...   \n",
       "1379821      2022      Enero 2022-01-11 10:00:00      2022       Enero   \n",
       "1379736      2022      Enero 2022-01-26 07:30:00      2022       Enero   \n",
       "1379095      2022      Enero 2022-01-23 17:00:00      2022       Enero   \n",
       "1380318      2022      Enero 2022-01-26 17:30:00      2022       Enero   \n",
       "1401295      2022      Enero 2022-01-19 14:30:00      2022     Febrero   \n",
       "\n",
       "               fecha_inicio                               delito  \\\n",
       "1303560 2021-09-25 21:06:29  DAÑO EN PROPIEDAD AJENA INTENCIONAL   \n",
       "1375229 2022-01-18 10:52:00  DAÑO EN PROPIEDAD AJENA INTENCIONAL   \n",
       "1372482 2022-01-12 21:38:00  DAÑO EN PROPIEDAD AJENA INTENCIONAL   \n",
       "1107739 2020-11-12 04:32:18  DAÑO EN PROPIEDAD AJENA INTENCIONAL   \n",
       "345645  2017-03-29 21:23:32  DAÑO EN PROPIEDAD AJENA INTENCIONAL   \n",
       "...                     ...                                  ...   \n",
       "1379821 2022-01-26 11:35:00  DAÑO EN PROPIEDAD AJENA INTENCIONAL   \n",
       "1379736 2022-01-26 08:39:00  DAÑO EN PROPIEDAD AJENA INTENCIONAL   \n",
       "1379095 2022-01-25 09:50:00  DAÑO EN PROPIEDAD AJENA INTENCIONAL   \n",
       "1380318 2022-01-27 00:15:00  DAÑO EN PROPIEDAD AJENA INTENCIONAL   \n",
       "1401295 2022-02-28 23:01:22  DAÑO EN PROPIEDAD AJENA INTENCIONAL   \n",
       "\n",
       "                                                  fiscalia    agencia  \\\n",
       "1303560                        AGENCIA DE DENUNCIA DIGITAL      CEN-1   \n",
       "1375229  FISCALÍA DE INVESTIGACIÓN TERRITORIAL EN CUAUH...      CUH-4   \n",
       "1372482                        AGENCIA DE DENUNCIA DIGITAL      CEN-1   \n",
       "1107739  FISCALÍA DE INVESTIGACIÓN TERRITORIAL EN IZTAP...      IZP-5   \n",
       "345645                         INVESTIGACIÓN EN IZTAPALAPA      IZP-9   \n",
       "...                                                    ...        ...   \n",
       "1379821  FISCALÍA DE INVESTIGACIÓN TERRITORIAL EN MILPA...  UAT-MIL-1   \n",
       "1379736  FISCALÍA DE INVESTIGACIÓN TERRITORIAL EN CUAUH...      CUH-2   \n",
       "1379095  FISCALÍA DE INVESTIGACIÓN TERRITORIAL EN CUAUH...  UAT-CUH-8   \n",
       "1380318  FISCALÍA DE INVESTIGACIÓN TERRITORIAL EN XOCHI...   UAT-XO-2   \n",
       "1401295   FISCALÍA DE INVESTIGACIÓN TERRITORIAL EN TLALPAN  UAT-TLP-1   \n",
       "\n",
       "                  unidad_investigacion        categoria_delito  \\\n",
       "1303560  Unidad de Investigación 1 S/D  DELITO DE BAJO IMPACTO   \n",
       "1375229                         UI-1SD  DELITO DE BAJO IMPACTO   \n",
       "1372482  Unidad de Investigación 1 S/D  DELITO DE BAJO IMPACTO   \n",
       "1107739                         UI-3CD  DELITO DE BAJO IMPACTO   \n",
       "345645                          UI-3SD  DELITO DE BAJO IMPACTO   \n",
       "...                                ...                     ...   \n",
       "1379821                         UI-1SD  DELITO DE BAJO IMPACTO   \n",
       "1379736                         UI-3CD  DELITO DE BAJO IMPACTO   \n",
       "1379095                         UI-1SD  DELITO DE BAJO IMPACTO   \n",
       "1380318                         UI-1SD  DELITO DE BAJO IMPACTO   \n",
       "1401295                         UI-1SD  DELITO DE BAJO IMPACTO   \n",
       "\n",
       "                                     calle_hechos      calle_hechos2  \\\n",
       "1303560                         1 LEONARDO CHÁVEZ  COMBATE DE CELAYA   \n",
       "1375229                      JOSE JOAQUIN HERRARA     MANUEL DOBLADO   \n",
       "1372482                                     COSTA           REMOLINO   \n",
       "1107739                         ERMITA IZTAPALAPA                NaN   \n",
       "345645                                       AIDA                NaN   \n",
       "...                                           ...                ...   \n",
       "1379821  PRIMER CALLEJON  INDEENDENCIA  NUMERO 03                NaN   \n",
       "1379736                       RIBERA DE SAN COSME                NaN   \n",
       "1379095                       JOSE ANTONIO TORRES                NaN   \n",
       "1380318                           CERRADA VIOLETA                NaN   \n",
       "1401295                                    CANCUN                NaN   \n",
       "\n",
       "                               colonia_hechos alcaldia_hechos  competencia  \\\n",
       "1303560               UNIDAD VICENTE GUERRERO      IZTAPALAPA  FUERO COMUN   \n",
       "1375229                                CENTRO      CUAUHTEMOC  FUERO COMUN   \n",
       "1372482                      AMPLIACIÓN ALPES  ALVARO OBREGON  FUERO COMUN   \n",
       "1107739                 SANTA MARTHA ACATITLA      IZTAPALAPA  FUERO COMUN   \n",
       "345645   2A. AMPLIACIÓN SANTIAGO ACAHUALTEPEC      IZTAPALAPA          NaN   \n",
       "...                                       ...             ...          ...   \n",
       "1379821       PANCHIMALCO (SAN PEDRO ATOCPAN)      MILPA ALTA  FUERO COMUN   \n",
       "1379736                 SANTA MARIA LA RIBERA      CUAUHTEMOC  FUERO COMUN   \n",
       "1379095                              ASTURIAS      CUAUHTEMOC  FUERO COMUN   \n",
       "1380318                             BARRIO 18      XOCHIMILCO  FUERO COMUN   \n",
       "1401295                    HÉROES DE PADIERNA         TLALPAN  FUERO COMUN   \n",
       "\n",
       "                  longitud           latitud tempo  \n",
       "1303560  -99.0568309004107   19.356887769104   NaN  \n",
       "1375229  -99.1249658201799  19.4387925430714   NaN  \n",
       "1372482  -99.2105220298719  19.3572110133824   NaN  \n",
       "1107739  -99.0021821342655  19.3576916189887   NaN  \n",
       "345645    -99.014472697062  19.3484287397097   NaN  \n",
       "...                    ...               ...   ...  \n",
       "1379821  -99.0452243102281  19.2027794861998   NaN  \n",
       "1379736  -99.1569104798388  19.4405834492559   NaN  \n",
       "1379095  -99.1341755196186  19.4036526130825   NaN  \n",
       "1380318  -99.1121988099598  19.2813028171117   NaN  \n",
       "1401295  -99.2202128696196  19.2867465468609   NaN  \n",
       "\n",
       "[15005 rows x 19 columns]"
      ]
     },
     "execution_count": 116,
     "metadata": {},
     "output_type": "execute_result"
    }
   ],
   "source": [
    "primer_delito.sort_values('ao_hechos')"
   ]
  },
  {
   "cell_type": "code",
   "execution_count": null,
   "id": "6ec744d7",
   "metadata": {},
   "outputs": [],
   "source": []
  }
 ],
 "metadata": {
  "kernelspec": {
   "display_name": "Python 3 (ipykernel)",
   "language": "python",
   "name": "python3"
  },
  "language_info": {
   "codemirror_mode": {
    "name": "ipython",
    "version": 3
   },
   "file_extension": ".py",
   "mimetype": "text/x-python",
   "name": "python",
   "nbconvert_exporter": "python",
   "pygments_lexer": "ipython3",
   "version": "3.8.12"
  }
 },
 "nbformat": 4,
 "nbformat_minor": 5
}
